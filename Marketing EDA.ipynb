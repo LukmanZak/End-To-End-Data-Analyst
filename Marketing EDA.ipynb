{
 "cells": [
  {
   "cell_type": "markdown",
   "id": "15e264c9",
   "metadata": {},
   "source": [
    "# Marketing Exploratory Data Analysis (EDA)"
   ]
  },
  {
   "cell_type": "markdown",
   "id": "239f5571",
   "metadata": {},
   "source": [
    "Persoalan Pertama:\n",
    "- Cek apakah format data sudah sesuai\n",
    "- Cek apakah ada data yang kosong dan outliers(data yang bernilai ekstrem), jika ada bagaimana mengatasinya?\n",
    "- Apakah ada variabel baru yang bisa memberikan insight lebih?\n",
    "- Apakah ada pola aneh dalam data? Bisakah kamu memperlihatkannya?\n",
    "- Apakah ada relasi antara latar belakang/kondisi pelanggan terhadap kebiasaan berbelanja? "
   ]
  },
  {
   "cell_type": "markdown",
   "id": "ae750e7f",
   "metadata": {},
   "source": [
    "Persoalan Kedua:\n",
    "- Kampanye iklan mana yang paling sukses?\n",
    "- Gambaran umum mengenai latar belakang pelanggan \n",
    "- Produk apa yang banyak diminati pelanggan?\n",
    "- Melalui apa pelanggan banyak berbelanja?(Toko, Website, Katalog, Diskon)\n",
    "- Distribusi dari tiap data yang bisa diambil\n",
    "- Tampilkan BarChart dari kategori, produk, dan sebagainya\n",
    "- Tampilkan komplain yang belum direspon"
   ]
  },
  {
   "cell_type": "code",
   "execution_count": 73,
   "id": "d41d42bd",
   "metadata": {},
   "outputs": [],
   "source": [
    "import numpy as np\n",
    "import pandas as pd\n",
    "import matplotlib\n",
    "import matplotlib.pyplot as plt\n",
    "import seaborn as sns\n",
    "\n",
    "%matplotlib inline"
   ]
  },
  {
   "cell_type": "code",
   "execution_count": 74,
   "id": "9bc005e5",
   "metadata": {},
   "outputs": [
    {
     "data": {
      "text/html": [
       "<div>\n",
       "<style scoped>\n",
       "    .dataframe tbody tr th:only-of-type {\n",
       "        vertical-align: middle;\n",
       "    }\n",
       "\n",
       "    .dataframe tbody tr th {\n",
       "        vertical-align: top;\n",
       "    }\n",
       "\n",
       "    .dataframe thead th {\n",
       "        text-align: right;\n",
       "    }\n",
       "</style>\n",
       "<table border=\"1\" class=\"dataframe\">\n",
       "  <thead>\n",
       "    <tr style=\"text-align: right;\">\n",
       "      <th></th>\n",
       "      <th>Income</th>\n",
       "      <th>Kidhome</th>\n",
       "      <th>Teenhome</th>\n",
       "      <th>Recency</th>\n",
       "      <th>MntWines</th>\n",
       "      <th>MntFruits</th>\n",
       "      <th>MntMeatProducts</th>\n",
       "      <th>MntFishProducts</th>\n",
       "      <th>MntSweetProducts</th>\n",
       "      <th>MntGoldProds</th>\n",
       "      <th>...</th>\n",
       "      <th>marital_Together</th>\n",
       "      <th>marital_Widow</th>\n",
       "      <th>education_2n Cycle</th>\n",
       "      <th>education_Basic</th>\n",
       "      <th>education_Graduation</th>\n",
       "      <th>education_Master</th>\n",
       "      <th>education_PhD</th>\n",
       "      <th>MntTotal</th>\n",
       "      <th>MntRegularProds</th>\n",
       "      <th>AcceptedCmpOverall</th>\n",
       "    </tr>\n",
       "  </thead>\n",
       "  <tbody>\n",
       "    <tr>\n",
       "      <th>0</th>\n",
       "      <td>58138.0</td>\n",
       "      <td>0</td>\n",
       "      <td>0</td>\n",
       "      <td>58</td>\n",
       "      <td>635</td>\n",
       "      <td>88</td>\n",
       "      <td>546</td>\n",
       "      <td>172</td>\n",
       "      <td>88</td>\n",
       "      <td>88</td>\n",
       "      <td>...</td>\n",
       "      <td>0</td>\n",
       "      <td>0</td>\n",
       "      <td>0</td>\n",
       "      <td>0</td>\n",
       "      <td>1</td>\n",
       "      <td>0</td>\n",
       "      <td>0</td>\n",
       "      <td>1529</td>\n",
       "      <td>1441</td>\n",
       "      <td>0</td>\n",
       "    </tr>\n",
       "    <tr>\n",
       "      <th>1</th>\n",
       "      <td>46344.0</td>\n",
       "      <td>1</td>\n",
       "      <td>1</td>\n",
       "      <td>38</td>\n",
       "      <td>11</td>\n",
       "      <td>1</td>\n",
       "      <td>6</td>\n",
       "      <td>2</td>\n",
       "      <td>1</td>\n",
       "      <td>6</td>\n",
       "      <td>...</td>\n",
       "      <td>0</td>\n",
       "      <td>0</td>\n",
       "      <td>0</td>\n",
       "      <td>0</td>\n",
       "      <td>1</td>\n",
       "      <td>0</td>\n",
       "      <td>0</td>\n",
       "      <td>21</td>\n",
       "      <td>15</td>\n",
       "      <td>0</td>\n",
       "    </tr>\n",
       "    <tr>\n",
       "      <th>2</th>\n",
       "      <td>71613.0</td>\n",
       "      <td>0</td>\n",
       "      <td>0</td>\n",
       "      <td>26</td>\n",
       "      <td>426</td>\n",
       "      <td>49</td>\n",
       "      <td>127</td>\n",
       "      <td>111</td>\n",
       "      <td>21</td>\n",
       "      <td>42</td>\n",
       "      <td>...</td>\n",
       "      <td>1</td>\n",
       "      <td>0</td>\n",
       "      <td>0</td>\n",
       "      <td>0</td>\n",
       "      <td>1</td>\n",
       "      <td>0</td>\n",
       "      <td>0</td>\n",
       "      <td>734</td>\n",
       "      <td>692</td>\n",
       "      <td>0</td>\n",
       "    </tr>\n",
       "    <tr>\n",
       "      <th>3</th>\n",
       "      <td>26646.0</td>\n",
       "      <td>1</td>\n",
       "      <td>0</td>\n",
       "      <td>26</td>\n",
       "      <td>11</td>\n",
       "      <td>4</td>\n",
       "      <td>20</td>\n",
       "      <td>10</td>\n",
       "      <td>3</td>\n",
       "      <td>5</td>\n",
       "      <td>...</td>\n",
       "      <td>1</td>\n",
       "      <td>0</td>\n",
       "      <td>0</td>\n",
       "      <td>0</td>\n",
       "      <td>1</td>\n",
       "      <td>0</td>\n",
       "      <td>0</td>\n",
       "      <td>48</td>\n",
       "      <td>43</td>\n",
       "      <td>0</td>\n",
       "    </tr>\n",
       "    <tr>\n",
       "      <th>4</th>\n",
       "      <td>58293.0</td>\n",
       "      <td>1</td>\n",
       "      <td>0</td>\n",
       "      <td>94</td>\n",
       "      <td>173</td>\n",
       "      <td>43</td>\n",
       "      <td>118</td>\n",
       "      <td>46</td>\n",
       "      <td>27</td>\n",
       "      <td>15</td>\n",
       "      <td>...</td>\n",
       "      <td>0</td>\n",
       "      <td>0</td>\n",
       "      <td>0</td>\n",
       "      <td>0</td>\n",
       "      <td>0</td>\n",
       "      <td>0</td>\n",
       "      <td>1</td>\n",
       "      <td>407</td>\n",
       "      <td>392</td>\n",
       "      <td>0</td>\n",
       "    </tr>\n",
       "    <tr>\n",
       "      <th>...</th>\n",
       "      <td>...</td>\n",
       "      <td>...</td>\n",
       "      <td>...</td>\n",
       "      <td>...</td>\n",
       "      <td>...</td>\n",
       "      <td>...</td>\n",
       "      <td>...</td>\n",
       "      <td>...</td>\n",
       "      <td>...</td>\n",
       "      <td>...</td>\n",
       "      <td>...</td>\n",
       "      <td>...</td>\n",
       "      <td>...</td>\n",
       "      <td>...</td>\n",
       "      <td>...</td>\n",
       "      <td>...</td>\n",
       "      <td>...</td>\n",
       "      <td>...</td>\n",
       "      <td>...</td>\n",
       "      <td>...</td>\n",
       "      <td>...</td>\n",
       "    </tr>\n",
       "    <tr>\n",
       "      <th>2200</th>\n",
       "      <td>61223.0</td>\n",
       "      <td>0</td>\n",
       "      <td>1</td>\n",
       "      <td>46</td>\n",
       "      <td>709</td>\n",
       "      <td>43</td>\n",
       "      <td>182</td>\n",
       "      <td>42</td>\n",
       "      <td>118</td>\n",
       "      <td>247</td>\n",
       "      <td>...</td>\n",
       "      <td>0</td>\n",
       "      <td>0</td>\n",
       "      <td>0</td>\n",
       "      <td>0</td>\n",
       "      <td>1</td>\n",
       "      <td>0</td>\n",
       "      <td>0</td>\n",
       "      <td>1094</td>\n",
       "      <td>847</td>\n",
       "      <td>0</td>\n",
       "    </tr>\n",
       "    <tr>\n",
       "      <th>2201</th>\n",
       "      <td>64014.0</td>\n",
       "      <td>2</td>\n",
       "      <td>1</td>\n",
       "      <td>56</td>\n",
       "      <td>406</td>\n",
       "      <td>0</td>\n",
       "      <td>30</td>\n",
       "      <td>0</td>\n",
       "      <td>0</td>\n",
       "      <td>8</td>\n",
       "      <td>...</td>\n",
       "      <td>1</td>\n",
       "      <td>0</td>\n",
       "      <td>0</td>\n",
       "      <td>0</td>\n",
       "      <td>0</td>\n",
       "      <td>0</td>\n",
       "      <td>1</td>\n",
       "      <td>436</td>\n",
       "      <td>428</td>\n",
       "      <td>1</td>\n",
       "    </tr>\n",
       "    <tr>\n",
       "      <th>2202</th>\n",
       "      <td>56981.0</td>\n",
       "      <td>0</td>\n",
       "      <td>0</td>\n",
       "      <td>91</td>\n",
       "      <td>908</td>\n",
       "      <td>48</td>\n",
       "      <td>217</td>\n",
       "      <td>32</td>\n",
       "      <td>12</td>\n",
       "      <td>24</td>\n",
       "      <td>...</td>\n",
       "      <td>0</td>\n",
       "      <td>0</td>\n",
       "      <td>0</td>\n",
       "      <td>0</td>\n",
       "      <td>1</td>\n",
       "      <td>0</td>\n",
       "      <td>0</td>\n",
       "      <td>1217</td>\n",
       "      <td>1193</td>\n",
       "      <td>1</td>\n",
       "    </tr>\n",
       "    <tr>\n",
       "      <th>2203</th>\n",
       "      <td>69245.0</td>\n",
       "      <td>0</td>\n",
       "      <td>1</td>\n",
       "      <td>8</td>\n",
       "      <td>428</td>\n",
       "      <td>30</td>\n",
       "      <td>214</td>\n",
       "      <td>80</td>\n",
       "      <td>30</td>\n",
       "      <td>61</td>\n",
       "      <td>...</td>\n",
       "      <td>1</td>\n",
       "      <td>0</td>\n",
       "      <td>0</td>\n",
       "      <td>0</td>\n",
       "      <td>0</td>\n",
       "      <td>1</td>\n",
       "      <td>0</td>\n",
       "      <td>782</td>\n",
       "      <td>721</td>\n",
       "      <td>0</td>\n",
       "    </tr>\n",
       "    <tr>\n",
       "      <th>2204</th>\n",
       "      <td>52869.0</td>\n",
       "      <td>1</td>\n",
       "      <td>1</td>\n",
       "      <td>40</td>\n",
       "      <td>84</td>\n",
       "      <td>3</td>\n",
       "      <td>61</td>\n",
       "      <td>2</td>\n",
       "      <td>1</td>\n",
       "      <td>21</td>\n",
       "      <td>...</td>\n",
       "      <td>0</td>\n",
       "      <td>0</td>\n",
       "      <td>0</td>\n",
       "      <td>0</td>\n",
       "      <td>0</td>\n",
       "      <td>0</td>\n",
       "      <td>1</td>\n",
       "      <td>151</td>\n",
       "      <td>130</td>\n",
       "      <td>0</td>\n",
       "    </tr>\n",
       "  </tbody>\n",
       "</table>\n",
       "<p>2205 rows × 39 columns</p>\n",
       "</div>"
      ],
      "text/plain": [
       "       Income  Kidhome  Teenhome  Recency  MntWines  MntFruits  \\\n",
       "0     58138.0        0         0       58       635         88   \n",
       "1     46344.0        1         1       38        11          1   \n",
       "2     71613.0        0         0       26       426         49   \n",
       "3     26646.0        1         0       26        11          4   \n",
       "4     58293.0        1         0       94       173         43   \n",
       "...       ...      ...       ...      ...       ...        ...   \n",
       "2200  61223.0        0         1       46       709         43   \n",
       "2201  64014.0        2         1       56       406          0   \n",
       "2202  56981.0        0         0       91       908         48   \n",
       "2203  69245.0        0         1        8       428         30   \n",
       "2204  52869.0        1         1       40        84          3   \n",
       "\n",
       "      MntMeatProducts  MntFishProducts  MntSweetProducts  MntGoldProds  ...  \\\n",
       "0                 546              172                88            88  ...   \n",
       "1                   6                2                 1             6  ...   \n",
       "2                 127              111                21            42  ...   \n",
       "3                  20               10                 3             5  ...   \n",
       "4                 118               46                27            15  ...   \n",
       "...               ...              ...               ...           ...  ...   \n",
       "2200              182               42               118           247  ...   \n",
       "2201               30                0                 0             8  ...   \n",
       "2202              217               32                12            24  ...   \n",
       "2203              214               80                30            61  ...   \n",
       "2204               61                2                 1            21  ...   \n",
       "\n",
       "      marital_Together  marital_Widow  education_2n Cycle  education_Basic  \\\n",
       "0                    0              0                   0                0   \n",
       "1                    0              0                   0                0   \n",
       "2                    1              0                   0                0   \n",
       "3                    1              0                   0                0   \n",
       "4                    0              0                   0                0   \n",
       "...                ...            ...                 ...              ...   \n",
       "2200                 0              0                   0                0   \n",
       "2201                 1              0                   0                0   \n",
       "2202                 0              0                   0                0   \n",
       "2203                 1              0                   0                0   \n",
       "2204                 0              0                   0                0   \n",
       "\n",
       "      education_Graduation  education_Master  education_PhD  MntTotal  \\\n",
       "0                        1                 0              0      1529   \n",
       "1                        1                 0              0        21   \n",
       "2                        1                 0              0       734   \n",
       "3                        1                 0              0        48   \n",
       "4                        0                 0              1       407   \n",
       "...                    ...               ...            ...       ...   \n",
       "2200                     1                 0              0      1094   \n",
       "2201                     0                 0              1       436   \n",
       "2202                     1                 0              0      1217   \n",
       "2203                     0                 1              0       782   \n",
       "2204                     0                 0              1       151   \n",
       "\n",
       "      MntRegularProds  AcceptedCmpOverall  \n",
       "0                1441                   0  \n",
       "1                  15                   0  \n",
       "2                 692                   0  \n",
       "3                  43                   0  \n",
       "4                 392                   0  \n",
       "...               ...                 ...  \n",
       "2200              847                   0  \n",
       "2201              428                   1  \n",
       "2202             1193                   1  \n",
       "2203              721                   0  \n",
       "2204              130                   0  \n",
       "\n",
       "[2205 rows x 39 columns]"
      ]
     },
     "execution_count": 74,
     "metadata": {},
     "output_type": "execute_result"
    }
   ],
   "source": [
    "df = pd.read_csv('ifood_df.csv')\n",
    "df"
   ]
  },
  {
   "cell_type": "code",
   "execution_count": 75,
   "id": "ce00f0d5",
   "metadata": {},
   "outputs": [
    {
     "name": "stdout",
     "output_type": "stream",
     "text": [
      "<class 'pandas.core.frame.DataFrame'>\n",
      "RangeIndex: 2205 entries, 0 to 2204\n",
      "Data columns (total 39 columns):\n",
      " #   Column                Non-Null Count  Dtype  \n",
      "---  ------                --------------  -----  \n",
      " 0   Income                2205 non-null   float64\n",
      " 1   Kidhome               2205 non-null   int64  \n",
      " 2   Teenhome              2205 non-null   int64  \n",
      " 3   Recency               2205 non-null   int64  \n",
      " 4   MntWines              2205 non-null   int64  \n",
      " 5   MntFruits             2205 non-null   int64  \n",
      " 6   MntMeatProducts       2205 non-null   int64  \n",
      " 7   MntFishProducts       2205 non-null   int64  \n",
      " 8   MntSweetProducts      2205 non-null   int64  \n",
      " 9   MntGoldProds          2205 non-null   int64  \n",
      " 10  NumDealsPurchases     2205 non-null   int64  \n",
      " 11  NumWebPurchases       2205 non-null   int64  \n",
      " 12  NumCatalogPurchases   2205 non-null   int64  \n",
      " 13  NumStorePurchases     2205 non-null   int64  \n",
      " 14  NumWebVisitsMonth     2205 non-null   int64  \n",
      " 15  AcceptedCmp3          2205 non-null   int64  \n",
      " 16  AcceptedCmp4          2205 non-null   int64  \n",
      " 17  AcceptedCmp5          2205 non-null   int64  \n",
      " 18  AcceptedCmp1          2205 non-null   int64  \n",
      " 19  AcceptedCmp2          2205 non-null   int64  \n",
      " 20  Complain              2205 non-null   int64  \n",
      " 21  Z_CostContact         2205 non-null   int64  \n",
      " 22  Z_Revenue             2205 non-null   int64  \n",
      " 23  Response              2205 non-null   int64  \n",
      " 24  Age                   2205 non-null   int64  \n",
      " 25  Customer_Days         2205 non-null   int64  \n",
      " 26  marital_Divorced      2205 non-null   int64  \n",
      " 27  marital_Married       2205 non-null   int64  \n",
      " 28  marital_Single        2205 non-null   int64  \n",
      " 29  marital_Together      2205 non-null   int64  \n",
      " 30  marital_Widow         2205 non-null   int64  \n",
      " 31  education_2n Cycle    2205 non-null   int64  \n",
      " 32  education_Basic       2205 non-null   int64  \n",
      " 33  education_Graduation  2205 non-null   int64  \n",
      " 34  education_Master      2205 non-null   int64  \n",
      " 35  education_PhD         2205 non-null   int64  \n",
      " 36  MntTotal              2205 non-null   int64  \n",
      " 37  MntRegularProds       2205 non-null   int64  \n",
      " 38  AcceptedCmpOverall    2205 non-null   int64  \n",
      "dtypes: float64(1), int64(38)\n",
      "memory usage: 672.0 KB\n"
     ]
    }
   ],
   "source": [
    "df.info()"
   ]
  },
  {
   "cell_type": "markdown",
   "id": "724c5377",
   "metadata": {},
   "source": [
    "- Format Sudah Sesuai"
   ]
  },
  {
   "cell_type": "code",
   "execution_count": 76,
   "id": "f1ad50d9",
   "metadata": {},
   "outputs": [
    {
     "data": {
      "text/plain": [
       "184"
      ]
     },
     "execution_count": 76,
     "metadata": {},
     "output_type": "execute_result"
    }
   ],
   "source": [
    "df.duplicated().sum()"
   ]
  },
  {
   "cell_type": "code",
   "execution_count": 77,
   "id": "306c8705",
   "metadata": {},
   "outputs": [
    {
     "data": {
      "text/plain": [
       "Income                  0\n",
       "Kidhome                 0\n",
       "Teenhome                0\n",
       "Recency                 0\n",
       "MntWines                0\n",
       "MntFruits               0\n",
       "MntMeatProducts         0\n",
       "MntFishProducts         0\n",
       "MntSweetProducts        0\n",
       "MntGoldProds            0\n",
       "NumDealsPurchases       0\n",
       "NumWebPurchases         0\n",
       "NumCatalogPurchases     0\n",
       "NumStorePurchases       0\n",
       "NumWebVisitsMonth       0\n",
       "AcceptedCmp3            0\n",
       "AcceptedCmp4            0\n",
       "AcceptedCmp5            0\n",
       "AcceptedCmp1            0\n",
       "AcceptedCmp2            0\n",
       "Complain                0\n",
       "Z_CostContact           0\n",
       "Z_Revenue               0\n",
       "Response                0\n",
       "Age                     0\n",
       "Customer_Days           0\n",
       "marital_Divorced        0\n",
       "marital_Married         0\n",
       "marital_Single          0\n",
       "marital_Together        0\n",
       "marital_Widow           0\n",
       "education_2n Cycle      0\n",
       "education_Basic         0\n",
       "education_Graduation    0\n",
       "education_Master        0\n",
       "education_PhD           0\n",
       "MntTotal                0\n",
       "MntRegularProds         0\n",
       "AcceptedCmpOverall      0\n",
       "dtype: int64"
      ]
     },
     "execution_count": 77,
     "metadata": {},
     "output_type": "execute_result"
    }
   ],
   "source": [
    "df.isnull().sum()"
   ]
  },
  {
   "cell_type": "markdown",
   "id": "ad75e329",
   "metadata": {},
   "source": [
    "- Ada data duplikat tapi tidak ada data yang kosong, data duplikat perlu dihapus"
   ]
  },
  {
   "cell_type": "code",
   "execution_count": 78,
   "id": "5e047166",
   "metadata": {},
   "outputs": [
    {
     "data": {
      "text/plain": [
       "0"
      ]
     },
     "execution_count": 78,
     "metadata": {},
     "output_type": "execute_result"
    }
   ],
   "source": [
    "df = df.drop_duplicates()\n",
    "df.duplicated().sum()"
   ]
  },
  {
   "cell_type": "markdown",
   "id": "013eb6ac",
   "metadata": {},
   "source": [
    "- Data yang terduplikasi sudah dihapus"
   ]
  },
  {
   "cell_type": "code",
   "execution_count": 79,
   "id": "0576876a",
   "metadata": {},
   "outputs": [
    {
     "data": {
      "text/plain": [
       "Index(['Income', 'Recency', 'MntWines', 'MntFruits', 'MntMeatProducts',\n",
       "       'MntFishProducts', 'MntSweetProducts', 'MntGoldProds',\n",
       "       'NumDealsPurchases', 'NumWebPurchases', 'NumCatalogPurchases',\n",
       "       'NumStorePurchases', 'NumWebVisitsMonth', 'Age', 'Customer_Days',\n",
       "       'MntRegularProds'],\n",
       "      dtype='object')"
      ]
     },
     "execution_count": 79,
     "metadata": {},
     "output_type": "execute_result"
    }
   ],
   "source": [
    "remove_columns = ['Kidhome', 'Teenhome','AcceptedCmp3', 'AcceptedCmp4', 'AcceptedCmp5', 'AcceptedCmp1',\n",
    "       'AcceptedCmp2', 'Complain', 'Z_CostContact', 'Z_Revenue', 'Response','marital_Divorced', 'marital_Married',\n",
    "       'marital_Single', 'marital_Together', 'marital_Widow','education_2n Cycle', 'education_Basic', 'education_Graduation',\n",
    "       'education_Master', 'education_PhD','AcceptedCmpOverall','MntTotal']\n",
    "df_outlier = df.drop(columns=remove_columns)\n",
    "df_outlier.columns"
   ]
  },
  {
   "cell_type": "markdown",
   "id": "6a142c65",
   "metadata": {},
   "source": [
    "- Hapus kolom yang tidak dibutuhkan untuk cek outlier, contoh data dengan label 0 dan 1"
   ]
  },
  {
   "cell_type": "code",
   "execution_count": 80,
   "id": "f62f8a8e",
   "metadata": {},
   "outputs": [
    {
     "data": {
      "image/png": "[encoded data removed]",
      "text/plain": [
       "<Figure size 720x1152 with 25 Axes>"
      ]
     },
     "metadata": {
      "needs_background": "light"
     },
     "output_type": "display_data"
    }
   ],
   "source": [
    "df_outlier.plot(subplots=True, layout=(5,5), kind='box', figsize=(10,16))\n",
    "plt.tight_layout()"
   ]
  },
  {
   "cell_type": "markdown",
   "id": "5749946c",
   "metadata": {},
   "source": [
    "- Data yang memiliki outlier sedikit akan dibuang (digantikan nilai mean atau median)\n",
    "- Sedangkan data yang memiliki outlier terlalu banyak tidak dibuang, karena menurut definisinya outlier tersebut jarang terjadi, fenomena itu berarti ada sesuatu yang kasuistik pada data yang perlu telaah lebih lanjut.\n",
    "- Data diatas yang akan digantikan nilai outliernya adalah **NumDealsPurchases, NumWebPurchases, NumCatalogPurchases, NumWebVisitsMonth, MntRegularProds**\n",
    "\n",
    "- Tindakan untuk mengatasi outlier yang saya gunakan menggunakan Jangkauan antar kuartil(IQR) dimana nilai diatas batas atas akan kita ganti dengan nilai median"
   ]
  },
  {
   "cell_type": "code",
   "execution_count": 81,
   "id": "f90aa4ed",
   "metadata": {},
   "outputs": [],
   "source": [
    "deals_median = df_outlier['NumDealsPurchases'].median()\n",
    "Q1 = df_outlier['NumDealsPurchases'].quantile(0.25)\n",
    "\n",
    "Q3 = df_outlier['NumDealsPurchases'].quantile(0.75)\n",
    "\n",
    "IQR = Q3 - Q1\n",
    "\n",
    "deals_outlier = Q3 + 1.5*IQR"
   ]
  },
  {
   "cell_type": "code",
   "execution_count": 82,
   "id": "abf66be9",
   "metadata": {},
   "outputs": [
    {
     "name": "stderr",
     "output_type": "stream",
     "text": [
      "C:\\Users\\MrBento\\AppData\\Local\\Temp\\ipykernel_2876\\1596089066.py:1: SettingWithCopyWarning: \n",
      "A value is trying to be set on a copy of a slice from a DataFrame.\n",
      "Try using .loc[row_indexer,col_indexer] = value instead\n",
      "\n",
      "See the caveats in the documentation: https://pandas.pydata.org/pandas-docs/stable/user_guide/indexing.html#returning-a-view-versus-a-copy\n",
      "  df['NumDealsPurchases'] = np.where(df['NumDealsPurchases'] >deals_outlier, deals_median,df['NumDealsPurchases'])\n"
     ]
    }
   ],
   "source": [
    "df['NumDealsPurchases'] = np.where(df['NumDealsPurchases'] >deals_outlier, deals_median,df['NumDealsPurchases'])"
   ]
  },
  {
   "cell_type": "code",
   "execution_count": 83,
   "id": "9f06d371",
   "metadata": {},
   "outputs": [],
   "source": [
    "web_median = df_outlier['NumWebPurchases'].median()\n",
    "Q1 = df_outlier['NumWebPurchases'].quantile(0.25)\n",
    "Q3 = df_outlier['NumWebPurchases'].quantile(0.75)\n",
    "IQR = Q3-Q1\n",
    "web_outlier = Q3+1.5*IQR"
   ]
  },
  {
   "cell_type": "code",
   "execution_count": 84,
   "id": "430154d6",
   "metadata": {},
   "outputs": [
    {
     "name": "stderr",
     "output_type": "stream",
     "text": [
      "C:\\Users\\MrBento\\AppData\\Local\\Temp\\ipykernel_2876\\3558669350.py:1: SettingWithCopyWarning: \n",
      "A value is trying to be set on a copy of a slice from a DataFrame.\n",
      "Try using .loc[row_indexer,col_indexer] = value instead\n",
      "\n",
      "See the caveats in the documentation: https://pandas.pydata.org/pandas-docs/stable/user_guide/indexing.html#returning-a-view-versus-a-copy\n",
      "  df['NumWebPurchases'] = np.where(df['NumWebPurchases'] >web_outlier, web_median,df['NumWebPurchases'])\n"
     ]
    }
   ],
   "source": [
    "df['NumWebPurchases'] = np.where(df['NumWebPurchases'] >web_outlier, web_median,df['NumWebPurchases'])"
   ]
  },
  {
   "cell_type": "code",
   "execution_count": 85,
   "id": "c9b85df9",
   "metadata": {},
   "outputs": [],
   "source": [
    "cat_median = df_outlier['NumCatalogPurchases'].median()\n",
    "Q1 = df_outlier['NumCatalogPurchases'].quantile(0.25)\n",
    "Q3 = df_outlier['NumCatalogPurchases'].quantile(0.75)\n",
    "IQR = Q3-Q1\n",
    "cat_outlier = Q3+1.5*IQR"
   ]
  },
  {
   "cell_type": "code",
   "execution_count": 86,
   "id": "b567c45f",
   "metadata": {},
   "outputs": [
    {
     "name": "stderr",
     "output_type": "stream",
     "text": [
      "C:\\Users\\MrBento\\AppData\\Local\\Temp\\ipykernel_2876\\399363978.py:1: SettingWithCopyWarning: \n",
      "A value is trying to be set on a copy of a slice from a DataFrame.\n",
      "Try using .loc[row_indexer,col_indexer] = value instead\n",
      "\n",
      "See the caveats in the documentation: https://pandas.pydata.org/pandas-docs/stable/user_guide/indexing.html#returning-a-view-versus-a-copy\n",
      "  df['NumCatalogPurchases'] = np.where(df['NumCatalogPurchases'] >cat_outlier, cat_median,df['NumCatalogPurchases'])\n"
     ]
    }
   ],
   "source": [
    "df['NumCatalogPurchases'] = np.where(df['NumCatalogPurchases'] >cat_outlier, cat_median,df['NumCatalogPurchases'])"
   ]
  },
  {
   "cell_type": "code",
   "execution_count": 87,
   "id": "7a4884cd",
   "metadata": {},
   "outputs": [],
   "source": [
    "visit_median = df_outlier['NumWebVisitsMonth'].median()\n",
    "Q1 = df_outlier['NumWebVisitsMonth'].quantile(0.25)\n",
    "Q3 = df_outlier['NumWebVisitsMonth'].quantile(0.75)\n",
    "IQR = Q3-Q1\n",
    "visit_outlier = Q3+1.5*IQR"
   ]
  },
  {
   "cell_type": "code",
   "execution_count": 88,
   "id": "9ed7c5df",
   "metadata": {},
   "outputs": [
    {
     "name": "stderr",
     "output_type": "stream",
     "text": [
      "C:\\Users\\MrBento\\AppData\\Local\\Temp\\ipykernel_2876\\3167451844.py:1: SettingWithCopyWarning: \n",
      "A value is trying to be set on a copy of a slice from a DataFrame.\n",
      "Try using .loc[row_indexer,col_indexer] = value instead\n",
      "\n",
      "See the caveats in the documentation: https://pandas.pydata.org/pandas-docs/stable/user_guide/indexing.html#returning-a-view-versus-a-copy\n",
      "  df['NumWebVisitsMonth'] = np.where(df['NumWebVisitsMonth'] >visit_outlier, visit_median,df['NumWebVisitsMonth'])\n"
     ]
    }
   ],
   "source": [
    "df['NumWebVisitsMonth'] = np.where(df['NumWebVisitsMonth'] >visit_outlier, visit_median,df['NumWebVisitsMonth'])"
   ]
  },
  {
   "cell_type": "code",
   "execution_count": 89,
   "id": "e4ad9b9c",
   "metadata": {},
   "outputs": [],
   "source": [
    "Reg_median = df_outlier['MntRegularProds'].median()\n",
    "Q1 = df_outlier['MntRegularProds'].quantile(0.25)\n",
    "Q3 = df_outlier['MntRegularProds'].quantile(0.75)\n",
    "IQR = Q3-Q1\n",
    "reg_outlier = Q3+1.5*IQR"
   ]
  },
  {
   "cell_type": "code",
   "execution_count": 90,
   "id": "447ec696",
   "metadata": {},
   "outputs": [
    {
     "name": "stderr",
     "output_type": "stream",
     "text": [
      "C:\\Users\\MrBento\\AppData\\Local\\Temp\\ipykernel_2876\\3614171303.py:1: SettingWithCopyWarning: \n",
      "A value is trying to be set on a copy of a slice from a DataFrame.\n",
      "Try using .loc[row_indexer,col_indexer] = value instead\n",
      "\n",
      "See the caveats in the documentation: https://pandas.pydata.org/pandas-docs/stable/user_guide/indexing.html#returning-a-view-versus-a-copy\n",
      "  df['MntRegularProds'] = np.where(df['MntRegularProds'] >reg_outlier, Reg_median,df['MntRegularProds'])\n"
     ]
    }
   ],
   "source": [
    "df['MntRegularProds'] = np.where(df['MntRegularProds'] >reg_outlier, Reg_median,df['MntRegularProds'])"
   ]
  },
  {
   "cell_type": "code",
   "execution_count": 91,
   "id": "9fab0152",
   "metadata": {},
   "outputs": [
    {
     "data": {
      "image/png": "[encoded data removed]",
      "text/plain": [
       "<Figure size 720x1152 with 25 Axes>"
      ]
     },
     "metadata": {
      "needs_background": "light"
     },
     "output_type": "display_data"
    }
   ],
   "source": [
    "df_outlier_cleaned = df.drop(columns=remove_columns)\n",
    "\n",
    "df_outlier_cleaned.plot(subplots=True, layout=(5,5), kind='box', figsize=(10,16))\n",
    "plt.tight_layout()"
   ]
  },
  {
   "cell_type": "markdown",
   "id": "c8ff2adf",
   "metadata": {},
   "source": [
    "- Data yang mengandung Outlier sudah dibersihkan"
   ]
  },
  {
   "cell_type": "markdown",
   "id": "8a126bca",
   "metadata": {},
   "source": [
    "# Variable Insight"
   ]
  },
  {
   "cell_type": "code",
   "execution_count": 92,
   "id": "4469846f",
   "metadata": {},
   "outputs": [
    {
     "name": "stderr",
     "output_type": "stream",
     "text": [
      "C:\\Users\\MrBento\\AppData\\Local\\Temp\\ipykernel_2876\\3339246157.py:1: SettingWithCopyWarning: \n",
      "A value is trying to be set on a copy of a slice from a DataFrame.\n",
      "Try using .loc[row_indexer,col_indexer] = value instead\n",
      "\n",
      "See the caveats in the documentation: https://pandas.pydata.org/pandas-docs/stable/user_guide/indexing.html#returning-a-view-versus-a-copy\n",
      "  df['Children'] = df['Kidhome']+df['Teenhome']\n"
     ]
    }
   ],
   "source": [
    "df['Children'] = df['Kidhome']+df['Teenhome']"
   ]
  },
  {
   "cell_type": "markdown",
   "id": "902077c7",
   "metadata": {},
   "source": [
    "**Income and Dependents**"
   ]
  },
  {
   "cell_type": "code",
   "execution_count": 93,
   "id": "8d1530d9",
   "metadata": {},
   "outputs": [
    {
     "data": {
      "image/png": "[encoded data removed]",
      "text/plain": [
       "<Figure size 720x576 with 2 Axes>"
      ]
     },
     "metadata": {
      "needs_background": "light"
     },
     "output_type": "display_data"
    }
   ],
   "source": [
    "df_indep = pd.DataFrame(df[['Income','Children','NumDealsPurchases', 'NumWebPurchases',\n",
    "       'NumCatalogPurchases', 'NumStorePurchases', 'NumWebVisitsMonth']])\n",
    "\n",
    "plt.figure(figsize=(10,8))\n",
    "sns.heatmap(df_indep.corr().round(2), annot=True)\n",
    "plt.title('Correlation Matrix')\n",
    "plt.suptitle('Income and dependents')\n",
    "plt.tight_layout()"
   ]
  },
  {
   "cell_type": "markdown",
   "id": "7b9d12f2",
   "metadata": {},
   "source": [
    "- Terlihat bahwa variabel **Income** mempunyai korelasi pada **Web, Catalog, dan Store** artinya jika income seseorang meningkat maka kebiasaan membeli juga meningkat.\n",
    "- Apabila seseorang mempunyai anak (**Children**) maka korelasi yang terbesar adalah sering mencari barang di internet daripada pergi ke toko maupun katalog\n",
    "- Hal yang unik dari data tersebut adalah kunjungan ke website tidak terlalu berpengaruh terhadap penjualan pada website, variable kunjungan website **NumWebVisitsMonth** memiliki korelasi positif terhadap Deals/Diskon, sehingga asumsinya pembeli lebih tertarik membeli di website apabila ada Deals/Diskon (**NumDealsPurchases**)"
   ]
  },
  {
   "cell_type": "code",
   "execution_count": 94,
   "id": "81a391f8",
   "metadata": {},
   "outputs": [
    {
     "data": {
      "image/png": "[encoded data removed]",
      "text/plain": [
       "<Figure size 720x576 with 2 Axes>"
      ]
     },
     "metadata": {
      "needs_background": "light"
     },
     "output_type": "display_data"
    }
   ],
   "source": [
    "df_marital = pd.DataFrame(df[['marital_Divorced', 'marital_Married',\n",
    "       'marital_Single', 'marital_Together', 'marital_Widow','NumDealsPurchases', 'NumWebPurchases',\n",
    "       'NumCatalogPurchases', 'NumStorePurchases']])\n",
    "\n",
    "plt.figure(figsize=(10,8))\n",
    "sns.heatmap(df_marital.corr().round(2), annot=True)\n",
    "plt.title('Correlation Matrix')\n",
    "plt.suptitle('Marital Status')\n",
    "plt.tight_layout()"
   ]
  },
  {
   "cell_type": "markdown",
   "id": "a3caefc3",
   "metadata": {},
   "source": [
    "**Marital Status** tidak memiliki korelasi apapun terhadap penjualan"
   ]
  },
  {
   "cell_type": "markdown",
   "id": "37039cf2",
   "metadata": {},
   "source": [
    "**Education Degree Correlation Matrix**"
   ]
  },
  {
   "cell_type": "code",
   "execution_count": 95,
   "id": "43622cd2",
   "metadata": {},
   "outputs": [
    {
     "name": "stderr",
     "output_type": "stream",
     "text": [
      "C:\\Users\\MrBento\\AppData\\Local\\Temp\\ipykernel_2876\\3725297597.py:1: SettingWithCopyWarning: \n",
      "A value is trying to be set on a copy of a slice from a DataFrame.\n",
      "Try using .loc[row_indexer,col_indexer] = value instead\n",
      "\n",
      "See the caveats in the documentation: https://pandas.pydata.org/pandas-docs/stable/user_guide/indexing.html#returning-a-view-versus-a-copy\n",
      "  df['education_MasterDegree'] = df['education_2n Cycle'] + df['education_Master'] #2n cycle dan master adalah sama\n"
     ]
    }
   ],
   "source": [
    "df['education_MasterDegree'] = df['education_2n Cycle'] + df['education_Master'] #2n cycle dan master adalah sama\n",
    "#sehingga dijadikan 1 kolom saja"
   ]
  },
  {
   "cell_type": "code",
   "execution_count": 96,
   "id": "47e06bf0",
   "metadata": {},
   "outputs": [
    {
     "data": {
      "image/png": "[encoded data removed]",
      "text/plain": [
       "<Figure size 720x576 with 2 Axes>"
      ]
     },
     "metadata": {
      "needs_background": "light"
     },
     "output_type": "display_data"
    }
   ],
   "source": [
    "df_education = pd.DataFrame(df[['education_Basic', 'education_Graduation', 'education_PhD','education_MasterDegree',\n",
    "       'NumDealsPurchases', 'NumWebPurchases','NumCatalogPurchases', 'NumStorePurchases']])\n",
    "\n",
    "plt.figure(figsize=(10,8))\n",
    "sns.heatmap(df_education.corr().round(2),annot=True)\n",
    "plt.suptitle('Correlation Matrix')\n",
    "plt.title('Education Degree')\n",
    "plt.tight_layout() "
   ]
  },
  {
   "cell_type": "markdown",
   "id": "07b4c0ce",
   "metadata": {},
   "source": [
    "**Education Degree** tidak menampilkan korelasi terhadap penjualan"
   ]
  },
  {
   "cell_type": "markdown",
   "id": "20bad842",
   "metadata": {},
   "source": [
    "# Distribution Data"
   ]
  },
  {
   "cell_type": "code",
   "execution_count": 97,
   "id": "4646fda5",
   "metadata": {},
   "outputs": [
    {
     "name": "stderr",
     "output_type": "stream",
     "text": [
      "C:\\Users\\MrBento\\anaconda3\\lib\\site-packages\\seaborn\\distributions.py:2619: FutureWarning: `distplot` is a deprecated function and will be removed in a future version. Please adapt your code to use either `displot` (a figure-level function with similar flexibility) or `histplot` (an axes-level function for histograms).\n",
      "  warnings.warn(msg, FutureWarning)\n"
     ]
    },
    {
     "data": {
      "text/plain": [
       "<AxesSubplot:xlabel='Age', ylabel='Density'>"
      ]
     },
     "execution_count": 97,
     "metadata": {},
     "output_type": "execute_result"
    },
    {
     "data": {
      "image/png": "[encoded data removed]",
      "text/plain": [
       "<Figure size 432x288 with 1 Axes>"
      ]
     },
     "metadata": {
      "needs_background": "light"
     },
     "output_type": "display_data"
    }
   ],
   "source": [
    "sns.distplot(df['Age'], hist=True, kde=True, \n",
    "             bins=int(180/5), color = 'darkblue', \n",
    "             hist_kws={'edgecolor':'black'},\n",
    "             kde_kws={'linewidth': 4})"
   ]
  },
  {
   "cell_type": "markdown",
   "id": "67ceca57",
   "metadata": {},
   "source": [
    "Rata-rata orang yang berbelanja adalah orang yang berumur **40-70**"
   ]
  },
  {
   "cell_type": "code",
   "execution_count": 98,
   "id": "86e34165",
   "metadata": {},
   "outputs": [
    {
     "name": "stderr",
     "output_type": "stream",
     "text": [
      "C:\\Users\\MrBento\\anaconda3\\lib\\site-packages\\seaborn\\distributions.py:2619: FutureWarning: `distplot` is a deprecated function and will be removed in a future version. Please adapt your code to use either `displot` (a figure-level function with similar flexibility) or `histplot` (an axes-level function for histograms).\n",
      "  warnings.warn(msg, FutureWarning)\n"
     ]
    },
    {
     "data": {
      "text/plain": [
       "<AxesSubplot:xlabel='Income', ylabel='Density'>"
      ]
     },
     "execution_count": 98,
     "metadata": {},
     "output_type": "execute_result"
    },
    {
     "data": {
      "image/png": "[encoded data removed]",
      "text/plain": [
       "<Figure size 432x288 with 1 Axes>"
      ]
     },
     "metadata": {
      "needs_background": "light"
     },
     "output_type": "display_data"
    }
   ],
   "source": [
    "sns.distplot(df['Income'], hist=True, kde=True, \n",
    "             bins=int(180/5), color = 'darkblue', \n",
    "             hist_kws={'edgecolor':'black'},\n",
    "             kde_kws={'linewidth': 4})"
   ]
  },
  {
   "cell_type": "markdown",
   "id": "41dd4dfe",
   "metadata": {},
   "source": [
    "Income rata-rata dari orang yang berbelanja adalah **20000 USD sampai dengan 82000 USD**"
   ]
  },
  {
   "cell_type": "code",
   "execution_count": 99,
   "id": "1a3b2a56",
   "metadata": {},
   "outputs": [
    {
     "name": "stderr",
     "output_type": "stream",
     "text": [
      "C:\\Users\\MrBento\\anaconda3\\lib\\site-packages\\seaborn\\distributions.py:2619: FutureWarning: `distplot` is a deprecated function and will be removed in a future version. Please adapt your code to use either `displot` (a figure-level function with similar flexibility) or `histplot` (an axes-level function for histograms).\n",
      "  warnings.warn(msg, FutureWarning)\n"
     ]
    },
    {
     "data": {
      "text/plain": [
       "<AxesSubplot:xlabel='Recency', ylabel='Density'>"
      ]
     },
     "execution_count": 99,
     "metadata": {},
     "output_type": "execute_result"
    },
    {
     "data": {
      "image/png": "[encoded data removed]",
      "text/plain": [
       "<Figure size 432x288 with 1 Axes>"
      ]
     },
     "metadata": {
      "needs_background": "light"
     },
     "output_type": "display_data"
    }
   ],
   "source": [
    "sns.distplot(df['Recency'], hist=True, kde=True, \n",
    "             bins=int(180/5), color = 'darkblue', \n",
    "             hist_kws={'edgecolor':'black'},\n",
    "             kde_kws={'linewidth': 4})"
   ]
  },
  {
   "cell_type": "markdown",
   "id": "1b67ed21",
   "metadata": {},
   "source": [
    "Rata-rata customer yang datang per hari adalah **0 - 80 customer**"
   ]
  },
  {
   "cell_type": "code",
   "execution_count": 100,
   "id": "13dbb10b",
   "metadata": {},
   "outputs": [
    {
     "data": {
      "text/plain": [
       "0"
      ]
     },
     "execution_count": 100,
     "metadata": {},
     "output_type": "execute_result"
    }
   ],
   "source": [
    "df['Recency'].min()"
   ]
  },
  {
   "cell_type": "code",
   "execution_count": 101,
   "id": "cba85e66",
   "metadata": {},
   "outputs": [
    {
     "name": "stderr",
     "output_type": "stream",
     "text": [
      "C:\\Users\\MrBento\\anaconda3\\lib\\site-packages\\seaborn\\distributions.py:2619: FutureWarning: `distplot` is a deprecated function and will be removed in a future version. Please adapt your code to use either `displot` (a figure-level function with similar flexibility) or `histplot` (an axes-level function for histograms).\n",
      "  warnings.warn(msg, FutureWarning)\n"
     ]
    },
    {
     "data": {
      "text/plain": [
       "<AxesSubplot:xlabel='MntTotal', ylabel='Density'>"
      ]
     },
     "execution_count": 101,
     "metadata": {},
     "output_type": "execute_result"
    },
    {
     "data": {
      "image/png": "[encoded data removed]",
      "text/plain": [
       "<Figure size 432x288 with 1 Axes>"
      ]
     },
     "metadata": {
      "needs_background": "light"
     },
     "output_type": "display_data"
    }
   ],
   "source": [
    "sns.distplot(df['MntTotal'], hist=True, kde=True, \n",
    "             bins=int(180/5), color = 'darkblue', \n",
    "             hist_kws={'edgecolor':'black'},\n",
    "             kde_kws={'linewidth': 4})"
   ]
  },
  {
   "cell_type": "markdown",
   "id": "4e003280",
   "metadata": {},
   "source": [
    "Rata-rata produk terjual perhari adalah **4 sampai 500 produk**"
   ]
  },
  {
   "cell_type": "code",
   "execution_count": 102,
   "id": "3bca049a",
   "metadata": {},
   "outputs": [],
   "source": [
    "df_ca = pd.DataFrame({\"Category\": ['Catalog', 'Deals/Discount', 'Store','Website'],\n",
    "                   \"Total\": [5157, 4108, 11737, 8254]})"
   ]
  },
  {
   "cell_type": "code",
   "execution_count": 103,
   "id": "a1637d11",
   "metadata": {},
   "outputs": [
    {
     "data": {
      "text/html": [
       "<div>\n",
       "<style scoped>\n",
       "    .dataframe tbody tr th:only-of-type {\n",
       "        vertical-align: middle;\n",
       "    }\n",
       "\n",
       "    .dataframe tbody tr th {\n",
       "        vertical-align: top;\n",
       "    }\n",
       "\n",
       "    .dataframe thead th {\n",
       "        text-align: right;\n",
       "    }\n",
       "</style>\n",
       "<table border=\"1\" class=\"dataframe\">\n",
       "  <thead>\n",
       "    <tr style=\"text-align: right;\">\n",
       "      <th></th>\n",
       "      <th>Category</th>\n",
       "      <th>Total</th>\n",
       "    </tr>\n",
       "  </thead>\n",
       "  <tbody>\n",
       "    <tr>\n",
       "      <th>0</th>\n",
       "      <td>Catalog</td>\n",
       "      <td>5157</td>\n",
       "    </tr>\n",
       "    <tr>\n",
       "      <th>1</th>\n",
       "      <td>Deals/Discount</td>\n",
       "      <td>4108</td>\n",
       "    </tr>\n",
       "    <tr>\n",
       "      <th>2</th>\n",
       "      <td>Store</td>\n",
       "      <td>11737</td>\n",
       "    </tr>\n",
       "    <tr>\n",
       "      <th>3</th>\n",
       "      <td>Website</td>\n",
       "      <td>8254</td>\n",
       "    </tr>\n",
       "  </tbody>\n",
       "</table>\n",
       "</div>"
      ],
      "text/plain": [
       "         Category  Total\n",
       "0         Catalog   5157\n",
       "1  Deals/Discount   4108\n",
       "2           Store  11737\n",
       "3         Website   8254"
      ]
     },
     "execution_count": 103,
     "metadata": {},
     "output_type": "execute_result"
    }
   ],
   "source": [
    "df_ca"
   ]
  },
  {
   "cell_type": "code",
   "execution_count": 104,
   "id": "2e99ee51",
   "metadata": {},
   "outputs": [
    {
     "data": {
      "image/png": "[encoded data removed]",
      "text/plain": [
       "<Figure size 432x288 with 1 Axes>"
      ]
     },
     "metadata": {
      "needs_background": "light"
     },
     "output_type": "display_data"
    }
   ],
   "source": [
    "sns.barplot(x = 'Category',\n",
    "            y = 'Total',\n",
    "            data = df_ca)\n",
    " \n",
    "# Show the plot\n",
    "plt.show()"
   ]
  },
  {
   "cell_type": "markdown",
   "id": "1d953e05",
   "metadata": {},
   "source": [
    "Barang yang paling banyak terjual berada di **Toko**, karena customer bisa langsung melakukan **checking product** pada saat berada di Toko. Penjualan melalui **website juga lebih laku dibanding katalog maupun diskon**, karena pada masa sekarang belanja juga bisa melalui gadget, sehingga lebih mudah."
   ]
  },
  {
   "cell_type": "code",
   "execution_count": 105,
   "id": "aa3d1450",
   "metadata": {},
   "outputs": [],
   "source": [
    "df_rr = df.loc[: , ['AcceptedCmp1','AcceptedCmp2', 'AcceptedCmp3','AcceptedCmp4','AcceptedCmp5']].sum().reset_index()"
   ]
  },
  {
   "cell_type": "code",
   "execution_count": 106,
   "id": "89fb0e10",
   "metadata": {},
   "outputs": [],
   "source": [
    "df_rr['Category'] = df_rr['index']\n",
    "df_rr['Total'] =  df_rr[0] "
   ]
  },
  {
   "cell_type": "code",
   "execution_count": 107,
   "id": "05851ec7",
   "metadata": {},
   "outputs": [],
   "source": [
    "df_rr = df_rr.drop(columns=['index',0])"
   ]
  },
  {
   "cell_type": "code",
   "execution_count": 108,
   "id": "8f27e5ff",
   "metadata": {},
   "outputs": [
    {
     "data": {
      "text/html": [
       "<div>\n",
       "<style scoped>\n",
       "    .dataframe tbody tr th:only-of-type {\n",
       "        vertical-align: middle;\n",
       "    }\n",
       "\n",
       "    .dataframe tbody tr th {\n",
       "        vertical-align: top;\n",
       "    }\n",
       "\n",
       "    .dataframe thead th {\n",
       "        text-align: right;\n",
       "    }\n",
       "</style>\n",
       "<table border=\"1\" class=\"dataframe\">\n",
       "  <thead>\n",
       "    <tr style=\"text-align: right;\">\n",
       "      <th></th>\n",
       "      <th>Category</th>\n",
       "      <th>Total</th>\n",
       "    </tr>\n",
       "  </thead>\n",
       "  <tbody>\n",
       "    <tr>\n",
       "      <th>0</th>\n",
       "      <td>AcceptedCmp1</td>\n",
       "      <td>133</td>\n",
       "    </tr>\n",
       "    <tr>\n",
       "      <th>1</th>\n",
       "      <td>AcceptedCmp2</td>\n",
       "      <td>26</td>\n",
       "    </tr>\n",
       "    <tr>\n",
       "      <th>2</th>\n",
       "      <td>AcceptedCmp3</td>\n",
       "      <td>151</td>\n",
       "    </tr>\n",
       "    <tr>\n",
       "      <th>3</th>\n",
       "      <td>AcceptedCmp4</td>\n",
       "      <td>155</td>\n",
       "    </tr>\n",
       "    <tr>\n",
       "      <th>4</th>\n",
       "      <td>AcceptedCmp5</td>\n",
       "      <td>146</td>\n",
       "    </tr>\n",
       "  </tbody>\n",
       "</table>\n",
       "</div>"
      ],
      "text/plain": [
       "       Category  Total\n",
       "0  AcceptedCmp1    133\n",
       "1  AcceptedCmp2     26\n",
       "2  AcceptedCmp3    151\n",
       "3  AcceptedCmp4    155\n",
       "4  AcceptedCmp5    146"
      ]
     },
     "execution_count": 108,
     "metadata": {},
     "output_type": "execute_result"
    }
   ],
   "source": [
    "df_rr"
   ]
  },
  {
   "cell_type": "code",
   "execution_count": 129,
   "id": "e4344f87",
   "metadata": {},
   "outputs": [
    {
     "data": {
      "image/png": "[encoded data removed]",
      "text/plain": [
       "<Figure size 432x288 with 1 Axes>"
      ]
     },
     "metadata": {
      "needs_background": "light"
     },
     "output_type": "display_data"
    }
   ],
   "source": [
    "sns.barplot(x = 'Category',\n",
    "            y = 'Total',\n",
    "            data = df_rr)\n",
    " \n",
    "# Show the plot\n",
    "plt.show()"
   ]
  },
  {
   "cell_type": "markdown",
   "id": "f41a85ff",
   "metadata": {},
   "source": [
    "Campaign yang paling laku adalah campaign **nomor 4**, karena bisa jadi dari tempat yang strategis dan waktu yang tepat sehingga menghasilkan campaign yang baik."
   ]
  },
  {
   "cell_type": "code",
   "execution_count": 130,
   "id": "df92eef5",
   "metadata": {},
   "outputs": [
    {
     "name": "stdout",
     "output_type": "stream",
     "text": [
      "<class 'pandas.core.frame.DataFrame'>\n",
      "Int64Index: 2021 entries, 0 to 2204\n",
      "Data columns (total 41 columns):\n",
      " #   Column                  Non-Null Count  Dtype  \n",
      "---  ------                  --------------  -----  \n",
      " 0   Income                  2021 non-null   float64\n",
      " 1   Kidhome                 2021 non-null   int64  \n",
      " 2   Teenhome                2021 non-null   int64  \n",
      " 3   Recency                 2021 non-null   int64  \n",
      " 4   MntWines                2021 non-null   int64  \n",
      " 5   MntFruits               2021 non-null   int64  \n",
      " 6   MntMeatProducts         2021 non-null   int64  \n",
      " 7   MntFishProducts         2021 non-null   int64  \n",
      " 8   MntSweetProducts        2021 non-null   int64  \n",
      " 9   MntGoldProds            2021 non-null   int64  \n",
      " 10  NumDealsPurchases       2021 non-null   float64\n",
      " 11  NumWebPurchases         2021 non-null   float64\n",
      " 12  NumCatalogPurchases     2021 non-null   float64\n",
      " 13  NumStorePurchases       2021 non-null   int64  \n",
      " 14  NumWebVisitsMonth       2021 non-null   float64\n",
      " 15  AcceptedCmp3            2021 non-null   int64  \n",
      " 16  AcceptedCmp4            2021 non-null   int64  \n",
      " 17  AcceptedCmp5            2021 non-null   int64  \n",
      " 18  AcceptedCmp1            2021 non-null   int64  \n",
      " 19  AcceptedCmp2            2021 non-null   int64  \n",
      " 20  Complain                2021 non-null   int64  \n",
      " 21  Z_CostContact           2021 non-null   int64  \n",
      " 22  Z_Revenue               2021 non-null   int64  \n",
      " 23  Response                2021 non-null   int64  \n",
      " 24  Age                     2021 non-null   int64  \n",
      " 25  Customer_Days           2021 non-null   int64  \n",
      " 26  marital_Divorced        2021 non-null   int64  \n",
      " 27  marital_Married         2021 non-null   int64  \n",
      " 28  marital_Single          2021 non-null   int64  \n",
      " 29  marital_Together        2021 non-null   int64  \n",
      " 30  marital_Widow           2021 non-null   int64  \n",
      " 31  education_2n Cycle      2021 non-null   int64  \n",
      " 32  education_Basic         2021 non-null   int64  \n",
      " 33  education_Graduation    2021 non-null   int64  \n",
      " 34  education_Master        2021 non-null   int64  \n",
      " 35  education_PhD           2021 non-null   int64  \n",
      " 36  MntTotal                2021 non-null   int64  \n",
      " 37  MntRegularProds         2021 non-null   float64\n",
      " 38  AcceptedCmpOverall      2021 non-null   int64  \n",
      " 39  Children                2021 non-null   int64  \n",
      " 40  education_MasterDegree  2021 non-null   int64  \n",
      "dtypes: float64(6), int64(35)\n",
      "memory usage: 663.1 KB\n"
     ]
    }
   ],
   "source": [
    "df.info()"
   ]
  },
  {
   "cell_type": "code",
   "execution_count": 131,
   "id": "b27cde89",
   "metadata": {},
   "outputs": [
    {
     "data": {
      "text/html": [
       "<div>\n",
       "<style scoped>\n",
       "    .dataframe tbody tr th:only-of-type {\n",
       "        vertical-align: middle;\n",
       "    }\n",
       "\n",
       "    .dataframe tbody tr th {\n",
       "        vertical-align: top;\n",
       "    }\n",
       "\n",
       "    .dataframe thead th {\n",
       "        text-align: right;\n",
       "    }\n",
       "</style>\n",
       "<table border=\"1\" class=\"dataframe\">\n",
       "  <thead>\n",
       "    <tr style=\"text-align: right;\">\n",
       "      <th></th>\n",
       "      <th>index</th>\n",
       "      <th>0</th>\n",
       "    </tr>\n",
       "  </thead>\n",
       "  <tbody>\n",
       "    <tr>\n",
       "      <th>0</th>\n",
       "      <td>MntWines</td>\n",
       "      <td>619421</td>\n",
       "    </tr>\n",
       "    <tr>\n",
       "      <th>1</th>\n",
       "      <td>MntFruits</td>\n",
       "      <td>53283</td>\n",
       "    </tr>\n",
       "    <tr>\n",
       "      <th>2</th>\n",
       "      <td>MntMeatProducts</td>\n",
       "      <td>335607</td>\n",
       "    </tr>\n",
       "    <tr>\n",
       "      <th>3</th>\n",
       "      <td>MntFishProducts</td>\n",
       "      <td>75997</td>\n",
       "    </tr>\n",
       "    <tr>\n",
       "      <th>4</th>\n",
       "      <td>MntSweetProducts</td>\n",
       "      <td>55110</td>\n",
       "    </tr>\n",
       "    <tr>\n",
       "      <th>5</th>\n",
       "      <td>MntGoldProds</td>\n",
       "      <td>88766</td>\n",
       "    </tr>\n",
       "  </tbody>\n",
       "</table>\n",
       "</div>"
      ],
      "text/plain": [
       "              index       0\n",
       "0          MntWines  619421\n",
       "1         MntFruits   53283\n",
       "2   MntMeatProducts  335607\n",
       "3   MntFishProducts   75997\n",
       "4  MntSweetProducts   55110\n",
       "5      MntGoldProds   88766"
      ]
     },
     "execution_count": 131,
     "metadata": {},
     "output_type": "execute_result"
    }
   ],
   "source": [
    "df_product = df.loc[: , ['MntWines','MntFruits','MntMeatProducts','MntFishProducts','MntSweetProducts','MntGoldProds']].sum().reset_index()\n",
    "df_product"
   ]
  },
  {
   "cell_type": "code",
   "execution_count": 132,
   "id": "c4e4900f",
   "metadata": {},
   "outputs": [],
   "source": [
    "df_product['Product'] = df_product['index']\n",
    "df_product['Total'] =  df_product[0] "
   ]
  },
  {
   "cell_type": "code",
   "execution_count": 133,
   "id": "f1497f16",
   "metadata": {},
   "outputs": [
    {
     "data": {
      "text/html": [
       "<div>\n",
       "<style scoped>\n",
       "    .dataframe tbody tr th:only-of-type {\n",
       "        vertical-align: middle;\n",
       "    }\n",
       "\n",
       "    .dataframe tbody tr th {\n",
       "        vertical-align: top;\n",
       "    }\n",
       "\n",
       "    .dataframe thead th {\n",
       "        text-align: right;\n",
       "    }\n",
       "</style>\n",
       "<table border=\"1\" class=\"dataframe\">\n",
       "  <thead>\n",
       "    <tr style=\"text-align: right;\">\n",
       "      <th></th>\n",
       "      <th>index</th>\n",
       "      <th>0</th>\n",
       "      <th>Product</th>\n",
       "      <th>Total</th>\n",
       "    </tr>\n",
       "  </thead>\n",
       "  <tbody>\n",
       "    <tr>\n",
       "      <th>0</th>\n",
       "      <td>MntWines</td>\n",
       "      <td>619421</td>\n",
       "      <td>MntWines</td>\n",
       "      <td>619421</td>\n",
       "    </tr>\n",
       "    <tr>\n",
       "      <th>1</th>\n",
       "      <td>MntFruits</td>\n",
       "      <td>53283</td>\n",
       "      <td>MntFruits</td>\n",
       "      <td>53283</td>\n",
       "    </tr>\n",
       "    <tr>\n",
       "      <th>2</th>\n",
       "      <td>MntMeatProducts</td>\n",
       "      <td>335607</td>\n",
       "      <td>MntMeatProducts</td>\n",
       "      <td>335607</td>\n",
       "    </tr>\n",
       "    <tr>\n",
       "      <th>3</th>\n",
       "      <td>MntFishProducts</td>\n",
       "      <td>75997</td>\n",
       "      <td>MntFishProducts</td>\n",
       "      <td>75997</td>\n",
       "    </tr>\n",
       "    <tr>\n",
       "      <th>4</th>\n",
       "      <td>MntSweetProducts</td>\n",
       "      <td>55110</td>\n",
       "      <td>MntSweetProducts</td>\n",
       "      <td>55110</td>\n",
       "    </tr>\n",
       "    <tr>\n",
       "      <th>5</th>\n",
       "      <td>MntGoldProds</td>\n",
       "      <td>88766</td>\n",
       "      <td>MntGoldProds</td>\n",
       "      <td>88766</td>\n",
       "    </tr>\n",
       "  </tbody>\n",
       "</table>\n",
       "</div>"
      ],
      "text/plain": [
       "              index       0           Product   Total\n",
       "0          MntWines  619421          MntWines  619421\n",
       "1         MntFruits   53283         MntFruits   53283\n",
       "2   MntMeatProducts  335607   MntMeatProducts  335607\n",
       "3   MntFishProducts   75997   MntFishProducts   75997\n",
       "4  MntSweetProducts   55110  MntSweetProducts   55110\n",
       "5      MntGoldProds   88766      MntGoldProds   88766"
      ]
     },
     "execution_count": 133,
     "metadata": {},
     "output_type": "execute_result"
    }
   ],
   "source": [
    "df_product"
   ]
  },
  {
   "cell_type": "code",
   "execution_count": 134,
   "id": "302bac42",
   "metadata": {},
   "outputs": [],
   "source": [
    "df_product = df_product.drop(columns=['index',0])"
   ]
  },
  {
   "cell_type": "code",
   "execution_count": 135,
   "id": "b96515b5",
   "metadata": {},
   "outputs": [
    {
     "data": {
      "text/html": [
       "<div>\n",
       "<style scoped>\n",
       "    .dataframe tbody tr th:only-of-type {\n",
       "        vertical-align: middle;\n",
       "    }\n",
       "\n",
       "    .dataframe tbody tr th {\n",
       "        vertical-align: top;\n",
       "    }\n",
       "\n",
       "    .dataframe thead th {\n",
       "        text-align: right;\n",
       "    }\n",
       "</style>\n",
       "<table border=\"1\" class=\"dataframe\">\n",
       "  <thead>\n",
       "    <tr style=\"text-align: right;\">\n",
       "      <th></th>\n",
       "      <th>Product</th>\n",
       "      <th>Total</th>\n",
       "    </tr>\n",
       "  </thead>\n",
       "  <tbody>\n",
       "    <tr>\n",
       "      <th>0</th>\n",
       "      <td>MntWines</td>\n",
       "      <td>619421</td>\n",
       "    </tr>\n",
       "    <tr>\n",
       "      <th>1</th>\n",
       "      <td>MntFruits</td>\n",
       "      <td>53283</td>\n",
       "    </tr>\n",
       "    <tr>\n",
       "      <th>2</th>\n",
       "      <td>MntMeatProducts</td>\n",
       "      <td>335607</td>\n",
       "    </tr>\n",
       "    <tr>\n",
       "      <th>3</th>\n",
       "      <td>MntFishProducts</td>\n",
       "      <td>75997</td>\n",
       "    </tr>\n",
       "    <tr>\n",
       "      <th>4</th>\n",
       "      <td>MntSweetProducts</td>\n",
       "      <td>55110</td>\n",
       "    </tr>\n",
       "    <tr>\n",
       "      <th>5</th>\n",
       "      <td>MntGoldProds</td>\n",
       "      <td>88766</td>\n",
       "    </tr>\n",
       "  </tbody>\n",
       "</table>\n",
       "</div>"
      ],
      "text/plain": [
       "            Product   Total\n",
       "0          MntWines  619421\n",
       "1         MntFruits   53283\n",
       "2   MntMeatProducts  335607\n",
       "3   MntFishProducts   75997\n",
       "4  MntSweetProducts   55110\n",
       "5      MntGoldProds   88766"
      ]
     },
     "execution_count": 135,
     "metadata": {},
     "output_type": "execute_result"
    }
   ],
   "source": [
    "df_product"
   ]
  },
  {
   "cell_type": "code",
   "execution_count": 138,
   "id": "7e953167",
   "metadata": {},
   "outputs": [
    {
     "data": {
      "image/png": "[encoded data removed]",
      "text/plain": [
       "<Figure size 432x288 with 1 Axes>"
      ]
     },
     "metadata": {
      "needs_background": "light"
     },
     "output_type": "display_data"
    }
   ],
   "source": [
    "sns.barplot(x = 'Product',\n",
    "            y = 'Total',\n",
    "            data = df_product)\n",
    " \n",
    "# Show the plot\n",
    "plt.show()"
   ]
  },
  {
   "cell_type": "markdown",
   "id": "29dedc51",
   "metadata": {},
   "source": [
    "Produk yang paling laku adalah **Wines**, produk tersebut laku bisa jadi karena **cuaca di toko tersebut sedang musim dingin**, sehingga produk wines lebih laku dibanding produk lainnya."
   ]
  },
  {
   "cell_type": "code",
   "execution_count": 137,
   "id": "0de2e3c8",
   "metadata": {},
   "outputs": [],
   "source": [
    "df_product.loc[0,'Product'] = 'Wines'\n",
    "df_product.loc[1,'Product'] = 'Fruits'\n",
    "df_product.loc[2,'Product'] = 'Meat'\n",
    "df_product.loc[3,'Product'] = 'Fish'\n",
    "df_product.loc[4,'Product'] = 'Sweet'\n",
    "df_product.loc[5,'Product'] = 'Gold'"
   ]
  },
  {
   "cell_type": "code",
   "execution_count": 118,
   "id": "49ce5320",
   "metadata": {},
   "outputs": [],
   "source": [
    "df_comp = df.loc[: , ['Response','Complain']].sum().reset_index()"
   ]
  },
  {
   "cell_type": "code",
   "execution_count": 119,
   "id": "a4f79e3b",
   "metadata": {},
   "outputs": [
    {
     "data": {
      "text/html": [
       "<div>\n",
       "<style scoped>\n",
       "    .dataframe tbody tr th:only-of-type {\n",
       "        vertical-align: middle;\n",
       "    }\n",
       "\n",
       "    .dataframe tbody tr th {\n",
       "        vertical-align: top;\n",
       "    }\n",
       "\n",
       "    .dataframe thead th {\n",
       "        text-align: right;\n",
       "    }\n",
       "</style>\n",
       "<table border=\"1\" class=\"dataframe\">\n",
       "  <thead>\n",
       "    <tr style=\"text-align: right;\">\n",
       "      <th></th>\n",
       "      <th>index</th>\n",
       "      <th>0</th>\n",
       "    </tr>\n",
       "  </thead>\n",
       "  <tbody>\n",
       "    <tr>\n",
       "      <th>0</th>\n",
       "      <td>Response</td>\n",
       "      <td>311</td>\n",
       "    </tr>\n",
       "    <tr>\n",
       "      <th>1</th>\n",
       "      <td>Complain</td>\n",
       "      <td>19</td>\n",
       "    </tr>\n",
       "  </tbody>\n",
       "</table>\n",
       "</div>"
      ],
      "text/plain": [
       "      index    0\n",
       "0  Response  311\n",
       "1  Complain   19"
      ]
     },
     "execution_count": 119,
     "metadata": {},
     "output_type": "execute_result"
    }
   ],
   "source": [
    "df_comp"
   ]
  },
  {
   "cell_type": "code",
   "execution_count": 120,
   "id": "b4321b3a",
   "metadata": {},
   "outputs": [],
   "source": [
    "df_comp['Type'] = df_comp['index']\n",
    "df_comp['Total'] =  df_comp[0] "
   ]
  },
  {
   "cell_type": "code",
   "execution_count": 121,
   "id": "8212eba4",
   "metadata": {},
   "outputs": [
    {
     "data": {
      "text/html": [
       "<div>\n",
       "<style scoped>\n",
       "    .dataframe tbody tr th:only-of-type {\n",
       "        vertical-align: middle;\n",
       "    }\n",
       "\n",
       "    .dataframe tbody tr th {\n",
       "        vertical-align: top;\n",
       "    }\n",
       "\n",
       "    .dataframe thead th {\n",
       "        text-align: right;\n",
       "    }\n",
       "</style>\n",
       "<table border=\"1\" class=\"dataframe\">\n",
       "  <thead>\n",
       "    <tr style=\"text-align: right;\">\n",
       "      <th></th>\n",
       "      <th>index</th>\n",
       "      <th>0</th>\n",
       "      <th>Type</th>\n",
       "      <th>Total</th>\n",
       "    </tr>\n",
       "  </thead>\n",
       "  <tbody>\n",
       "    <tr>\n",
       "      <th>0</th>\n",
       "      <td>Response</td>\n",
       "      <td>311</td>\n",
       "      <td>Response</td>\n",
       "      <td>311</td>\n",
       "    </tr>\n",
       "    <tr>\n",
       "      <th>1</th>\n",
       "      <td>Complain</td>\n",
       "      <td>19</td>\n",
       "      <td>Complain</td>\n",
       "      <td>19</td>\n",
       "    </tr>\n",
       "  </tbody>\n",
       "</table>\n",
       "</div>"
      ],
      "text/plain": [
       "      index    0      Type  Total\n",
       "0  Response  311  Response    311\n",
       "1  Complain   19  Complain     19"
      ]
     },
     "execution_count": 121,
     "metadata": {},
     "output_type": "execute_result"
    }
   ],
   "source": [
    "df_comp"
   ]
  },
  {
   "cell_type": "code",
   "execution_count": 122,
   "id": "1cb23a64",
   "metadata": {},
   "outputs": [],
   "source": [
    "df_comp = df_comp.drop(columns=['index',0])"
   ]
  },
  {
   "cell_type": "code",
   "execution_count": 123,
   "id": "c7b71ae5",
   "metadata": {},
   "outputs": [
    {
     "data": {
      "text/html": [
       "<div>\n",
       "<style scoped>\n",
       "    .dataframe tbody tr th:only-of-type {\n",
       "        vertical-align: middle;\n",
       "    }\n",
       "\n",
       "    .dataframe tbody tr th {\n",
       "        vertical-align: top;\n",
       "    }\n",
       "\n",
       "    .dataframe thead th {\n",
       "        text-align: right;\n",
       "    }\n",
       "</style>\n",
       "<table border=\"1\" class=\"dataframe\">\n",
       "  <thead>\n",
       "    <tr style=\"text-align: right;\">\n",
       "      <th></th>\n",
       "      <th>Type</th>\n",
       "      <th>Total</th>\n",
       "    </tr>\n",
       "  </thead>\n",
       "  <tbody>\n",
       "    <tr>\n",
       "      <th>0</th>\n",
       "      <td>Response</td>\n",
       "      <td>311</td>\n",
       "    </tr>\n",
       "    <tr>\n",
       "      <th>1</th>\n",
       "      <td>Complain</td>\n",
       "      <td>19</td>\n",
       "    </tr>\n",
       "  </tbody>\n",
       "</table>\n",
       "</div>"
      ],
      "text/plain": [
       "       Type  Total\n",
       "0  Response    311\n",
       "1  Complain     19"
      ]
     },
     "execution_count": 123,
     "metadata": {},
     "output_type": "execute_result"
    }
   ],
   "source": [
    "df_comp"
   ]
  },
  {
   "cell_type": "code",
   "execution_count": 124,
   "id": "e7acfac3",
   "metadata": {},
   "outputs": [
    {
     "data": {
      "image/png": "[encoded data removed]",
      "text/plain": [
       "<Figure size 432x288 with 1 Axes>"
      ]
     },
     "metadata": {
      "needs_background": "light"
     },
     "output_type": "display_data"
    }
   ],
   "source": [
    "sns.barplot(x = 'Type',\n",
    "            y = 'Total',\n",
    "            data = df_comp)\n",
    " \n",
    "# Show the plot\n",
    "plt.show()"
   ]
  },
  {
   "cell_type": "code",
   "execution_count": 125,
   "id": "b9b67f6b",
   "metadata": {},
   "outputs": [],
   "source": [
    "palette_color = sns.color_palette('bright')"
   ]
  },
  {
   "cell_type": "code",
   "execution_count": 126,
   "id": "e54d2916",
   "metadata": {},
   "outputs": [
    {
     "data": {
      "image/png": "[encoded data removed]",
      "text/plain": [
       "<Figure size 432x288 with 1 Axes>"
      ]
     },
     "metadata": {},
     "output_type": "display_data"
    }
   ],
   "source": [
    "plt.pie(df_comp['Total'], labels=df_comp['Type'], colors=palette_color, autopct='%.2f%%')\n",
    "plt.show()"
   ]
  },
  {
   "cell_type": "markdown",
   "id": "b6cec425",
   "metadata": {},
   "source": [
    "Total komplain yang belum tertangani sekitar **5 persen dari total response yaitu sebanyak 19 komplain**. Detail dari komplain akan ditampilkan pada tabel dibawah"
   ]
  },
  {
   "cell_type": "code",
   "execution_count": 127,
   "id": "271c7669",
   "metadata": {},
   "outputs": [],
   "source": [
    "df2 = df.loc[(df['Complain']==1)]"
   ]
  },
  {
   "cell_type": "code",
   "execution_count": 128,
   "id": "e372d9ab",
   "metadata": {},
   "outputs": [
    {
     "data": {
      "text/html": [
       "<div>\n",
       "<style scoped>\n",
       "    .dataframe tbody tr th:only-of-type {\n",
       "        vertical-align: middle;\n",
       "    }\n",
       "\n",
       "    .dataframe tbody tr th {\n",
       "        vertical-align: top;\n",
       "    }\n",
       "\n",
       "    .dataframe thead th {\n",
       "        text-align: right;\n",
       "    }\n",
       "</style>\n",
       "<table border=\"1\" class=\"dataframe\">\n",
       "  <thead>\n",
       "    <tr style=\"text-align: right;\">\n",
       "      <th></th>\n",
       "      <th>Income</th>\n",
       "      <th>Kidhome</th>\n",
       "      <th>Teenhome</th>\n",
       "      <th>Recency</th>\n",
       "      <th>MntWines</th>\n",
       "      <th>MntFruits</th>\n",
       "      <th>MntMeatProducts</th>\n",
       "      <th>MntFishProducts</th>\n",
       "      <th>MntSweetProducts</th>\n",
       "      <th>MntGoldProds</th>\n",
       "      <th>...</th>\n",
       "      <th>education_2n Cycle</th>\n",
       "      <th>education_Basic</th>\n",
       "      <th>education_Graduation</th>\n",
       "      <th>education_Master</th>\n",
       "      <th>education_PhD</th>\n",
       "      <th>MntTotal</th>\n",
       "      <th>MntRegularProds</th>\n",
       "      <th>AcceptedCmpOverall</th>\n",
       "      <th>Children</th>\n",
       "      <th>education_MasterDegree</th>\n",
       "    </tr>\n",
       "  </thead>\n",
       "  <tbody>\n",
       "    <tr>\n",
       "      <th>72</th>\n",
       "      <td>26326.0</td>\n",
       "      <td>0</td>\n",
       "      <td>0</td>\n",
       "      <td>12</td>\n",
       "      <td>1</td>\n",
       "      <td>0</td>\n",
       "      <td>5</td>\n",
       "      <td>0</td>\n",
       "      <td>3</td>\n",
       "      <td>9</td>\n",
       "      <td>...</td>\n",
       "      <td>1</td>\n",
       "      <td>0</td>\n",
       "      <td>0</td>\n",
       "      <td>0</td>\n",
       "      <td>0</td>\n",
       "      <td>9</td>\n",
       "      <td>0.0</td>\n",
       "      <td>0</td>\n",
       "      <td>0</td>\n",
       "      <td>1</td>\n",
       "    </tr>\n",
       "    <tr>\n",
       "      <th>136</th>\n",
       "      <td>38547.0</td>\n",
       "      <td>1</td>\n",
       "      <td>0</td>\n",
       "      <td>49</td>\n",
       "      <td>6</td>\n",
       "      <td>1</td>\n",
       "      <td>10</td>\n",
       "      <td>0</td>\n",
       "      <td>1</td>\n",
       "      <td>4</td>\n",
       "      <td>...</td>\n",
       "      <td>0</td>\n",
       "      <td>0</td>\n",
       "      <td>1</td>\n",
       "      <td>0</td>\n",
       "      <td>0</td>\n",
       "      <td>18</td>\n",
       "      <td>14.0</td>\n",
       "      <td>0</td>\n",
       "      <td>1</td>\n",
       "      <td>0</td>\n",
       "    </tr>\n",
       "    <tr>\n",
       "      <th>257</th>\n",
       "      <td>31788.0</td>\n",
       "      <td>1</td>\n",
       "      <td>0</td>\n",
       "      <td>15</td>\n",
       "      <td>16</td>\n",
       "      <td>7</td>\n",
       "      <td>23</td>\n",
       "      <td>0</td>\n",
       "      <td>8</td>\n",
       "      <td>6</td>\n",
       "      <td>...</td>\n",
       "      <td>0</td>\n",
       "      <td>0</td>\n",
       "      <td>0</td>\n",
       "      <td>1</td>\n",
       "      <td>0</td>\n",
       "      <td>54</td>\n",
       "      <td>48.0</td>\n",
       "      <td>0</td>\n",
       "      <td>1</td>\n",
       "      <td>1</td>\n",
       "    </tr>\n",
       "    <tr>\n",
       "      <th>338</th>\n",
       "      <td>38643.0</td>\n",
       "      <td>1</td>\n",
       "      <td>1</td>\n",
       "      <td>45</td>\n",
       "      <td>22</td>\n",
       "      <td>2</td>\n",
       "      <td>14</td>\n",
       "      <td>0</td>\n",
       "      <td>1</td>\n",
       "      <td>10</td>\n",
       "      <td>...</td>\n",
       "      <td>0</td>\n",
       "      <td>0</td>\n",
       "      <td>1</td>\n",
       "      <td>0</td>\n",
       "      <td>0</td>\n",
       "      <td>39</td>\n",
       "      <td>29.0</td>\n",
       "      <td>0</td>\n",
       "      <td>2</td>\n",
       "      <td>0</td>\n",
       "    </tr>\n",
       "    <tr>\n",
       "      <th>341</th>\n",
       "      <td>65073.0</td>\n",
       "      <td>0</td>\n",
       "      <td>0</td>\n",
       "      <td>65</td>\n",
       "      <td>629</td>\n",
       "      <td>17</td>\n",
       "      <td>177</td>\n",
       "      <td>69</td>\n",
       "      <td>0</td>\n",
       "      <td>8</td>\n",
       "      <td>...</td>\n",
       "      <td>0</td>\n",
       "      <td>0</td>\n",
       "      <td>0</td>\n",
       "      <td>1</td>\n",
       "      <td>0</td>\n",
       "      <td>892</td>\n",
       "      <td>884.0</td>\n",
       "      <td>0</td>\n",
       "      <td>0</td>\n",
       "      <td>1</td>\n",
       "    </tr>\n",
       "    <tr>\n",
       "      <th>573</th>\n",
       "      <td>39684.0</td>\n",
       "      <td>1</td>\n",
       "      <td>0</td>\n",
       "      <td>41</td>\n",
       "      <td>19</td>\n",
       "      <td>0</td>\n",
       "      <td>35</td>\n",
       "      <td>6</td>\n",
       "      <td>4</td>\n",
       "      <td>17</td>\n",
       "      <td>...</td>\n",
       "      <td>0</td>\n",
       "      <td>0</td>\n",
       "      <td>0</td>\n",
       "      <td>0</td>\n",
       "      <td>1</td>\n",
       "      <td>64</td>\n",
       "      <td>47.0</td>\n",
       "      <td>0</td>\n",
       "      <td>1</td>\n",
       "      <td>0</td>\n",
       "    </tr>\n",
       "    <tr>\n",
       "      <th>952</th>\n",
       "      <td>15716.0</td>\n",
       "      <td>1</td>\n",
       "      <td>0</td>\n",
       "      <td>8</td>\n",
       "      <td>16</td>\n",
       "      <td>5</td>\n",
       "      <td>30</td>\n",
       "      <td>8</td>\n",
       "      <td>7</td>\n",
       "      <td>26</td>\n",
       "      <td>...</td>\n",
       "      <td>1</td>\n",
       "      <td>0</td>\n",
       "      <td>0</td>\n",
       "      <td>0</td>\n",
       "      <td>0</td>\n",
       "      <td>66</td>\n",
       "      <td>40.0</td>\n",
       "      <td>0</td>\n",
       "      <td>1</td>\n",
       "      <td>1</td>\n",
       "    </tr>\n",
       "    <tr>\n",
       "      <th>1021</th>\n",
       "      <td>38998.0</td>\n",
       "      <td>1</td>\n",
       "      <td>1</td>\n",
       "      <td>92</td>\n",
       "      <td>34</td>\n",
       "      <td>1</td>\n",
       "      <td>14</td>\n",
       "      <td>0</td>\n",
       "      <td>0</td>\n",
       "      <td>5</td>\n",
       "      <td>...</td>\n",
       "      <td>0</td>\n",
       "      <td>0</td>\n",
       "      <td>1</td>\n",
       "      <td>0</td>\n",
       "      <td>0</td>\n",
       "      <td>49</td>\n",
       "      <td>44.0</td>\n",
       "      <td>0</td>\n",
       "      <td>2</td>\n",
       "      <td>0</td>\n",
       "    </tr>\n",
       "    <tr>\n",
       "      <th>1049</th>\n",
       "      <td>67023.0</td>\n",
       "      <td>0</td>\n",
       "      <td>0</td>\n",
       "      <td>93</td>\n",
       "      <td>444</td>\n",
       "      <td>44</td>\n",
       "      <td>382</td>\n",
       "      <td>11</td>\n",
       "      <td>8</td>\n",
       "      <td>17</td>\n",
       "      <td>...</td>\n",
       "      <td>0</td>\n",
       "      <td>0</td>\n",
       "      <td>1</td>\n",
       "      <td>0</td>\n",
       "      <td>0</td>\n",
       "      <td>889</td>\n",
       "      <td>872.0</td>\n",
       "      <td>0</td>\n",
       "      <td>0</td>\n",
       "      <td>0</td>\n",
       "    </tr>\n",
       "    <tr>\n",
       "      <th>1160</th>\n",
       "      <td>48070.0</td>\n",
       "      <td>0</td>\n",
       "      <td>1</td>\n",
       "      <td>33</td>\n",
       "      <td>373</td>\n",
       "      <td>14</td>\n",
       "      <td>83</td>\n",
       "      <td>6</td>\n",
       "      <td>9</td>\n",
       "      <td>19</td>\n",
       "      <td>...</td>\n",
       "      <td>0</td>\n",
       "      <td>0</td>\n",
       "      <td>1</td>\n",
       "      <td>0</td>\n",
       "      <td>0</td>\n",
       "      <td>485</td>\n",
       "      <td>466.0</td>\n",
       "      <td>0</td>\n",
       "      <td>1</td>\n",
       "      <td>0</td>\n",
       "    </tr>\n",
       "    <tr>\n",
       "      <th>1181</th>\n",
       "      <td>58113.0</td>\n",
       "      <td>0</td>\n",
       "      <td>1</td>\n",
       "      <td>66</td>\n",
       "      <td>221</td>\n",
       "      <td>104</td>\n",
       "      <td>169</td>\n",
       "      <td>102</td>\n",
       "      <td>78</td>\n",
       "      <td>84</td>\n",
       "      <td>...</td>\n",
       "      <td>0</td>\n",
       "      <td>0</td>\n",
       "      <td>1</td>\n",
       "      <td>0</td>\n",
       "      <td>0</td>\n",
       "      <td>674</td>\n",
       "      <td>590.0</td>\n",
       "      <td>0</td>\n",
       "      <td>1</td>\n",
       "      <td>0</td>\n",
       "    </tr>\n",
       "    <tr>\n",
       "      <th>1191</th>\n",
       "      <td>65748.0</td>\n",
       "      <td>0</td>\n",
       "      <td>1</td>\n",
       "      <td>58</td>\n",
       "      <td>172</td>\n",
       "      <td>73</td>\n",
       "      <td>93</td>\n",
       "      <td>95</td>\n",
       "      <td>78</td>\n",
       "      <td>34</td>\n",
       "      <td>...</td>\n",
       "      <td>0</td>\n",
       "      <td>0</td>\n",
       "      <td>1</td>\n",
       "      <td>0</td>\n",
       "      <td>0</td>\n",
       "      <td>511</td>\n",
       "      <td>477.0</td>\n",
       "      <td>0</td>\n",
       "      <td>1</td>\n",
       "      <td>0</td>\n",
       "    </tr>\n",
       "    <tr>\n",
       "      <th>1257</th>\n",
       "      <td>40800.0</td>\n",
       "      <td>1</td>\n",
       "      <td>2</td>\n",
       "      <td>77</td>\n",
       "      <td>24</td>\n",
       "      <td>0</td>\n",
       "      <td>27</td>\n",
       "      <td>8</td>\n",
       "      <td>30</td>\n",
       "      <td>10</td>\n",
       "      <td>...</td>\n",
       "      <td>0</td>\n",
       "      <td>0</td>\n",
       "      <td>1</td>\n",
       "      <td>0</td>\n",
       "      <td>0</td>\n",
       "      <td>89</td>\n",
       "      <td>79.0</td>\n",
       "      <td>0</td>\n",
       "      <td>3</td>\n",
       "      <td>0</td>\n",
       "    </tr>\n",
       "    <tr>\n",
       "      <th>1302</th>\n",
       "      <td>37774.0</td>\n",
       "      <td>2</td>\n",
       "      <td>0</td>\n",
       "      <td>28</td>\n",
       "      <td>173</td>\n",
       "      <td>8</td>\n",
       "      <td>107</td>\n",
       "      <td>7</td>\n",
       "      <td>2</td>\n",
       "      <td>176</td>\n",
       "      <td>...</td>\n",
       "      <td>0</td>\n",
       "      <td>0</td>\n",
       "      <td>1</td>\n",
       "      <td>0</td>\n",
       "      <td>0</td>\n",
       "      <td>297</td>\n",
       "      <td>121.0</td>\n",
       "      <td>1</td>\n",
       "      <td>2</td>\n",
       "      <td>0</td>\n",
       "    </tr>\n",
       "    <tr>\n",
       "      <th>1436</th>\n",
       "      <td>57957.0</td>\n",
       "      <td>0</td>\n",
       "      <td>1</td>\n",
       "      <td>24</td>\n",
       "      <td>290</td>\n",
       "      <td>59</td>\n",
       "      <td>177</td>\n",
       "      <td>77</td>\n",
       "      <td>5</td>\n",
       "      <td>29</td>\n",
       "      <td>...</td>\n",
       "      <td>0</td>\n",
       "      <td>0</td>\n",
       "      <td>1</td>\n",
       "      <td>0</td>\n",
       "      <td>0</td>\n",
       "      <td>608</td>\n",
       "      <td>579.0</td>\n",
       "      <td>0</td>\n",
       "      <td>1</td>\n",
       "      <td>0</td>\n",
       "    </tr>\n",
       "    <tr>\n",
       "      <th>1694</th>\n",
       "      <td>17688.0</td>\n",
       "      <td>1</td>\n",
       "      <td>0</td>\n",
       "      <td>82</td>\n",
       "      <td>2</td>\n",
       "      <td>2</td>\n",
       "      <td>1</td>\n",
       "      <td>3</td>\n",
       "      <td>1</td>\n",
       "      <td>2</td>\n",
       "      <td>...</td>\n",
       "      <td>0</td>\n",
       "      <td>0</td>\n",
       "      <td>1</td>\n",
       "      <td>0</td>\n",
       "      <td>0</td>\n",
       "      <td>9</td>\n",
       "      <td>7.0</td>\n",
       "      <td>0</td>\n",
       "      <td>1</td>\n",
       "      <td>0</td>\n",
       "    </tr>\n",
       "    <tr>\n",
       "      <th>1824</th>\n",
       "      <td>83257.0</td>\n",
       "      <td>0</td>\n",
       "      <td>0</td>\n",
       "      <td>56</td>\n",
       "      <td>536</td>\n",
       "      <td>27</td>\n",
       "      <td>590</td>\n",
       "      <td>38</td>\n",
       "      <td>107</td>\n",
       "      <td>67</td>\n",
       "      <td>...</td>\n",
       "      <td>1</td>\n",
       "      <td>0</td>\n",
       "      <td>0</td>\n",
       "      <td>0</td>\n",
       "      <td>0</td>\n",
       "      <td>1298</td>\n",
       "      <td>1231.0</td>\n",
       "      <td>2</td>\n",
       "      <td>0</td>\n",
       "      <td>1</td>\n",
       "    </tr>\n",
       "    <tr>\n",
       "      <th>1898</th>\n",
       "      <td>80982.0</td>\n",
       "      <td>1</td>\n",
       "      <td>1</td>\n",
       "      <td>48</td>\n",
       "      <td>505</td>\n",
       "      <td>137</td>\n",
       "      <td>401</td>\n",
       "      <td>104</td>\n",
       "      <td>22</td>\n",
       "      <td>22</td>\n",
       "      <td>...</td>\n",
       "      <td>0</td>\n",
       "      <td>0</td>\n",
       "      <td>1</td>\n",
       "      <td>0</td>\n",
       "      <td>0</td>\n",
       "      <td>1169</td>\n",
       "      <td>1147.0</td>\n",
       "      <td>0</td>\n",
       "      <td>2</td>\n",
       "      <td>0</td>\n",
       "    </tr>\n",
       "    <tr>\n",
       "      <th>1992</th>\n",
       "      <td>22263.0</td>\n",
       "      <td>1</td>\n",
       "      <td>1</td>\n",
       "      <td>31</td>\n",
       "      <td>17</td>\n",
       "      <td>0</td>\n",
       "      <td>2</td>\n",
       "      <td>0</td>\n",
       "      <td>0</td>\n",
       "      <td>2</td>\n",
       "      <td>...</td>\n",
       "      <td>0</td>\n",
       "      <td>0</td>\n",
       "      <td>1</td>\n",
       "      <td>0</td>\n",
       "      <td>0</td>\n",
       "      <td>19</td>\n",
       "      <td>17.0</td>\n",
       "      <td>0</td>\n",
       "      <td>2</td>\n",
       "      <td>0</td>\n",
       "    </tr>\n",
       "  </tbody>\n",
       "</table>\n",
       "<p>19 rows × 41 columns</p>\n",
       "</div>"
      ],
      "text/plain": [
       "       Income  Kidhome  Teenhome  Recency  MntWines  MntFruits  \\\n",
       "72    26326.0        0         0       12         1          0   \n",
       "136   38547.0        1         0       49         6          1   \n",
       "257   31788.0        1         0       15        16          7   \n",
       "338   38643.0        1         1       45        22          2   \n",
       "341   65073.0        0         0       65       629         17   \n",
       "573   39684.0        1         0       41        19          0   \n",
       "952   15716.0        1         0        8        16          5   \n",
       "1021  38998.0        1         1       92        34          1   \n",
       "1049  67023.0        0         0       93       444         44   \n",
       "1160  48070.0        0         1       33       373         14   \n",
       "1181  58113.0        0         1       66       221        104   \n",
       "1191  65748.0        0         1       58       172         73   \n",
       "1257  40800.0        1         2       77        24          0   \n",
       "1302  37774.0        2         0       28       173          8   \n",
       "1436  57957.0        0         1       24       290         59   \n",
       "1694  17688.0        1         0       82         2          2   \n",
       "1824  83257.0        0         0       56       536         27   \n",
       "1898  80982.0        1         1       48       505        137   \n",
       "1992  22263.0        1         1       31        17          0   \n",
       "\n",
       "      MntMeatProducts  MntFishProducts  MntSweetProducts  MntGoldProds  ...  \\\n",
       "72                  5                0                 3             9  ...   \n",
       "136                10                0                 1             4  ...   \n",
       "257                23                0                 8             6  ...   \n",
       "338                14                0                 1            10  ...   \n",
       "341               177               69                 0             8  ...   \n",
       "573                35                6                 4            17  ...   \n",
       "952                30                8                 7            26  ...   \n",
       "1021               14                0                 0             5  ...   \n",
       "1049              382               11                 8            17  ...   \n",
       "1160               83                6                 9            19  ...   \n",
       "1181              169              102                78            84  ...   \n",
       "1191               93               95                78            34  ...   \n",
       "1257               27                8                30            10  ...   \n",
       "1302              107                7                 2           176  ...   \n",
       "1436              177               77                 5            29  ...   \n",
       "1694                1                3                 1             2  ...   \n",
       "1824              590               38               107            67  ...   \n",
       "1898              401              104                22            22  ...   \n",
       "1992                2                0                 0             2  ...   \n",
       "\n",
       "      education_2n Cycle  education_Basic  education_Graduation  \\\n",
       "72                     1                0                     0   \n",
       "136                    0                0                     1   \n",
       "257                    0                0                     0   \n",
       "338                    0                0                     1   \n",
       "341                    0                0                     0   \n",
       "573                    0                0                     0   \n",
       "952                    1                0                     0   \n",
       "1021                   0                0                     1   \n",
       "1049                   0                0                     1   \n",
       "1160                   0                0                     1   \n",
       "1181                   0                0                     1   \n",
       "1191                   0                0                     1   \n",
       "1257                   0                0                     1   \n",
       "1302                   0                0                     1   \n",
       "1436                   0                0                     1   \n",
       "1694                   0                0                     1   \n",
       "1824                   1                0                     0   \n",
       "1898                   0                0                     1   \n",
       "1992                   0                0                     1   \n",
       "\n",
       "      education_Master  education_PhD  MntTotal  MntRegularProds  \\\n",
       "72                   0              0         9              0.0   \n",
       "136                  0              0        18             14.0   \n",
       "257                  1              0        54             48.0   \n",
       "338                  0              0        39             29.0   \n",
       "341                  1              0       892            884.0   \n",
       "573                  0              1        64             47.0   \n",
       "952                  0              0        66             40.0   \n",
       "1021                 0              0        49             44.0   \n",
       "1049                 0              0       889            872.0   \n",
       "1160                 0              0       485            466.0   \n",
       "1181                 0              0       674            590.0   \n",
       "1191                 0              0       511            477.0   \n",
       "1257                 0              0        89             79.0   \n",
       "1302                 0              0       297            121.0   \n",
       "1436                 0              0       608            579.0   \n",
       "1694                 0              0         9              7.0   \n",
       "1824                 0              0      1298           1231.0   \n",
       "1898                 0              0      1169           1147.0   \n",
       "1992                 0              0        19             17.0   \n",
       "\n",
       "      AcceptedCmpOverall  Children  education_MasterDegree  \n",
       "72                     0         0                       1  \n",
       "136                    0         1                       0  \n",
       "257                    0         1                       1  \n",
       "338                    0         2                       0  \n",
       "341                    0         0                       1  \n",
       "573                    0         1                       0  \n",
       "952                    0         1                       1  \n",
       "1021                   0         2                       0  \n",
       "1049                   0         0                       0  \n",
       "1160                   0         1                       0  \n",
       "1181                   0         1                       0  \n",
       "1191                   0         1                       0  \n",
       "1257                   0         3                       0  \n",
       "1302                   1         2                       0  \n",
       "1436                   0         1                       0  \n",
       "1694                   0         1                       0  \n",
       "1824                   2         0                       1  \n",
       "1898                   0         2                       0  \n",
       "1992                   0         2                       0  \n",
       "\n",
       "[19 rows x 41 columns]"
      ]
     },
     "execution_count": 128,
     "metadata": {},
     "output_type": "execute_result"
    }
   ],
   "source": [
    "df2"
   ]
  },
  {
   "cell_type": "code",
   "execution_count": 139,
   "id": "4dc7686b",
   "metadata": {},
   "outputs": [
    {
     "data": {
      "text/plain": [
       "1228184"
      ]
     },
     "execution_count": 139,
     "metadata": {},
     "output_type": "execute_result"
    }
   ],
   "source": [
    "df_product['Total'].sum()"
   ]
  },
  {
   "cell_type": "markdown",
   "id": "eee7d3d3",
   "metadata": {},
   "source": [
    "Total produk yang terjual adalah **1.228.184 Produk**"
   ]
  },
  {
   "cell_type": "code",
   "execution_count": 140,
   "id": "b9cfa6ff",
   "metadata": {},
   "outputs": [
    {
     "data": {
      "text/plain": [
       "98788"
      ]
     },
     "execution_count": 140,
     "metadata": {},
     "output_type": "execute_result"
    }
   ],
   "source": [
    "df['Recency'].sum()"
   ]
  },
  {
   "cell_type": "markdown",
   "id": "70e8f7b3",
   "metadata": {},
   "source": [
    "Total customer yang datang adalah **98.788 Customer**"
   ]
  },
  {
   "cell_type": "markdown",
   "id": "b1e7e738",
   "metadata": {},
   "source": [
    "# Kesimpulan"
   ]
  },
  {
   "cell_type": "markdown",
   "id": "6b15f224",
   "metadata": {},
   "source": [
    "Berdasarkan **EDA Marketing** diatas, didapat beberapa kesimpulan sebagai berikut.\n",
    "- Data dari marketing mempunyai 184 kolom duplikasi dan harus dihapus.\n",
    "- Terlihat bahwa variabel **Income** mempunyai korelasi pada **Web, Catalog, dan Store** artinya jika income seseorang meningkat maka kebiasaan membeli juga meningkat.\n",
    "- Rata-rata orang yang berbelanja adalah orang yang berumur **40-70**. Karena kebiasaan berbelanja menjadi kebutuhan primer terutama oleh orang tua untuk memenuhi kehidupan keluarga.\n",
    "- Income rata-rata dari orang yang berbelanja adalah **20000 USD sampai dengan 82000 USD** per tahun. Artinya customer berasal dari negara maju karena pendapatan per tahun negara maju mulai dari **11,000 USD**.\n",
    "- Rata-rata customer yang datang per hari adalah **0 - 80 customer** dan membeli **4 sampai 500 produk**. Untuk masalah customer perlu ditambah kampanye atau marketing yang lebih menarik pelanggan seperti, marketing di TV, Media Sosial, ataupun Diskon per akhir bulan.\n",
    "- Barang yang paling banyak terjual berada di **Toko**, karena customer bisa langsung melakukan **checking product** pada saat berada di Toko. Penjualan melalui **website juga lebih laku dibanding katalog maupun diskon**, karena pada masa sekarang belanja juga bisa melalui gadget, sehingga lebih mudah.\n",
    "- Campaign yang paling laku adalah campaign **nomor 4**, karena bisa jadi dari tempat yang strategis dan waktu yang tepat sehingga menghasilkan campaign yang baik.\n",
    "- Produk yang paling laku adalah **Wines**, produk tersebut laku bisa jadi karena **cuaca di toko tersebut sedang musim dingin**, sehingga produk wines lebih laku dibanding produk lainnya.\n",
    "- Total komplain yang belum tertangani sekitar **5 persen dari total response yaitu sebanyak 19 komplain**. Hal tersebut perlu diselesaikan agar menaikkan review dari toko tersebut."
   ]
  },
  {
   "cell_type": "code",
   "execution_count": null,
   "id": "3928d3ce",
   "metadata": {},
   "outputs": [],
   "source": []
  }
 ],
 "metadata": {
  "kernelspec": {
   "display_name": "Python 3 (ipykernel)",
   "language": "python",
   "name": "python3"
  },
  "language_info": {
   "codemirror_mode": {
    "name": "ipython",
    "version": 3
   },
   "file_extension": ".py",
   "mimetype": "text/x-python",
   "name": "python",
   "nbconvert_exporter": "python",
   "pygments_lexer": "ipython3",
   "version": "3.9.7"
  }
 },
 "nbformat": 4,
 "nbformat_minor": 5
}
