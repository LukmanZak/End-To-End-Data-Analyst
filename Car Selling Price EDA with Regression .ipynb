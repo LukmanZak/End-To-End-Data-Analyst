{
 "cells": [
  {
   "cell_type": "markdown",
   "id": "0503f412",
   "metadata": {},
   "source": [
    "**EDA for Diabetes Data**\n",
    "\n",
    "*Data Analyst*\n",
    "- 1. Are there any null values or duplicated values? How will you wrangle/handle them?\n",
    "- 2. Are there any variables that warrant transformations?\n",
    "- 3. Do you notice any patterns or anomalies in the data? Can you plot them?\n",
    "\n",
    "*Data Statistic*\n",
    "- 1. Distribution of mileage\n",
    "- 2. Distribution of engine\n",
    "- 3. Distribution of max_power\n",
    "- 4. Distribution of torque\n",
    "- 5. Bar Chart by Fuel\n",
    "- 6. Bar Chart by Seller_type\n",
    "- 7. Bar Chart by Transmission\n",
    "- 8. Bar Chart by owner\n",
    "- 9. Show Data oldest car\n",
    "- 10. Total Selling Price\n",
    "- 11. Car with max selling price\n",
    "- 12. Machine Learning Regression\n",
    "\n",
    "Soal Machine Learning:\n",
    "- Jika saya mempunyai mobil Hyundai tahun 2016 dengan total km 12000 dilengkapi dengan bahan bakar Petrol, penjualan secara individu, transmisi manual, tangan pertama, jarak tempuh 23 Miles, engine 1497 CC, 78 Horse Power, 250 Torsi , serta 5 kursi. Berapakah harga yang diberikan ?\n",
    "\n",
    "*Data Visualization*\n",
    "\n",
    "Will be showing in Power BI"
   ]
  },
  {
   "cell_type": "code",
   "execution_count": 116,
   "id": "94074e05",
   "metadata": {},
   "outputs": [
    {
     "data": {
      "text/plain": [
       "array(['Diesel', 'Petrol', 'LPG', 'CNG'], dtype=object)"
      ]
     },
     "execution_count": 116,
     "metadata": {},
     "output_type": "execute_result"
    }
   ],
   "source": [
    "df['fuel'].unique()"
   ]
  },
  {
   "cell_type": "code",
   "execution_count": 59,
   "id": "61004beb",
   "metadata": {},
   "outputs": [],
   "source": [
    "import pandas as pd\n",
    "import numpy as np\n",
    "import seaborn as sns\n",
    "import matplotlib.pyplot as plt\n",
    "from sklearn.model_selection import train_test_split\n",
    "from sklearn import svm\n",
    "from sklearn.metrics import accuracy_score\n",
    "from sklearn.preprocessing import OrdinalEncoder"
   ]
  },
  {
   "cell_type": "markdown",
   "id": "62876c9c",
   "metadata": {},
   "source": [
    "# Read Data"
   ]
  },
  {
   "cell_type": "code",
   "execution_count": 40,
   "id": "6389da38",
   "metadata": {},
   "outputs": [],
   "source": [
    "df = pd.read_csv('CarDetail.csv')"
   ]
  },
  {
   "cell_type": "code",
   "execution_count": 41,
   "id": "e2d4a64a",
   "metadata": {},
   "outputs": [
    {
     "data": {
      "text/html": [
       "<div>\n",
       "<style scoped>\n",
       "    .dataframe tbody tr th:only-of-type {\n",
       "        vertical-align: middle;\n",
       "    }\n",
       "\n",
       "    .dataframe tbody tr th {\n",
       "        vertical-align: top;\n",
       "    }\n",
       "\n",
       "    .dataframe thead th {\n",
       "        text-align: right;\n",
       "    }\n",
       "</style>\n",
       "<table border=\"1\" class=\"dataframe\">\n",
       "  <thead>\n",
       "    <tr style=\"text-align: right;\">\n",
       "      <th></th>\n",
       "      <th>name.1</th>\n",
       "      <th>year</th>\n",
       "      <th>km_driven</th>\n",
       "      <th>fuel</th>\n",
       "      <th>seller_type</th>\n",
       "      <th>transmission</th>\n",
       "      <th>owner</th>\n",
       "      <th>mileage</th>\n",
       "      <th>engine</th>\n",
       "      <th>max_power</th>\n",
       "      <th>torque.1</th>\n",
       "      <th>seats</th>\n",
       "      <th>selling_price</th>\n",
       "    </tr>\n",
       "  </thead>\n",
       "  <tbody>\n",
       "    <tr>\n",
       "      <th>0</th>\n",
       "      <td>Maruti</td>\n",
       "      <td>2014</td>\n",
       "      <td>145500</td>\n",
       "      <td>Diesel</td>\n",
       "      <td>Individual</td>\n",
       "      <td>Manual</td>\n",
       "      <td>First Owner</td>\n",
       "      <td>23.40</td>\n",
       "      <td>1248</td>\n",
       "      <td>74.00</td>\n",
       "      <td>190.0</td>\n",
       "      <td>5</td>\n",
       "      <td>450000</td>\n",
       "    </tr>\n",
       "    <tr>\n",
       "      <th>1</th>\n",
       "      <td>Skoda</td>\n",
       "      <td>2014</td>\n",
       "      <td>120000</td>\n",
       "      <td>Diesel</td>\n",
       "      <td>Individual</td>\n",
       "      <td>Manual</td>\n",
       "      <td>Second Owner</td>\n",
       "      <td>21.14</td>\n",
       "      <td>1498</td>\n",
       "      <td>103.52</td>\n",
       "      <td>250.0</td>\n",
       "      <td>5</td>\n",
       "      <td>370000</td>\n",
       "    </tr>\n",
       "    <tr>\n",
       "      <th>2</th>\n",
       "      <td>Honda</td>\n",
       "      <td>2006</td>\n",
       "      <td>140000</td>\n",
       "      <td>Petrol</td>\n",
       "      <td>Individual</td>\n",
       "      <td>Manual</td>\n",
       "      <td>Third Owner</td>\n",
       "      <td>17.70</td>\n",
       "      <td>1497</td>\n",
       "      <td>78.00</td>\n",
       "      <td>12.7</td>\n",
       "      <td>5</td>\n",
       "      <td>158000</td>\n",
       "    </tr>\n",
       "    <tr>\n",
       "      <th>3</th>\n",
       "      <td>Hyundai</td>\n",
       "      <td>2010</td>\n",
       "      <td>127000</td>\n",
       "      <td>Diesel</td>\n",
       "      <td>Individual</td>\n",
       "      <td>Manual</td>\n",
       "      <td>First Owner</td>\n",
       "      <td>23.00</td>\n",
       "      <td>1396</td>\n",
       "      <td>90.00</td>\n",
       "      <td>22.4</td>\n",
       "      <td>5</td>\n",
       "      <td>225000</td>\n",
       "    </tr>\n",
       "    <tr>\n",
       "      <th>4</th>\n",
       "      <td>Maruti</td>\n",
       "      <td>2007</td>\n",
       "      <td>120000</td>\n",
       "      <td>Petrol</td>\n",
       "      <td>Individual</td>\n",
       "      <td>Manual</td>\n",
       "      <td>First Owner</td>\n",
       "      <td>16.10</td>\n",
       "      <td>1298</td>\n",
       "      <td>88.20</td>\n",
       "      <td>11.5</td>\n",
       "      <td>5</td>\n",
       "      <td>130000</td>\n",
       "    </tr>\n",
       "    <tr>\n",
       "      <th>...</th>\n",
       "      <td>...</td>\n",
       "      <td>...</td>\n",
       "      <td>...</td>\n",
       "      <td>...</td>\n",
       "      <td>...</td>\n",
       "      <td>...</td>\n",
       "      <td>...</td>\n",
       "      <td>...</td>\n",
       "      <td>...</td>\n",
       "      <td>...</td>\n",
       "      <td>...</td>\n",
       "      <td>...</td>\n",
       "      <td>...</td>\n",
       "    </tr>\n",
       "    <tr>\n",
       "      <th>7901</th>\n",
       "      <td>Hyundai</td>\n",
       "      <td>2013</td>\n",
       "      <td>110000</td>\n",
       "      <td>Petrol</td>\n",
       "      <td>Individual</td>\n",
       "      <td>Manual</td>\n",
       "      <td>First Owner</td>\n",
       "      <td>18.50</td>\n",
       "      <td>1197</td>\n",
       "      <td>82.85</td>\n",
       "      <td>113.7</td>\n",
       "      <td>5</td>\n",
       "      <td>320000</td>\n",
       "    </tr>\n",
       "    <tr>\n",
       "      <th>7902</th>\n",
       "      <td>Hyundai</td>\n",
       "      <td>2007</td>\n",
       "      <td>119000</td>\n",
       "      <td>Diesel</td>\n",
       "      <td>Individual</td>\n",
       "      <td>Manual</td>\n",
       "      <td>Fourth &amp; Above Owner</td>\n",
       "      <td>16.80</td>\n",
       "      <td>1493</td>\n",
       "      <td>110.00</td>\n",
       "      <td>24.0</td>\n",
       "      <td>5</td>\n",
       "      <td>135000</td>\n",
       "    </tr>\n",
       "    <tr>\n",
       "      <th>7903</th>\n",
       "      <td>Maruti</td>\n",
       "      <td>2009</td>\n",
       "      <td>120000</td>\n",
       "      <td>Diesel</td>\n",
       "      <td>Individual</td>\n",
       "      <td>Manual</td>\n",
       "      <td>First Owner</td>\n",
       "      <td>19.30</td>\n",
       "      <td>1248</td>\n",
       "      <td>73.90</td>\n",
       "      <td>190.0</td>\n",
       "      <td>5</td>\n",
       "      <td>382000</td>\n",
       "    </tr>\n",
       "    <tr>\n",
       "      <th>7904</th>\n",
       "      <td>Tata</td>\n",
       "      <td>2013</td>\n",
       "      <td>25000</td>\n",
       "      <td>Diesel</td>\n",
       "      <td>Individual</td>\n",
       "      <td>Manual</td>\n",
       "      <td>First Owner</td>\n",
       "      <td>23.57</td>\n",
       "      <td>1396</td>\n",
       "      <td>70.00</td>\n",
       "      <td>140.0</td>\n",
       "      <td>5</td>\n",
       "      <td>290000</td>\n",
       "    </tr>\n",
       "    <tr>\n",
       "      <th>7905</th>\n",
       "      <td>Tata</td>\n",
       "      <td>2013</td>\n",
       "      <td>25000</td>\n",
       "      <td>Diesel</td>\n",
       "      <td>Individual</td>\n",
       "      <td>Manual</td>\n",
       "      <td>First Owner</td>\n",
       "      <td>23.57</td>\n",
       "      <td>1396</td>\n",
       "      <td>70.00</td>\n",
       "      <td>140.0</td>\n",
       "      <td>5</td>\n",
       "      <td>290000</td>\n",
       "    </tr>\n",
       "  </tbody>\n",
       "</table>\n",
       "<p>7906 rows × 13 columns</p>\n",
       "</div>"
      ],
      "text/plain": [
       "       name.1  year  km_driven    fuel seller_type transmission  \\\n",
       "0      Maruti  2014     145500  Diesel  Individual       Manual   \n",
       "1       Skoda  2014     120000  Diesel  Individual       Manual   \n",
       "2       Honda  2006     140000  Petrol  Individual       Manual   \n",
       "3     Hyundai  2010     127000  Diesel  Individual       Manual   \n",
       "4      Maruti  2007     120000  Petrol  Individual       Manual   \n",
       "...       ...   ...        ...     ...         ...          ...   \n",
       "7901  Hyundai  2013     110000  Petrol  Individual       Manual   \n",
       "7902  Hyundai  2007     119000  Diesel  Individual       Manual   \n",
       "7903   Maruti  2009     120000  Diesel  Individual       Manual   \n",
       "7904     Tata  2013      25000  Diesel  Individual       Manual   \n",
       "7905     Tata  2013      25000  Diesel  Individual       Manual   \n",
       "\n",
       "                     owner  mileage  engine  max_power  torque.1  seats  \\\n",
       "0              First Owner    23.40    1248      74.00     190.0      5   \n",
       "1             Second Owner    21.14    1498     103.52     250.0      5   \n",
       "2              Third Owner    17.70    1497      78.00      12.7      5   \n",
       "3              First Owner    23.00    1396      90.00      22.4      5   \n",
       "4              First Owner    16.10    1298      88.20      11.5      5   \n",
       "...                    ...      ...     ...        ...       ...    ...   \n",
       "7901           First Owner    18.50    1197      82.85     113.7      5   \n",
       "7902  Fourth & Above Owner    16.80    1493     110.00      24.0      5   \n",
       "7903           First Owner    19.30    1248      73.90     190.0      5   \n",
       "7904           First Owner    23.57    1396      70.00     140.0      5   \n",
       "7905           First Owner    23.57    1396      70.00     140.0      5   \n",
       "\n",
       "      selling_price  \n",
       "0            450000  \n",
       "1            370000  \n",
       "2            158000  \n",
       "3            225000  \n",
       "4            130000  \n",
       "...             ...  \n",
       "7901         320000  \n",
       "7902         135000  \n",
       "7903         382000  \n",
       "7904         290000  \n",
       "7905         290000  \n",
       "\n",
       "[7906 rows x 13 columns]"
      ]
     },
     "execution_count": 41,
     "metadata": {},
     "output_type": "execute_result"
    }
   ],
   "source": [
    "df"
   ]
  },
  {
   "cell_type": "markdown",
   "id": "cfbd2aa1",
   "metadata": {},
   "source": [
    "- Mileage = Jarak Tempuh dalam mil (Mil.)\n",
    "- Engine = Besar CC mobil (CC)\n",
    "- Max_power = Horse Power (HP)\n",
    "- Torque = Satuan Torsi Mobil (Newton Meter)"
   ]
  },
  {
   "cell_type": "markdown",
   "id": "a2add403",
   "metadata": {},
   "source": [
    "# Check Outlier, Null Values, dan Duplicated Values"
   ]
  },
  {
   "cell_type": "code",
   "execution_count": 42,
   "id": "1421febe",
   "metadata": {},
   "outputs": [
    {
     "data": {
      "text/plain": [
       "name.1            0\n",
       "year              0\n",
       "km_driven         0\n",
       "fuel              0\n",
       "seller_type       0\n",
       "transmission      0\n",
       "owner             0\n",
       "mileage           0\n",
       "engine            0\n",
       "max_power         0\n",
       "torque.1         10\n",
       "seats             0\n",
       "selling_price     0\n",
       "dtype: int64"
      ]
     },
     "execution_count": 42,
     "metadata": {},
     "output_type": "execute_result"
    }
   ],
   "source": [
    "df.isnull().sum()"
   ]
  },
  {
   "cell_type": "markdown",
   "id": "86d5a565",
   "metadata": {},
   "source": [
    "Ada 10 Data torque yang kosong, sehingga akan ditampilkan data tersebut"
   ]
  },
  {
   "cell_type": "code",
   "execution_count": 43,
   "id": "b018c90e",
   "metadata": {},
   "outputs": [
    {
     "data": {
      "text/html": [
       "<div>\n",
       "<style scoped>\n",
       "    .dataframe tbody tr th:only-of-type {\n",
       "        vertical-align: middle;\n",
       "    }\n",
       "\n",
       "    .dataframe tbody tr th {\n",
       "        vertical-align: top;\n",
       "    }\n",
       "\n",
       "    .dataframe thead th {\n",
       "        text-align: right;\n",
       "    }\n",
       "</style>\n",
       "<table border=\"1\" class=\"dataframe\">\n",
       "  <thead>\n",
       "    <tr style=\"text-align: right;\">\n",
       "      <th></th>\n",
       "      <th>name.1</th>\n",
       "      <th>year</th>\n",
       "      <th>km_driven</th>\n",
       "      <th>fuel</th>\n",
       "      <th>seller_type</th>\n",
       "      <th>transmission</th>\n",
       "      <th>owner</th>\n",
       "      <th>mileage</th>\n",
       "      <th>engine</th>\n",
       "      <th>max_power</th>\n",
       "      <th>torque.1</th>\n",
       "      <th>seats</th>\n",
       "      <th>selling_price</th>\n",
       "    </tr>\n",
       "  </thead>\n",
       "  <tbody>\n",
       "    <tr>\n",
       "      <th>751</th>\n",
       "      <td>Ford</td>\n",
       "      <td>2013</td>\n",
       "      <td>110000</td>\n",
       "      <td>Diesel</td>\n",
       "      <td>Individual</td>\n",
       "      <td>Automatic</td>\n",
       "      <td>Third Owner</td>\n",
       "      <td>12.8</td>\n",
       "      <td>2953</td>\n",
       "      <td>156.00</td>\n",
       "      <td>NaN</td>\n",
       "      <td>7</td>\n",
       "      <td>1075000</td>\n",
       "    </tr>\n",
       "    <tr>\n",
       "      <th>1941</th>\n",
       "      <td>Honda</td>\n",
       "      <td>2011</td>\n",
       "      <td>80000</td>\n",
       "      <td>Petrol</td>\n",
       "      <td>Individual</td>\n",
       "      <td>Manual</td>\n",
       "      <td>Second Owner</td>\n",
       "      <td>16.0</td>\n",
       "      <td>1198</td>\n",
       "      <td>90.00</td>\n",
       "      <td>NaN</td>\n",
       "      <td>5</td>\n",
       "      <td>350000</td>\n",
       "    </tr>\n",
       "    <tr>\n",
       "      <th>2163</th>\n",
       "      <td>Hyundai</td>\n",
       "      <td>2018</td>\n",
       "      <td>5000</td>\n",
       "      <td>Petrol</td>\n",
       "      <td>Individual</td>\n",
       "      <td>Automatic</td>\n",
       "      <td>First Owner</td>\n",
       "      <td>14.8</td>\n",
       "      <td>1591</td>\n",
       "      <td>121.30</td>\n",
       "      <td>NaN</td>\n",
       "      <td>5</td>\n",
       "      <td>1350000</td>\n",
       "    </tr>\n",
       "    <tr>\n",
       "      <th>2804</th>\n",
       "      <td>Hyundai</td>\n",
       "      <td>2019</td>\n",
       "      <td>20000</td>\n",
       "      <td>Diesel</td>\n",
       "      <td>Individual</td>\n",
       "      <td>Manual</td>\n",
       "      <td>First Owner</td>\n",
       "      <td>24.0</td>\n",
       "      <td>1396</td>\n",
       "      <td>88.76</td>\n",
       "      <td>NaN</td>\n",
       "      <td>5</td>\n",
       "      <td>960000</td>\n",
       "    </tr>\n",
       "    <tr>\n",
       "      <th>3149</th>\n",
       "      <td>Hyundai</td>\n",
       "      <td>2015</td>\n",
       "      <td>40000</td>\n",
       "      <td>Diesel</td>\n",
       "      <td>Dealer</td>\n",
       "      <td>Automatic</td>\n",
       "      <td>First Owner</td>\n",
       "      <td>17.6</td>\n",
       "      <td>1582</td>\n",
       "      <td>126.20</td>\n",
       "      <td>NaN</td>\n",
       "      <td>5</td>\n",
       "      <td>910000</td>\n",
       "    </tr>\n",
       "    <tr>\n",
       "      <th>4073</th>\n",
       "      <td>Isuzu</td>\n",
       "      <td>2019</td>\n",
       "      <td>10000</td>\n",
       "      <td>Diesel</td>\n",
       "      <td>Individual</td>\n",
       "      <td>Automatic</td>\n",
       "      <td>First Owner</td>\n",
       "      <td>13.8</td>\n",
       "      <td>2999</td>\n",
       "      <td>174.57</td>\n",
       "      <td>NaN</td>\n",
       "      <td>7</td>\n",
       "      <td>2700000</td>\n",
       "    </tr>\n",
       "    <tr>\n",
       "      <th>4268</th>\n",
       "      <td>Isuzu</td>\n",
       "      <td>2019</td>\n",
       "      <td>10000</td>\n",
       "      <td>Diesel</td>\n",
       "      <td>Individual</td>\n",
       "      <td>Automatic</td>\n",
       "      <td>First Owner</td>\n",
       "      <td>13.8</td>\n",
       "      <td>2999</td>\n",
       "      <td>174.57</td>\n",
       "      <td>NaN</td>\n",
       "      <td>7</td>\n",
       "      <td>2700000</td>\n",
       "    </tr>\n",
       "    <tr>\n",
       "      <th>6110</th>\n",
       "      <td>Hyundai</td>\n",
       "      <td>2017</td>\n",
       "      <td>41000</td>\n",
       "      <td>Diesel</td>\n",
       "      <td>Dealer</td>\n",
       "      <td>Manual</td>\n",
       "      <td>First Owner</td>\n",
       "      <td>20.5</td>\n",
       "      <td>1582</td>\n",
       "      <td>126.20</td>\n",
       "      <td>NaN</td>\n",
       "      <td>5</td>\n",
       "      <td>975000</td>\n",
       "    </tr>\n",
       "    <tr>\n",
       "      <th>6992</th>\n",
       "      <td>Hyundai</td>\n",
       "      <td>2018</td>\n",
       "      <td>55000</td>\n",
       "      <td>Petrol</td>\n",
       "      <td>Individual</td>\n",
       "      <td>Automatic</td>\n",
       "      <td>First Owner</td>\n",
       "      <td>14.8</td>\n",
       "      <td>1591</td>\n",
       "      <td>121.30</td>\n",
       "      <td>NaN</td>\n",
       "      <td>5</td>\n",
       "      <td>1380000</td>\n",
       "    </tr>\n",
       "    <tr>\n",
       "      <th>7843</th>\n",
       "      <td>Hyundai</td>\n",
       "      <td>2016</td>\n",
       "      <td>40000</td>\n",
       "      <td>Petrol</td>\n",
       "      <td>Dealer</td>\n",
       "      <td>Automatic</td>\n",
       "      <td>First Owner</td>\n",
       "      <td>14.8</td>\n",
       "      <td>1591</td>\n",
       "      <td>121.30</td>\n",
       "      <td>NaN</td>\n",
       "      <td>5</td>\n",
       "      <td>890000</td>\n",
       "    </tr>\n",
       "  </tbody>\n",
       "</table>\n",
       "</div>"
      ],
      "text/plain": [
       "       name.1  year  km_driven    fuel seller_type transmission         owner  \\\n",
       "751      Ford  2013     110000  Diesel  Individual    Automatic   Third Owner   \n",
       "1941    Honda  2011      80000  Petrol  Individual       Manual  Second Owner   \n",
       "2163  Hyundai  2018       5000  Petrol  Individual    Automatic   First Owner   \n",
       "2804  Hyundai  2019      20000  Diesel  Individual       Manual   First Owner   \n",
       "3149  Hyundai  2015      40000  Diesel      Dealer    Automatic   First Owner   \n",
       "4073    Isuzu  2019      10000  Diesel  Individual    Automatic   First Owner   \n",
       "4268    Isuzu  2019      10000  Diesel  Individual    Automatic   First Owner   \n",
       "6110  Hyundai  2017      41000  Diesel      Dealer       Manual   First Owner   \n",
       "6992  Hyundai  2018      55000  Petrol  Individual    Automatic   First Owner   \n",
       "7843  Hyundai  2016      40000  Petrol      Dealer    Automatic   First Owner   \n",
       "\n",
       "      mileage  engine  max_power  torque.1  seats  selling_price  \n",
       "751      12.8    2953     156.00       NaN      7        1075000  \n",
       "1941     16.0    1198      90.00       NaN      5         350000  \n",
       "2163     14.8    1591     121.30       NaN      5        1350000  \n",
       "2804     24.0    1396      88.76       NaN      5         960000  \n",
       "3149     17.6    1582     126.20       NaN      5         910000  \n",
       "4073     13.8    2999     174.57       NaN      7        2700000  \n",
       "4268     13.8    2999     174.57       NaN      7        2700000  \n",
       "6110     20.5    1582     126.20       NaN      5         975000  \n",
       "6992     14.8    1591     121.30       NaN      5        1380000  \n",
       "7843     14.8    1591     121.30       NaN      5         890000  "
      ]
     },
     "execution_count": 43,
     "metadata": {},
     "output_type": "execute_result"
    }
   ],
   "source": [
    "null_data = pd.isnull(df['torque.1'])\n",
    "df[null_data]"
   ]
  },
  {
   "cell_type": "markdown",
   "id": "7a1ad795",
   "metadata": {},
   "source": [
    "**Replace data** torque dengan **nilai rata-rata dari tiap kendaraan**, contoh torque yang kosong pada Hyundai akan direplace dengan rata-rata torque Hyundai"
   ]
  },
  {
   "cell_type": "markdown",
   "id": "4d93d424",
   "metadata": {},
   "source": [
    "**Rata-rata torsi Hyundai**"
   ]
  },
  {
   "cell_type": "code",
   "execution_count": 44,
   "id": "ea9ece54",
   "metadata": {},
   "outputs": [
    {
     "data": {
      "text/plain": [
       "136.84311669128493"
      ]
     },
     "execution_count": 44,
     "metadata": {},
     "output_type": "execute_result"
    }
   ],
   "source": [
    "tor_hyundai = df.loc[(df['name.1']=='Hyundai')]\n",
    "tor_hyundai['torque.1'].mean()"
   ]
  },
  {
   "cell_type": "markdown",
   "id": "3c41a35d",
   "metadata": {},
   "source": [
    "**Replace Nan Values torsi Hyundai**"
   ]
  },
  {
   "cell_type": "code",
   "execution_count": 46,
   "id": "c4ff1f80",
   "metadata": {},
   "outputs": [],
   "source": [
    "df.loc[2163,'torque.1'] = 136.84\n",
    "df.loc[2804,'torque.1'] = 136.84\n",
    "df.loc[3149,'torque.1'] = 136.84\n",
    "df.loc[6110,'torque.1'] = 136.84\n",
    "df.loc[6992,'torque.1'] = 136.84\n",
    "df.loc[7843,'torque.1'] = 136.84"
   ]
  },
  {
   "cell_type": "markdown",
   "id": "353dcb71",
   "metadata": {},
   "source": [
    "**Rata-rata torsi Isuzu**"
   ]
  },
  {
   "cell_type": "code",
   "execution_count": 47,
   "id": "a4278a45",
   "metadata": {},
   "outputs": [
    {
     "data": {
      "text/plain": [
       "334.3333333333333"
      ]
     },
     "execution_count": 47,
     "metadata": {},
     "output_type": "execute_result"
    }
   ],
   "source": [
    "tor_isuzu = df.loc[(df['name.1']=='Isuzu')]\n",
    "tor_isuzu['torque.1'].mean()"
   ]
  },
  {
   "cell_type": "markdown",
   "id": "37c3006e",
   "metadata": {},
   "source": [
    "**Replace torsi Isuzu**"
   ]
  },
  {
   "cell_type": "code",
   "execution_count": 49,
   "id": "2d028950",
   "metadata": {},
   "outputs": [],
   "source": [
    "df.loc[4073,'torque.1'] = 334.33\n",
    "df.loc[4268,'torque.1'] = 334.33"
   ]
  },
  {
   "cell_type": "markdown",
   "id": "49c79537",
   "metadata": {},
   "source": [
    "**Rata-rata torsi Honda**"
   ]
  },
  {
   "cell_type": "code",
   "execution_count": 50,
   "id": "deb8e7cf",
   "metadata": {},
   "outputs": [
    {
     "data": {
      "text/plain": [
       "142.26387096774187"
      ]
     },
     "execution_count": 50,
     "metadata": {},
     "output_type": "execute_result"
    }
   ],
   "source": [
    "tor_honda = df.loc[(df['name.1']=='Honda')]\n",
    "tor_honda['torque.1'].mean()"
   ]
  },
  {
   "cell_type": "markdown",
   "id": "c08b8e8e",
   "metadata": {},
   "source": [
    "**Replace Torsi Honda**"
   ]
  },
  {
   "cell_type": "code",
   "execution_count": 51,
   "id": "6ad56c42",
   "metadata": {},
   "outputs": [],
   "source": [
    "df.loc[1941,'torque.1'] = 142.26"
   ]
  },
  {
   "cell_type": "markdown",
   "id": "df50be51",
   "metadata": {},
   "source": [
    "**Rata-rata torsi Ford**"
   ]
  },
  {
   "cell_type": "code",
   "execution_count": 52,
   "id": "14f763e0",
   "metadata": {},
   "outputs": [
    {
     "data": {
      "text/plain": [
       "168.09069767441872"
      ]
     },
     "execution_count": 52,
     "metadata": {},
     "output_type": "execute_result"
    }
   ],
   "source": [
    "tor_Ford = df.loc[(df['name.1']=='Ford')]\n",
    "tor_Ford['torque.1'].mean()"
   ]
  },
  {
   "cell_type": "markdown",
   "id": "8f7ebf8c",
   "metadata": {},
   "source": [
    "**Replace Torsi Ford**"
   ]
  },
  {
   "cell_type": "code",
   "execution_count": 54,
   "id": "c57ee37d",
   "metadata": {},
   "outputs": [],
   "source": [
    "df.loc[751,'torque.1'] = 168.09"
   ]
  },
  {
   "cell_type": "code",
   "execution_count": 55,
   "id": "860330f3",
   "metadata": {},
   "outputs": [
    {
     "data": {
      "text/plain": [
       "name.1           0\n",
       "year             0\n",
       "km_driven        0\n",
       "fuel             0\n",
       "seller_type      0\n",
       "transmission     0\n",
       "owner            0\n",
       "mileage          0\n",
       "engine           0\n",
       "max_power        0\n",
       "torque.1         0\n",
       "seats            0\n",
       "selling_price    0\n",
       "dtype: int64"
      ]
     },
     "execution_count": 55,
     "metadata": {},
     "output_type": "execute_result"
    }
   ],
   "source": [
    "df.isnull().sum()"
   ]
  },
  {
   "cell_type": "code",
   "execution_count": 56,
   "id": "5ed4daab",
   "metadata": {},
   "outputs": [
    {
     "data": {
      "text/plain": [
       "name.1            object\n",
       "year               int64\n",
       "km_driven          int64\n",
       "fuel              object\n",
       "seller_type       object\n",
       "transmission      object\n",
       "owner             object\n",
       "mileage          float64\n",
       "engine             int64\n",
       "max_power        float64\n",
       "torque.1         float64\n",
       "seats              int64\n",
       "selling_price      int64\n",
       "dtype: object"
      ]
     },
     "execution_count": 56,
     "metadata": {},
     "output_type": "execute_result"
    }
   ],
   "source": [
    "df.dtypes"
   ]
  },
  {
   "cell_type": "markdown",
   "id": "dff9e313",
   "metadata": {},
   "source": [
    "# Transform name column"
   ]
  },
  {
   "cell_type": "code",
   "execution_count": 61,
   "id": "c8e49cf0",
   "metadata": {},
   "outputs": [],
   "source": [
    "df = df.rename(columns={'name.1': 'NameCar', 'torque.1': 'Torque'})"
   ]
  },
  {
   "cell_type": "code",
   "execution_count": 62,
   "id": "185d19d0",
   "metadata": {},
   "outputs": [
    {
     "data": {
      "text/html": [
       "<div>\n",
       "<style scoped>\n",
       "    .dataframe tbody tr th:only-of-type {\n",
       "        vertical-align: middle;\n",
       "    }\n",
       "\n",
       "    .dataframe tbody tr th {\n",
       "        vertical-align: top;\n",
       "    }\n",
       "\n",
       "    .dataframe thead th {\n",
       "        text-align: right;\n",
       "    }\n",
       "</style>\n",
       "<table border=\"1\" class=\"dataframe\">\n",
       "  <thead>\n",
       "    <tr style=\"text-align: right;\">\n",
       "      <th></th>\n",
       "      <th>NameCar</th>\n",
       "      <th>year</th>\n",
       "      <th>km_driven</th>\n",
       "      <th>fuel</th>\n",
       "      <th>seller_type</th>\n",
       "      <th>transmission</th>\n",
       "      <th>owner</th>\n",
       "      <th>mileage</th>\n",
       "      <th>engine</th>\n",
       "      <th>max_power</th>\n",
       "      <th>Torque</th>\n",
       "      <th>seats</th>\n",
       "      <th>selling_price</th>\n",
       "    </tr>\n",
       "  </thead>\n",
       "  <tbody>\n",
       "    <tr>\n",
       "      <th>0</th>\n",
       "      <td>Maruti</td>\n",
       "      <td>2014</td>\n",
       "      <td>145500</td>\n",
       "      <td>Diesel</td>\n",
       "      <td>Individual</td>\n",
       "      <td>Manual</td>\n",
       "      <td>First Owner</td>\n",
       "      <td>23.40</td>\n",
       "      <td>1248</td>\n",
       "      <td>74.00</td>\n",
       "      <td>190.0</td>\n",
       "      <td>5</td>\n",
       "      <td>450000</td>\n",
       "    </tr>\n",
       "    <tr>\n",
       "      <th>1</th>\n",
       "      <td>Skoda</td>\n",
       "      <td>2014</td>\n",
       "      <td>120000</td>\n",
       "      <td>Diesel</td>\n",
       "      <td>Individual</td>\n",
       "      <td>Manual</td>\n",
       "      <td>Second Owner</td>\n",
       "      <td>21.14</td>\n",
       "      <td>1498</td>\n",
       "      <td>103.52</td>\n",
       "      <td>250.0</td>\n",
       "      <td>5</td>\n",
       "      <td>370000</td>\n",
       "    </tr>\n",
       "    <tr>\n",
       "      <th>2</th>\n",
       "      <td>Honda</td>\n",
       "      <td>2006</td>\n",
       "      <td>140000</td>\n",
       "      <td>Petrol</td>\n",
       "      <td>Individual</td>\n",
       "      <td>Manual</td>\n",
       "      <td>Third Owner</td>\n",
       "      <td>17.70</td>\n",
       "      <td>1497</td>\n",
       "      <td>78.00</td>\n",
       "      <td>12.7</td>\n",
       "      <td>5</td>\n",
       "      <td>158000</td>\n",
       "    </tr>\n",
       "    <tr>\n",
       "      <th>3</th>\n",
       "      <td>Hyundai</td>\n",
       "      <td>2010</td>\n",
       "      <td>127000</td>\n",
       "      <td>Diesel</td>\n",
       "      <td>Individual</td>\n",
       "      <td>Manual</td>\n",
       "      <td>First Owner</td>\n",
       "      <td>23.00</td>\n",
       "      <td>1396</td>\n",
       "      <td>90.00</td>\n",
       "      <td>22.4</td>\n",
       "      <td>5</td>\n",
       "      <td>225000</td>\n",
       "    </tr>\n",
       "    <tr>\n",
       "      <th>4</th>\n",
       "      <td>Maruti</td>\n",
       "      <td>2007</td>\n",
       "      <td>120000</td>\n",
       "      <td>Petrol</td>\n",
       "      <td>Individual</td>\n",
       "      <td>Manual</td>\n",
       "      <td>First Owner</td>\n",
       "      <td>16.10</td>\n",
       "      <td>1298</td>\n",
       "      <td>88.20</td>\n",
       "      <td>11.5</td>\n",
       "      <td>5</td>\n",
       "      <td>130000</td>\n",
       "    </tr>\n",
       "    <tr>\n",
       "      <th>...</th>\n",
       "      <td>...</td>\n",
       "      <td>...</td>\n",
       "      <td>...</td>\n",
       "      <td>...</td>\n",
       "      <td>...</td>\n",
       "      <td>...</td>\n",
       "      <td>...</td>\n",
       "      <td>...</td>\n",
       "      <td>...</td>\n",
       "      <td>...</td>\n",
       "      <td>...</td>\n",
       "      <td>...</td>\n",
       "      <td>...</td>\n",
       "    </tr>\n",
       "    <tr>\n",
       "      <th>7901</th>\n",
       "      <td>Hyundai</td>\n",
       "      <td>2013</td>\n",
       "      <td>110000</td>\n",
       "      <td>Petrol</td>\n",
       "      <td>Individual</td>\n",
       "      <td>Manual</td>\n",
       "      <td>First Owner</td>\n",
       "      <td>18.50</td>\n",
       "      <td>1197</td>\n",
       "      <td>82.85</td>\n",
       "      <td>113.7</td>\n",
       "      <td>5</td>\n",
       "      <td>320000</td>\n",
       "    </tr>\n",
       "    <tr>\n",
       "      <th>7902</th>\n",
       "      <td>Hyundai</td>\n",
       "      <td>2007</td>\n",
       "      <td>119000</td>\n",
       "      <td>Diesel</td>\n",
       "      <td>Individual</td>\n",
       "      <td>Manual</td>\n",
       "      <td>Fourth &amp; Above Owner</td>\n",
       "      <td>16.80</td>\n",
       "      <td>1493</td>\n",
       "      <td>110.00</td>\n",
       "      <td>24.0</td>\n",
       "      <td>5</td>\n",
       "      <td>135000</td>\n",
       "    </tr>\n",
       "    <tr>\n",
       "      <th>7903</th>\n",
       "      <td>Maruti</td>\n",
       "      <td>2009</td>\n",
       "      <td>120000</td>\n",
       "      <td>Diesel</td>\n",
       "      <td>Individual</td>\n",
       "      <td>Manual</td>\n",
       "      <td>First Owner</td>\n",
       "      <td>19.30</td>\n",
       "      <td>1248</td>\n",
       "      <td>73.90</td>\n",
       "      <td>190.0</td>\n",
       "      <td>5</td>\n",
       "      <td>382000</td>\n",
       "    </tr>\n",
       "    <tr>\n",
       "      <th>7904</th>\n",
       "      <td>Tata</td>\n",
       "      <td>2013</td>\n",
       "      <td>25000</td>\n",
       "      <td>Diesel</td>\n",
       "      <td>Individual</td>\n",
       "      <td>Manual</td>\n",
       "      <td>First Owner</td>\n",
       "      <td>23.57</td>\n",
       "      <td>1396</td>\n",
       "      <td>70.00</td>\n",
       "      <td>140.0</td>\n",
       "      <td>5</td>\n",
       "      <td>290000</td>\n",
       "    </tr>\n",
       "    <tr>\n",
       "      <th>7905</th>\n",
       "      <td>Tata</td>\n",
       "      <td>2013</td>\n",
       "      <td>25000</td>\n",
       "      <td>Diesel</td>\n",
       "      <td>Individual</td>\n",
       "      <td>Manual</td>\n",
       "      <td>First Owner</td>\n",
       "      <td>23.57</td>\n",
       "      <td>1396</td>\n",
       "      <td>70.00</td>\n",
       "      <td>140.0</td>\n",
       "      <td>5</td>\n",
       "      <td>290000</td>\n",
       "    </tr>\n",
       "  </tbody>\n",
       "</table>\n",
       "<p>7906 rows × 13 columns</p>\n",
       "</div>"
      ],
      "text/plain": [
       "      NameCar  year  km_driven    fuel seller_type transmission  \\\n",
       "0      Maruti  2014     145500  Diesel  Individual       Manual   \n",
       "1       Skoda  2014     120000  Diesel  Individual       Manual   \n",
       "2       Honda  2006     140000  Petrol  Individual       Manual   \n",
       "3     Hyundai  2010     127000  Diesel  Individual       Manual   \n",
       "4      Maruti  2007     120000  Petrol  Individual       Manual   \n",
       "...       ...   ...        ...     ...         ...          ...   \n",
       "7901  Hyundai  2013     110000  Petrol  Individual       Manual   \n",
       "7902  Hyundai  2007     119000  Diesel  Individual       Manual   \n",
       "7903   Maruti  2009     120000  Diesel  Individual       Manual   \n",
       "7904     Tata  2013      25000  Diesel  Individual       Manual   \n",
       "7905     Tata  2013      25000  Diesel  Individual       Manual   \n",
       "\n",
       "                     owner  mileage  engine  max_power  Torque  seats  \\\n",
       "0              First Owner    23.40    1248      74.00   190.0      5   \n",
       "1             Second Owner    21.14    1498     103.52   250.0      5   \n",
       "2              Third Owner    17.70    1497      78.00    12.7      5   \n",
       "3              First Owner    23.00    1396      90.00    22.4      5   \n",
       "4              First Owner    16.10    1298      88.20    11.5      5   \n",
       "...                    ...      ...     ...        ...     ...    ...   \n",
       "7901           First Owner    18.50    1197      82.85   113.7      5   \n",
       "7902  Fourth & Above Owner    16.80    1493     110.00    24.0      5   \n",
       "7903           First Owner    19.30    1248      73.90   190.0      5   \n",
       "7904           First Owner    23.57    1396      70.00   140.0      5   \n",
       "7905           First Owner    23.57    1396      70.00   140.0      5   \n",
       "\n",
       "      selling_price  \n",
       "0            450000  \n",
       "1            370000  \n",
       "2            158000  \n",
       "3            225000  \n",
       "4            130000  \n",
       "...             ...  \n",
       "7901         320000  \n",
       "7902         135000  \n",
       "7903         382000  \n",
       "7904         290000  \n",
       "7905         290000  \n",
       "\n",
       "[7906 rows x 13 columns]"
      ]
     },
     "execution_count": 62,
     "metadata": {},
     "output_type": "execute_result"
    }
   ],
   "source": [
    "df"
   ]
  },
  {
   "cell_type": "markdown",
   "id": "8c218758",
   "metadata": {},
   "source": [
    "# Distribution"
   ]
  },
  {
   "cell_type": "code",
   "execution_count": 63,
   "id": "308bb27d",
   "metadata": {},
   "outputs": [
    {
     "name": "stderr",
     "output_type": "stream",
     "text": [
      "C:\\Users\\MrBento\\anaconda3\\lib\\site-packages\\seaborn\\distributions.py:2619: FutureWarning: `distplot` is a deprecated function and will be removed in a future version. Please adapt your code to use either `displot` (a figure-level function with similar flexibility) or `histplot` (an axes-level function for histograms).\n",
      "  warnings.warn(msg, FutureWarning)\n"
     ]
    },
    {
     "data": {
      "text/plain": [
       "<AxesSubplot:xlabel='year', ylabel='Density'>"
      ]
     },
     "execution_count": 63,
     "metadata": {},
     "output_type": "execute_result"
    },
    {
     "data": {
      "image/png": "[encoded data removed]",
      "text/plain": [
       "<Figure size 432x288 with 1 Axes>"
      ]
     },
     "metadata": {
      "needs_background": "light"
     },
     "output_type": "display_data"
    }
   ],
   "source": [
    "sns.distplot(df['year'], hist=True, kde=True, \n",
    "             bins=int(180/5), color = 'darkblue', \n",
    "             hist_kws={'edgecolor':'black'},\n",
    "             kde_kws={'linewidth': 4})"
   ]
  },
  {
   "cell_type": "markdown",
   "id": "a5f3e353",
   "metadata": {},
   "source": [
    "Rata-rata keluaran tahun mobil yang banyak dijual adalah **2010 sampai 2018**"
   ]
  },
  {
   "cell_type": "code",
   "execution_count": 66,
   "id": "4058c312",
   "metadata": {},
   "outputs": [
    {
     "data": {
      "text/plain": [
       "<AxesSubplot:xlabel='mileage', ylabel='Density'>"
      ]
     },
     "execution_count": 66,
     "metadata": {},
     "output_type": "execute_result"
    },
    {
     "data": {
      "image/png": "[encoded data removed]",
      "text/plain": [
       "<Figure size 432x288 with 1 Axes>"
      ]
     },
     "metadata": {
      "needs_background": "light"
     },
     "output_type": "display_data"
    }
   ],
   "source": [
    "sns.distplot(df['mileage'], hist=True, kde=True, \n",
    "             bins=int(180/5), color = 'darkblue', \n",
    "             hist_kws={'edgecolor':'black'},\n",
    "             kde_kws={'linewidth': 4})"
   ]
  },
  {
   "cell_type": "markdown",
   "id": "90c0783f",
   "metadata": {},
   "source": [
    "Rata-rata jarak tempuh mobil yang dijual adalah **20 Miles** yaitu sama dengan **32 km**"
   ]
  },
  {
   "cell_type": "code",
   "execution_count": 67,
   "id": "e7504e3f",
   "metadata": {},
   "outputs": [
    {
     "name": "stderr",
     "output_type": "stream",
     "text": [
      "C:\\Users\\MrBento\\anaconda3\\lib\\site-packages\\seaborn\\distributions.py:2619: FutureWarning: `distplot` is a deprecated function and will be removed in a future version. Please adapt your code to use either `displot` (a figure-level function with similar flexibility) or `histplot` (an axes-level function for histograms).\n",
      "  warnings.warn(msg, FutureWarning)\n"
     ]
    },
    {
     "data": {
      "text/plain": [
       "<AxesSubplot:xlabel='engine', ylabel='Density'>"
      ]
     },
     "execution_count": 67,
     "metadata": {},
     "output_type": "execute_result"
    },
    {
     "data": {
      "image/png": "[encoded data removed]",
      "text/plain": [
       "<Figure size 432x288 with 1 Axes>"
      ]
     },
     "metadata": {
      "needs_background": "light"
     },
     "output_type": "display_data"
    }
   ],
   "source": [
    "sns.distplot(df['engine'], hist=True, kde=True, \n",
    "             bins=int(180/5), color = 'darkblue', \n",
    "             hist_kws={'edgecolor':'black'},\n",
    "             kde_kws={'linewidth': 4})"
   ]
  },
  {
   "cell_type": "markdown",
   "id": "ae5a618e",
   "metadata": {},
   "source": [
    "Suatu mobil dikatakan mobil mewah apabila engine-nya diatas **1500 cc**. Pada distribusi engine diatas, mobil yang dijual bukan merupakan mobil mewah karena kebanyakan yang dijual **<1500 cc**"
   ]
  },
  {
   "cell_type": "code",
   "execution_count": 68,
   "id": "99bcc92e",
   "metadata": {},
   "outputs": [
    {
     "name": "stderr",
     "output_type": "stream",
     "text": [
      "C:\\Users\\MrBento\\anaconda3\\lib\\site-packages\\seaborn\\distributions.py:2619: FutureWarning: `distplot` is a deprecated function and will be removed in a future version. Please adapt your code to use either `displot` (a figure-level function with similar flexibility) or `histplot` (an axes-level function for histograms).\n",
      "  warnings.warn(msg, FutureWarning)\n"
     ]
    },
    {
     "data": {
      "text/plain": [
       "<AxesSubplot:xlabel='max_power', ylabel='Density'>"
      ]
     },
     "execution_count": 68,
     "metadata": {},
     "output_type": "execute_result"
    },
    {
     "data": {
      "image/png": "[encoded data removed]",
      "text/plain": [
       "<Figure size 432x288 with 1 Axes>"
      ]
     },
     "metadata": {
      "needs_background": "light"
     },
     "output_type": "display_data"
    }
   ],
   "source": [
    "sns.distplot(df['max_power'], hist=True, kde=True, \n",
    "             bins=int(180/5), color = 'darkblue', \n",
    "             hist_kws={'edgecolor':'black'},\n",
    "             kde_kws={'linewidth': 4})"
   ]
  },
  {
   "cell_type": "markdown",
   "id": "ca8cc7cd",
   "metadata": {},
   "source": [
    "Rata-rata Horse Power yang dijual pada toko tersebut dibawah **100 HP**. Hal tersebut menunjukkan bahwa mobil yang dijual bukan termasuk mobil menengah ataupun supercar"
   ]
  },
  {
   "cell_type": "code",
   "execution_count": 69,
   "id": "6d3ddb7f",
   "metadata": {},
   "outputs": [
    {
     "name": "stderr",
     "output_type": "stream",
     "text": [
      "C:\\Users\\MrBento\\anaconda3\\lib\\site-packages\\seaborn\\distributions.py:2619: FutureWarning: `distplot` is a deprecated function and will be removed in a future version. Please adapt your code to use either `displot` (a figure-level function with similar flexibility) or `histplot` (an axes-level function for histograms).\n",
      "  warnings.warn(msg, FutureWarning)\n"
     ]
    },
    {
     "data": {
      "text/plain": [
       "<AxesSubplot:xlabel='Torque', ylabel='Density'>"
      ]
     },
     "execution_count": 69,
     "metadata": {},
     "output_type": "execute_result"
    },
    {
     "data": {
      "image/png": "[encoded data removed]",
      "text/plain": [
       "<Figure size 432x288 with 1 Axes>"
      ]
     },
     "metadata": {
      "needs_background": "light"
     },
     "output_type": "display_data"
    }
   ],
   "source": [
    "sns.distplot(df['Torque'], hist=True, kde=True, \n",
    "             bins=int(180/5), color = 'darkblue', \n",
    "             hist_kws={'edgecolor':'black'},\n",
    "             kde_kws={'linewidth': 4})"
   ]
  },
  {
   "cell_type": "markdown",
   "id": "405e431d",
   "metadata": {},
   "source": [
    "Rata rata torsi mobil yang dijual adalah **100 - 200 Nm**, hal tersebut menunjukkan rata rata mobil mempunyai torsi sebesar itu"
   ]
  },
  {
   "cell_type": "markdown",
   "id": "13e92d6d",
   "metadata": {},
   "source": [
    "# Matrix Correlation Between Selling Price and Others"
   ]
  },
  {
   "cell_type": "code",
   "execution_count": 73,
   "id": "f6094c6f",
   "metadata": {},
   "outputs": [
    {
     "data": {
      "image/png": "[encoded data removed]",
      "text/plain": [
       "<Figure size 720x576 with 2 Axes>"
      ]
     },
     "metadata": {
      "needs_background": "light"
     },
     "output_type": "display_data"
    }
   ],
   "source": [
    "df_correlation_matrix = pd.DataFrame(df)\n",
    "\n",
    "plt.figure(figsize=(10,8))\n",
    "sns.heatmap(df_correlation_matrix.corr().round(2), annot=True)\n",
    "plt.title('Correlation Matrix')\n",
    "plt.suptitle('Income and dependents')\n",
    "plt.tight_layout()"
   ]
  },
  {
   "cell_type": "markdown",
   "id": "6b38e49a",
   "metadata": {},
   "source": [
    "Pada matrix korelasi diatas, ditunjukkan bahwa penjualan mobil mempunyai korelasi yang sangat baik pada **max_power dan Torque**, artinya harga dari mobil tersebut akan **meningkat** apabila **max power dan torque juga ditingkatkan**.\n",
    "\n",
    "**Keluaran tahun mobil serta engine** yang digunakan juga mempengaruhi sedikit harga mobil."
   ]
  },
  {
   "cell_type": "markdown",
   "id": "42465031",
   "metadata": {},
   "source": [
    "# Bar Chart"
   ]
  },
  {
   "cell_type": "markdown",
   "id": "a63ae50a",
   "metadata": {},
   "source": [
    "- **Fuel Bar Chart**"
   ]
  },
  {
   "cell_type": "code",
   "execution_count": 74,
   "id": "1de8485f",
   "metadata": {},
   "outputs": [
    {
     "name": "stdout",
     "output_type": "stream",
     "text": [
      "<class 'pandas.core.frame.DataFrame'>\n",
      "RangeIndex: 7906 entries, 0 to 7905\n",
      "Data columns (total 13 columns):\n",
      " #   Column         Non-Null Count  Dtype  \n",
      "---  ------         --------------  -----  \n",
      " 0   NameCar        7906 non-null   object \n",
      " 1   year           7906 non-null   int64  \n",
      " 2   km_driven      7906 non-null   int64  \n",
      " 3   fuel           7906 non-null   object \n",
      " 4   seller_type    7906 non-null   object \n",
      " 5   transmission   7906 non-null   object \n",
      " 6   owner          7906 non-null   object \n",
      " 7   mileage        7906 non-null   float64\n",
      " 8   engine         7906 non-null   int64  \n",
      " 9   max_power      7906 non-null   float64\n",
      " 10  Torque         7906 non-null   float64\n",
      " 11  seats          7906 non-null   int64  \n",
      " 12  selling_price  7906 non-null   int64  \n",
      "dtypes: float64(3), int64(5), object(5)\n",
      "memory usage: 803.1+ KB\n"
     ]
    }
   ],
   "source": [
    "df.info()"
   ]
  },
  {
   "cell_type": "code",
   "execution_count": 102,
   "id": "cc5bd0ee",
   "metadata": {},
   "outputs": [],
   "source": [
    "df_fuel = df.groupby('fuel')['selling_price'].count().reset_index()\n",
    "df_fuel = df_fuel.rename(columns={'selling_price': 'Total Sales'})"
   ]
  },
  {
   "cell_type": "code",
   "execution_count": 103,
   "id": "ea30e72a",
   "metadata": {},
   "outputs": [
    {
     "data": {
      "image/png": "[encoded data removed]",
      "text/plain": [
       "<Figure size 1008x720 with 1 Axes>"
      ]
     },
     "metadata": {
      "needs_background": "light"
     },
     "output_type": "display_data"
    }
   ],
   "source": [
    "plt.figure(figsize=(14, 10))\n",
    "# Make a barplot\n",
    "sns.barplot(\n",
    "    x=\"fuel\", \n",
    "    y=\"Total Sales\", \n",
    "    data=df_fuel, \n",
    "    estimator=sum, \n",
    "    ci=None, \n",
    "    color='#69b3a2'\n",
    ");"
   ]
  },
  {
   "cell_type": "code",
   "execution_count": 104,
   "id": "06a9685f",
   "metadata": {},
   "outputs": [
    {
     "data": {
      "text/html": [
       "<div>\n",
       "<style scoped>\n",
       "    .dataframe tbody tr th:only-of-type {\n",
       "        vertical-align: middle;\n",
       "    }\n",
       "\n",
       "    .dataframe tbody tr th {\n",
       "        vertical-align: top;\n",
       "    }\n",
       "\n",
       "    .dataframe thead th {\n",
       "        text-align: right;\n",
       "    }\n",
       "</style>\n",
       "<table border=\"1\" class=\"dataframe\">\n",
       "  <thead>\n",
       "    <tr style=\"text-align: right;\">\n",
       "      <th></th>\n",
       "      <th>fuel</th>\n",
       "      <th>Total Sales</th>\n",
       "    </tr>\n",
       "  </thead>\n",
       "  <tbody>\n",
       "    <tr>\n",
       "      <th>0</th>\n",
       "      <td>CNG</td>\n",
       "      <td>52</td>\n",
       "    </tr>\n",
       "    <tr>\n",
       "      <th>1</th>\n",
       "      <td>Diesel</td>\n",
       "      <td>4299</td>\n",
       "    </tr>\n",
       "    <tr>\n",
       "      <th>2</th>\n",
       "      <td>LPG</td>\n",
       "      <td>35</td>\n",
       "    </tr>\n",
       "    <tr>\n",
       "      <th>3</th>\n",
       "      <td>Petrol</td>\n",
       "      <td>3520</td>\n",
       "    </tr>\n",
       "  </tbody>\n",
       "</table>\n",
       "</div>"
      ],
      "text/plain": [
       "     fuel  Total Sales\n",
       "0     CNG           52\n",
       "1  Diesel         4299\n",
       "2     LPG           35\n",
       "3  Petrol         3520"
      ]
     },
     "execution_count": 104,
     "metadata": {},
     "output_type": "execute_result"
    }
   ],
   "source": [
    "df_fuel"
   ]
  },
  {
   "cell_type": "markdown",
   "id": "66aab937",
   "metadata": {},
   "source": [
    "Mobil yang paling laku terjual adalah mobil dengan bahan bakar **Diesel** yaitu sebesar 4299. Hal ini dikarenakan Diesel mempunyai **tenaga yang kuat** karena **tekanan pembakaran** pada mesin diesel **lebih tinggi** dari **mesin bensin**."
   ]
  },
  {
   "cell_type": "code",
   "execution_count": 94,
   "id": "67bff15d",
   "metadata": {},
   "outputs": [],
   "source": [
    "df_sel_type= df.groupby('seller_type')['selling_price'].count().reset_index()\n",
    "df_sel_type = df_sel_type.rename(columns={'selling_price': 'Total Sales'})"
   ]
  },
  {
   "cell_type": "code",
   "execution_count": 95,
   "id": "5ea2f2ff",
   "metadata": {},
   "outputs": [
    {
     "data": {
      "image/png": "[encoded data removed]",
      "text/plain": [
       "<Figure size 1008x720 with 1 Axes>"
      ]
     },
     "metadata": {
      "needs_background": "light"
     },
     "output_type": "display_data"
    }
   ],
   "source": [
    "plt.figure(figsize=(14, 10))\n",
    "# Make a barplot\n",
    "sns.barplot(\n",
    "    x=\"seller_type\", \n",
    "    y=\"Total Sales\", \n",
    "    data=df_sel_type, \n",
    "    estimator=sum, \n",
    "    ci=None, \n",
    "    color='#69b3a2'\n",
    ");"
   ]
  },
  {
   "cell_type": "code",
   "execution_count": 100,
   "id": "170cdd77",
   "metadata": {},
   "outputs": [
    {
     "data": {
      "text/html": [
       "<div>\n",
       "<style scoped>\n",
       "    .dataframe tbody tr th:only-of-type {\n",
       "        vertical-align: middle;\n",
       "    }\n",
       "\n",
       "    .dataframe tbody tr th {\n",
       "        vertical-align: top;\n",
       "    }\n",
       "\n",
       "    .dataframe thead th {\n",
       "        text-align: right;\n",
       "    }\n",
       "</style>\n",
       "<table border=\"1\" class=\"dataframe\">\n",
       "  <thead>\n",
       "    <tr style=\"text-align: right;\">\n",
       "      <th></th>\n",
       "      <th>seller_type</th>\n",
       "      <th>Total Sales</th>\n",
       "    </tr>\n",
       "  </thead>\n",
       "  <tbody>\n",
       "    <tr>\n",
       "      <th>0</th>\n",
       "      <td>Dealer</td>\n",
       "      <td>1107</td>\n",
       "    </tr>\n",
       "    <tr>\n",
       "      <th>1</th>\n",
       "      <td>Individual</td>\n",
       "      <td>6563</td>\n",
       "    </tr>\n",
       "    <tr>\n",
       "      <th>2</th>\n",
       "      <td>Trustmark Dealer</td>\n",
       "      <td>236</td>\n",
       "    </tr>\n",
       "  </tbody>\n",
       "</table>\n",
       "</div>"
      ],
      "text/plain": [
       "        seller_type  Total Sales\n",
       "0            Dealer         1107\n",
       "1        Individual         6563\n",
       "2  Trustmark Dealer          236"
      ]
     },
     "execution_count": 100,
     "metadata": {},
     "output_type": "execute_result"
    }
   ],
   "source": [
    "df_sel_type"
   ]
  },
  {
   "cell_type": "markdown",
   "id": "acdc5c10",
   "metadata": {},
   "source": [
    "Penjualan secara **Individu lebih laku** dibanding Dealer dan Trustmark Dealer yaitu sebesar 6563, hal ini dikarenakan **kemungkinan ada diskon** apabila langsung membeli di perusahaan dibandingkan di Dealer."
   ]
  },
  {
   "cell_type": "code",
   "execution_count": 96,
   "id": "6d472312",
   "metadata": {},
   "outputs": [],
   "source": [
    "df_trans= df.groupby('transmission')['selling_price'].count().reset_index()\n",
    "df_trans = df_trans.rename(columns={'selling_price': 'Total Sales'})"
   ]
  },
  {
   "cell_type": "code",
   "execution_count": 97,
   "id": "0fb36309",
   "metadata": {},
   "outputs": [
    {
     "data": {
      "image/png": "[encoded data removed]",
      "text/plain": [
       "<Figure size 1008x720 with 1 Axes>"
      ]
     },
     "metadata": {
      "needs_background": "light"
     },
     "output_type": "display_data"
    }
   ],
   "source": [
    "plt.figure(figsize=(14, 10))\n",
    "# Make a barplot\n",
    "sns.barplot(\n",
    "    x=\"transmission\", \n",
    "    y=\"Total Sales\", \n",
    "    data=df_trans, \n",
    "    estimator=sum, \n",
    "    ci=None, \n",
    "    color='#69b3a2'\n",
    ");"
   ]
  },
  {
   "cell_type": "code",
   "execution_count": 105,
   "id": "07cc0b3d",
   "metadata": {},
   "outputs": [
    {
     "data": {
      "text/html": [
       "<div>\n",
       "<style scoped>\n",
       "    .dataframe tbody tr th:only-of-type {\n",
       "        vertical-align: middle;\n",
       "    }\n",
       "\n",
       "    .dataframe tbody tr th {\n",
       "        vertical-align: top;\n",
       "    }\n",
       "\n",
       "    .dataframe thead th {\n",
       "        text-align: right;\n",
       "    }\n",
       "</style>\n",
       "<table border=\"1\" class=\"dataframe\">\n",
       "  <thead>\n",
       "    <tr style=\"text-align: right;\">\n",
       "      <th></th>\n",
       "      <th>transmission</th>\n",
       "      <th>Total Sales</th>\n",
       "    </tr>\n",
       "  </thead>\n",
       "  <tbody>\n",
       "    <tr>\n",
       "      <th>0</th>\n",
       "      <td>Automatic</td>\n",
       "      <td>1041</td>\n",
       "    </tr>\n",
       "    <tr>\n",
       "      <th>1</th>\n",
       "      <td>Manual</td>\n",
       "      <td>6865</td>\n",
       "    </tr>\n",
       "  </tbody>\n",
       "</table>\n",
       "</div>"
      ],
      "text/plain": [
       "  transmission  Total Sales\n",
       "0    Automatic         1041\n",
       "1       Manual         6865"
      ]
     },
     "execution_count": 105,
     "metadata": {},
     "output_type": "execute_result"
    }
   ],
   "source": [
    "df_trans"
   ]
  },
  {
   "cell_type": "markdown",
   "id": "6515dbd8",
   "metadata": {},
   "source": [
    "Mobil yang paling laku terjual berdasarkan transmisi adalah **Mobil Manual**. Mobil manual mempunyai keunggulan **kekuatan** pada bidang yang tidak rata, sehingga banyak diminati oleh beberapa orang, namun pada awalnya cukup **sulit untuk belajar** mobil manual dibandingkan automatic."
   ]
  },
  {
   "cell_type": "code",
   "execution_count": 106,
   "id": "d5531c96",
   "metadata": {},
   "outputs": [],
   "source": [
    "df_own= df.groupby('owner')['selling_price'].count().reset_index()\n",
    "df_own = df_own.rename(columns={'selling_price': 'Total Sales'})"
   ]
  },
  {
   "cell_type": "code",
   "execution_count": 107,
   "id": "2bffdec8",
   "metadata": {},
   "outputs": [
    {
     "data": {
      "image/png": "[encoded data removed]",
      "text/plain": [
       "<Figure size 1008x720 with 1 Axes>"
      ]
     },
     "metadata": {
      "needs_background": "light"
     },
     "output_type": "display_data"
    }
   ],
   "source": [
    "plt.figure(figsize=(14, 10))\n",
    "# Make a barplot\n",
    "sns.barplot(\n",
    "    x=\"owner\", \n",
    "    y=\"Total Sales\", \n",
    "    data=df_own, \n",
    "    estimator=sum, \n",
    "    ci=None, \n",
    "    color='#69b3a2'\n",
    ");"
   ]
  },
  {
   "cell_type": "code",
   "execution_count": 108,
   "id": "06b79521",
   "metadata": {},
   "outputs": [
    {
     "data": {
      "text/html": [
       "<div>\n",
       "<style scoped>\n",
       "    .dataframe tbody tr th:only-of-type {\n",
       "        vertical-align: middle;\n",
       "    }\n",
       "\n",
       "    .dataframe tbody tr th {\n",
       "        vertical-align: top;\n",
       "    }\n",
       "\n",
       "    .dataframe thead th {\n",
       "        text-align: right;\n",
       "    }\n",
       "</style>\n",
       "<table border=\"1\" class=\"dataframe\">\n",
       "  <thead>\n",
       "    <tr style=\"text-align: right;\">\n",
       "      <th></th>\n",
       "      <th>owner</th>\n",
       "      <th>Total Sales</th>\n",
       "    </tr>\n",
       "  </thead>\n",
       "  <tbody>\n",
       "    <tr>\n",
       "      <th>0</th>\n",
       "      <td>First Owner</td>\n",
       "      <td>5215</td>\n",
       "    </tr>\n",
       "    <tr>\n",
       "      <th>1</th>\n",
       "      <td>Fourth &amp; Above Owner</td>\n",
       "      <td>160</td>\n",
       "    </tr>\n",
       "    <tr>\n",
       "      <th>2</th>\n",
       "      <td>Second Owner</td>\n",
       "      <td>2016</td>\n",
       "    </tr>\n",
       "    <tr>\n",
       "      <th>3</th>\n",
       "      <td>Test Drive Car</td>\n",
       "      <td>5</td>\n",
       "    </tr>\n",
       "    <tr>\n",
       "      <th>4</th>\n",
       "      <td>Third Owner</td>\n",
       "      <td>510</td>\n",
       "    </tr>\n",
       "  </tbody>\n",
       "</table>\n",
       "</div>"
      ],
      "text/plain": [
       "                  owner  Total Sales\n",
       "0           First Owner         5215\n",
       "1  Fourth & Above Owner          160\n",
       "2          Second Owner         2016\n",
       "3        Test Drive Car            5\n",
       "4           Third Owner          510"
      ]
     },
     "execution_count": 108,
     "metadata": {},
     "output_type": "execute_result"
    }
   ],
   "source": [
    "df_own"
   ]
  },
  {
   "cell_type": "markdown",
   "id": "6b3640c5",
   "metadata": {},
   "source": [
    "Mobil yang paling laku berdasarkan owner adalah mobil dari **First Owner (Tangan Pertama)**. Istilah mobil bekas dari tangan pertama sendiri sering digunakan untuk menarik pasar. Kondisi ini lantaran mobil bekas dari tangan pertama dianggap memiliki kondisi yang lebih baik, apalagi semakin tua tahun produksi mobil bekas."
   ]
  },
  {
   "cell_type": "code",
   "execution_count": 109,
   "id": "c0f39f54",
   "metadata": {},
   "outputs": [
    {
     "data": {
      "text/plain": [
       "1994"
      ]
     },
     "execution_count": 109,
     "metadata": {},
     "output_type": "execute_result"
    }
   ],
   "source": [
    "df['year'].min()"
   ]
  },
  {
   "cell_type": "code",
   "execution_count": 110,
   "id": "784f1232",
   "metadata": {},
   "outputs": [
    {
     "data": {
      "text/html": [
       "<div>\n",
       "<style scoped>\n",
       "    .dataframe tbody tr th:only-of-type {\n",
       "        vertical-align: middle;\n",
       "    }\n",
       "\n",
       "    .dataframe tbody tr th {\n",
       "        vertical-align: top;\n",
       "    }\n",
       "\n",
       "    .dataframe thead th {\n",
       "        text-align: right;\n",
       "    }\n",
       "</style>\n",
       "<table border=\"1\" class=\"dataframe\">\n",
       "  <thead>\n",
       "    <tr style=\"text-align: right;\">\n",
       "      <th></th>\n",
       "      <th>NameCar</th>\n",
       "      <th>year</th>\n",
       "      <th>km_driven</th>\n",
       "      <th>fuel</th>\n",
       "      <th>seller_type</th>\n",
       "      <th>transmission</th>\n",
       "      <th>owner</th>\n",
       "      <th>mileage</th>\n",
       "      <th>engine</th>\n",
       "      <th>max_power</th>\n",
       "      <th>Torque</th>\n",
       "      <th>seats</th>\n",
       "      <th>selling_price</th>\n",
       "    </tr>\n",
       "  </thead>\n",
       "  <tbody>\n",
       "    <tr>\n",
       "      <th>1428</th>\n",
       "      <td>Maruti</td>\n",
       "      <td>1994</td>\n",
       "      <td>60000</td>\n",
       "      <td>Petrol</td>\n",
       "      <td>Individual</td>\n",
       "      <td>Manual</td>\n",
       "      <td>First Owner</td>\n",
       "      <td>16.1</td>\n",
       "      <td>796</td>\n",
       "      <td>37.0</td>\n",
       "      <td>59.0</td>\n",
       "      <td>4</td>\n",
       "      <td>45000</td>\n",
       "    </tr>\n",
       "    <tr>\n",
       "      <th>4577</th>\n",
       "      <td>Ambassador</td>\n",
       "      <td>1994</td>\n",
       "      <td>100000</td>\n",
       "      <td>Diesel</td>\n",
       "      <td>Individual</td>\n",
       "      <td>Manual</td>\n",
       "      <td>Second Owner</td>\n",
       "      <td>12.8</td>\n",
       "      <td>1995</td>\n",
       "      <td>52.0</td>\n",
       "      <td>106.0</td>\n",
       "      <td>5</td>\n",
       "      <td>99000</td>\n",
       "    </tr>\n",
       "  </tbody>\n",
       "</table>\n",
       "</div>"
      ],
      "text/plain": [
       "         NameCar  year  km_driven    fuel seller_type transmission  \\\n",
       "1428      Maruti  1994      60000  Petrol  Individual       Manual   \n",
       "4577  Ambassador  1994     100000  Diesel  Individual       Manual   \n",
       "\n",
       "             owner  mileage  engine  max_power  Torque  seats  selling_price  \n",
       "1428   First Owner     16.1     796       37.0    59.0      4          45000  \n",
       "4577  Second Owner     12.8    1995       52.0   106.0      5          99000  "
      ]
     },
     "execution_count": 110,
     "metadata": {},
     "output_type": "execute_result"
    }
   ],
   "source": [
    "df_first_owner = df.loc[(df['year']==1994)]\n",
    "df_first_owner"
   ]
  },
  {
   "cell_type": "markdown",
   "id": "2430795c",
   "metadata": {},
   "source": [
    "Penjualan mobil paling tua yaitu **Maruti dan Ambassador** dengan harga **45000 USD** atau setara **700 juta rupiah** untuk Maruti dan **99000 USD** atau setara **1.5 Miliar rupiah** untuk Ambassador. Para pembeli berani membeli mobil tersebut karena **cukup langka** pada masa sekarang sehingga bisa dijadikan koleksi."
   ]
  },
  {
   "cell_type": "code",
   "execution_count": 111,
   "id": "561ef3c1",
   "metadata": {},
   "outputs": [
    {
     "data": {
      "text/plain": [
       "5137427277"
      ]
     },
     "execution_count": 111,
     "metadata": {},
     "output_type": "execute_result"
    }
   ],
   "source": [
    "df['selling_price'].sum()"
   ]
  },
  {
   "cell_type": "markdown",
   "id": "f93ed29f",
   "metadata": {},
   "source": [
    "Total harga penjualan dari toko mobil saat ini adalah **5,137,427,277 USD** atau setara **80 Triliun Rupiah**. Wow!!"
   ]
  },
  {
   "cell_type": "code",
   "execution_count": 115,
   "id": "53b470e5",
   "metadata": {},
   "outputs": [
    {
     "data": {
      "text/html": [
       "<div>\n",
       "<style scoped>\n",
       "    .dataframe tbody tr th:only-of-type {\n",
       "        vertical-align: middle;\n",
       "    }\n",
       "\n",
       "    .dataframe tbody tr th {\n",
       "        vertical-align: top;\n",
       "    }\n",
       "\n",
       "    .dataframe thead th {\n",
       "        text-align: right;\n",
       "    }\n",
       "</style>\n",
       "<table border=\"1\" class=\"dataframe\">\n",
       "  <thead>\n",
       "    <tr style=\"text-align: right;\">\n",
       "      <th></th>\n",
       "      <th>NameCar</th>\n",
       "      <th>year</th>\n",
       "      <th>km_driven</th>\n",
       "      <th>fuel</th>\n",
       "      <th>seller_type</th>\n",
       "      <th>transmission</th>\n",
       "      <th>owner</th>\n",
       "      <th>mileage</th>\n",
       "      <th>engine</th>\n",
       "      <th>max_power</th>\n",
       "      <th>Torque</th>\n",
       "      <th>seats</th>\n",
       "      <th>selling_price</th>\n",
       "    </tr>\n",
       "  </thead>\n",
       "  <tbody>\n",
       "    <tr>\n",
       "      <th>164</th>\n",
       "      <td>Volvo</td>\n",
       "      <td>2017</td>\n",
       "      <td>30000</td>\n",
       "      <td>Petrol</td>\n",
       "      <td>Individual</td>\n",
       "      <td>Automatic</td>\n",
       "      <td>First Owner</td>\n",
       "      <td>42.0</td>\n",
       "      <td>1969</td>\n",
       "      <td>400.0</td>\n",
       "      <td>640.0</td>\n",
       "      <td>4</td>\n",
       "      <td>10000000</td>\n",
       "    </tr>\n",
       "  </tbody>\n",
       "</table>\n",
       "</div>"
      ],
      "text/plain": [
       "    NameCar  year  km_driven    fuel seller_type transmission        owner  \\\n",
       "164   Volvo  2017      30000  Petrol  Individual    Automatic  First Owner   \n",
       "\n",
       "     mileage  engine  max_power  Torque  seats  selling_price  \n",
       "164     42.0    1969      400.0   640.0      4       10000000  "
      ]
     },
     "execution_count": 115,
     "metadata": {},
     "output_type": "execute_result"
    }
   ],
   "source": [
    "df_max_price = df.loc[(df['selling_price']==df['selling_price'].max())]\n",
    "df_max_price"
   ]
  },
  {
   "cell_type": "markdown",
   "id": "71ed8366",
   "metadata": {},
   "source": [
    "Mobil paling mahal yang pernah dijual adalah **Volvo keluaran tahun 2017** dengan harga **10.000.000 USD** atau sekitar **156.800.500.000 Rupiah**. Kenapa bisa semahal itu? bisa jadi mobil tersebut bekas dari artis ternama sehingga harganya sangat amat mahal"
   ]
  },
  {
   "cell_type": "markdown",
   "id": "c6b6f2d5",
   "metadata": {},
   "source": [
    "# Prediksi Harga dengan Machine Learning"
   ]
  },
  {
   "cell_type": "markdown",
   "id": "a857a79f",
   "metadata": {},
   "source": [
    "# Encoding String Column"
   ]
  },
  {
   "cell_type": "code",
   "execution_count": 118,
   "id": "9654c3bc",
   "metadata": {},
   "outputs": [
    {
     "data": {
      "text/plain": [
       "array(['Maruti', 'Skoda', 'Honda', 'Hyundai', 'Toyota', 'Ford', 'Renault',\n",
       "       'Mahindra', 'Tata', 'Chevrolet', 'Datsun', 'Jeep', 'Mercedes-Benz',\n",
       "       'Mitsubishi', 'Audi', 'Volkswagen', 'BMW', 'Nissan', 'Lexus',\n",
       "       'Jaguar', 'Land', 'MG', 'Volvo', 'Daewoo', 'Kia', 'Fiat', 'Force',\n",
       "       'Ambassador', 'Ashok', 'Isuzu', 'Opel'], dtype=object)"
      ]
     },
     "execution_count": 118,
     "metadata": {},
     "output_type": "execute_result"
    }
   ],
   "source": [
    "df['NameCar'].unique()"
   ]
  },
  {
   "cell_type": "code",
   "execution_count": 119,
   "id": "043cff86",
   "metadata": {},
   "outputs": [],
   "source": [
    "name = ['Maruti', 'Skoda', 'Honda', 'Hyundai', 'Toyota', 'Ford', 'Renault',\n",
    "       'Mahindra', 'Tata', 'Chevrolet', 'Datsun', 'Jeep', 'Mercedes-Benz',\n",
    "       'Mitsubishi', 'Audi', 'Volkswagen', 'BMW', 'Nissan', 'Lexus',\n",
    "       'Jaguar', 'Land', 'MG', 'Volvo', 'Daewoo', 'Kia', 'Fiat', 'Force',\n",
    "       'Ambassador', 'Ashok', 'Isuzu', 'Opel']"
   ]
  },
  {
   "cell_type": "code",
   "execution_count": 120,
   "id": "4ef41355",
   "metadata": {},
   "outputs": [],
   "source": [
    "enc = OrdinalEncoder(categories=[name])"
   ]
  },
  {
   "cell_type": "code",
   "execution_count": 121,
   "id": "1fd4171c",
   "metadata": {},
   "outputs": [
    {
     "data": {
      "text/plain": [
       "array([[0.],\n",
       "       [1.],\n",
       "       [2.],\n",
       "       ...,\n",
       "       [0.],\n",
       "       [8.],\n",
       "       [8.]])"
      ]
     },
     "execution_count": 121,
     "metadata": {},
     "output_type": "execute_result"
    }
   ],
   "source": [
    "enc.fit_transform(df[['NameCar']])"
   ]
  },
  {
   "cell_type": "code",
   "execution_count": 122,
   "id": "17303693",
   "metadata": {},
   "outputs": [
    {
     "data": {
      "text/html": [
       "<div>\n",
       "<style scoped>\n",
       "    .dataframe tbody tr th:only-of-type {\n",
       "        vertical-align: middle;\n",
       "    }\n",
       "\n",
       "    .dataframe tbody tr th {\n",
       "        vertical-align: top;\n",
       "    }\n",
       "\n",
       "    .dataframe thead th {\n",
       "        text-align: right;\n",
       "    }\n",
       "</style>\n",
       "<table border=\"1\" class=\"dataframe\">\n",
       "  <thead>\n",
       "    <tr style=\"text-align: right;\">\n",
       "      <th></th>\n",
       "      <th>NameCar</th>\n",
       "      <th>year</th>\n",
       "      <th>km_driven</th>\n",
       "      <th>fuel</th>\n",
       "      <th>seller_type</th>\n",
       "      <th>transmission</th>\n",
       "      <th>owner</th>\n",
       "      <th>mileage</th>\n",
       "      <th>engine</th>\n",
       "      <th>max_power</th>\n",
       "      <th>Torque</th>\n",
       "      <th>seats</th>\n",
       "      <th>selling_price</th>\n",
       "    </tr>\n",
       "  </thead>\n",
       "  <tbody>\n",
       "    <tr>\n",
       "      <th>0</th>\n",
       "      <td>0.0</td>\n",
       "      <td>2014</td>\n",
       "      <td>145500</td>\n",
       "      <td>Diesel</td>\n",
       "      <td>Individual</td>\n",
       "      <td>Manual</td>\n",
       "      <td>First Owner</td>\n",
       "      <td>23.40</td>\n",
       "      <td>1248</td>\n",
       "      <td>74.00</td>\n",
       "      <td>190.0</td>\n",
       "      <td>5</td>\n",
       "      <td>450000</td>\n",
       "    </tr>\n",
       "    <tr>\n",
       "      <th>1</th>\n",
       "      <td>1.0</td>\n",
       "      <td>2014</td>\n",
       "      <td>120000</td>\n",
       "      <td>Diesel</td>\n",
       "      <td>Individual</td>\n",
       "      <td>Manual</td>\n",
       "      <td>Second Owner</td>\n",
       "      <td>21.14</td>\n",
       "      <td>1498</td>\n",
       "      <td>103.52</td>\n",
       "      <td>250.0</td>\n",
       "      <td>5</td>\n",
       "      <td>370000</td>\n",
       "    </tr>\n",
       "    <tr>\n",
       "      <th>2</th>\n",
       "      <td>2.0</td>\n",
       "      <td>2006</td>\n",
       "      <td>140000</td>\n",
       "      <td>Petrol</td>\n",
       "      <td>Individual</td>\n",
       "      <td>Manual</td>\n",
       "      <td>Third Owner</td>\n",
       "      <td>17.70</td>\n",
       "      <td>1497</td>\n",
       "      <td>78.00</td>\n",
       "      <td>12.7</td>\n",
       "      <td>5</td>\n",
       "      <td>158000</td>\n",
       "    </tr>\n",
       "    <tr>\n",
       "      <th>3</th>\n",
       "      <td>3.0</td>\n",
       "      <td>2010</td>\n",
       "      <td>127000</td>\n",
       "      <td>Diesel</td>\n",
       "      <td>Individual</td>\n",
       "      <td>Manual</td>\n",
       "      <td>First Owner</td>\n",
       "      <td>23.00</td>\n",
       "      <td>1396</td>\n",
       "      <td>90.00</td>\n",
       "      <td>22.4</td>\n",
       "      <td>5</td>\n",
       "      <td>225000</td>\n",
       "    </tr>\n",
       "    <tr>\n",
       "      <th>4</th>\n",
       "      <td>0.0</td>\n",
       "      <td>2007</td>\n",
       "      <td>120000</td>\n",
       "      <td>Petrol</td>\n",
       "      <td>Individual</td>\n",
       "      <td>Manual</td>\n",
       "      <td>First Owner</td>\n",
       "      <td>16.10</td>\n",
       "      <td>1298</td>\n",
       "      <td>88.20</td>\n",
       "      <td>11.5</td>\n",
       "      <td>5</td>\n",
       "      <td>130000</td>\n",
       "    </tr>\n",
       "    <tr>\n",
       "      <th>...</th>\n",
       "      <td>...</td>\n",
       "      <td>...</td>\n",
       "      <td>...</td>\n",
       "      <td>...</td>\n",
       "      <td>...</td>\n",
       "      <td>...</td>\n",
       "      <td>...</td>\n",
       "      <td>...</td>\n",
       "      <td>...</td>\n",
       "      <td>...</td>\n",
       "      <td>...</td>\n",
       "      <td>...</td>\n",
       "      <td>...</td>\n",
       "    </tr>\n",
       "    <tr>\n",
       "      <th>7901</th>\n",
       "      <td>3.0</td>\n",
       "      <td>2013</td>\n",
       "      <td>110000</td>\n",
       "      <td>Petrol</td>\n",
       "      <td>Individual</td>\n",
       "      <td>Manual</td>\n",
       "      <td>First Owner</td>\n",
       "      <td>18.50</td>\n",
       "      <td>1197</td>\n",
       "      <td>82.85</td>\n",
       "      <td>113.7</td>\n",
       "      <td>5</td>\n",
       "      <td>320000</td>\n",
       "    </tr>\n",
       "    <tr>\n",
       "      <th>7902</th>\n",
       "      <td>3.0</td>\n",
       "      <td>2007</td>\n",
       "      <td>119000</td>\n",
       "      <td>Diesel</td>\n",
       "      <td>Individual</td>\n",
       "      <td>Manual</td>\n",
       "      <td>Fourth &amp; Above Owner</td>\n",
       "      <td>16.80</td>\n",
       "      <td>1493</td>\n",
       "      <td>110.00</td>\n",
       "      <td>24.0</td>\n",
       "      <td>5</td>\n",
       "      <td>135000</td>\n",
       "    </tr>\n",
       "    <tr>\n",
       "      <th>7903</th>\n",
       "      <td>0.0</td>\n",
       "      <td>2009</td>\n",
       "      <td>120000</td>\n",
       "      <td>Diesel</td>\n",
       "      <td>Individual</td>\n",
       "      <td>Manual</td>\n",
       "      <td>First Owner</td>\n",
       "      <td>19.30</td>\n",
       "      <td>1248</td>\n",
       "      <td>73.90</td>\n",
       "      <td>190.0</td>\n",
       "      <td>5</td>\n",
       "      <td>382000</td>\n",
       "    </tr>\n",
       "    <tr>\n",
       "      <th>7904</th>\n",
       "      <td>8.0</td>\n",
       "      <td>2013</td>\n",
       "      <td>25000</td>\n",
       "      <td>Diesel</td>\n",
       "      <td>Individual</td>\n",
       "      <td>Manual</td>\n",
       "      <td>First Owner</td>\n",
       "      <td>23.57</td>\n",
       "      <td>1396</td>\n",
       "      <td>70.00</td>\n",
       "      <td>140.0</td>\n",
       "      <td>5</td>\n",
       "      <td>290000</td>\n",
       "    </tr>\n",
       "    <tr>\n",
       "      <th>7905</th>\n",
       "      <td>8.0</td>\n",
       "      <td>2013</td>\n",
       "      <td>25000</td>\n",
       "      <td>Diesel</td>\n",
       "      <td>Individual</td>\n",
       "      <td>Manual</td>\n",
       "      <td>First Owner</td>\n",
       "      <td>23.57</td>\n",
       "      <td>1396</td>\n",
       "      <td>70.00</td>\n",
       "      <td>140.0</td>\n",
       "      <td>5</td>\n",
       "      <td>290000</td>\n",
       "    </tr>\n",
       "  </tbody>\n",
       "</table>\n",
       "<p>7906 rows × 13 columns</p>\n",
       "</div>"
      ],
      "text/plain": [
       "      NameCar  year  km_driven    fuel seller_type transmission  \\\n",
       "0         0.0  2014     145500  Diesel  Individual       Manual   \n",
       "1         1.0  2014     120000  Diesel  Individual       Manual   \n",
       "2         2.0  2006     140000  Petrol  Individual       Manual   \n",
       "3         3.0  2010     127000  Diesel  Individual       Manual   \n",
       "4         0.0  2007     120000  Petrol  Individual       Manual   \n",
       "...       ...   ...        ...     ...         ...          ...   \n",
       "7901      3.0  2013     110000  Petrol  Individual       Manual   \n",
       "7902      3.0  2007     119000  Diesel  Individual       Manual   \n",
       "7903      0.0  2009     120000  Diesel  Individual       Manual   \n",
       "7904      8.0  2013      25000  Diesel  Individual       Manual   \n",
       "7905      8.0  2013      25000  Diesel  Individual       Manual   \n",
       "\n",
       "                     owner  mileage  engine  max_power  Torque  seats  \\\n",
       "0              First Owner    23.40    1248      74.00   190.0      5   \n",
       "1             Second Owner    21.14    1498     103.52   250.0      5   \n",
       "2              Third Owner    17.70    1497      78.00    12.7      5   \n",
       "3              First Owner    23.00    1396      90.00    22.4      5   \n",
       "4              First Owner    16.10    1298      88.20    11.5      5   \n",
       "...                    ...      ...     ...        ...     ...    ...   \n",
       "7901           First Owner    18.50    1197      82.85   113.7      5   \n",
       "7902  Fourth & Above Owner    16.80    1493     110.00    24.0      5   \n",
       "7903           First Owner    19.30    1248      73.90   190.0      5   \n",
       "7904           First Owner    23.57    1396      70.00   140.0      5   \n",
       "7905           First Owner    23.57    1396      70.00   140.0      5   \n",
       "\n",
       "      selling_price  \n",
       "0            450000  \n",
       "1            370000  \n",
       "2            158000  \n",
       "3            225000  \n",
       "4            130000  \n",
       "...             ...  \n",
       "7901         320000  \n",
       "7902         135000  \n",
       "7903         382000  \n",
       "7904         290000  \n",
       "7905         290000  \n",
       "\n",
       "[7906 rows x 13 columns]"
      ]
     },
     "execution_count": 122,
     "metadata": {},
     "output_type": "execute_result"
    }
   ],
   "source": [
    "df[['NameCar']] = enc.fit_transform(df[['NameCar']])\n",
    "df"
   ]
  },
  {
   "cell_type": "code",
   "execution_count": 123,
   "id": "98dedafc",
   "metadata": {},
   "outputs": [
    {
     "data": {
      "text/plain": [
       "array([ 0.,  1.,  2.,  3.,  4.,  5.,  6.,  7.,  8.,  9., 10., 11., 12.,\n",
       "       13., 14., 15., 16., 17., 18., 19., 20., 21., 22., 23., 24., 25.,\n",
       "       26., 27., 28., 29., 30.])"
      ]
     },
     "execution_count": 123,
     "metadata": {},
     "output_type": "execute_result"
    }
   ],
   "source": [
    "df['NameCar'].unique()"
   ]
  },
  {
   "cell_type": "code",
   "execution_count": 124,
   "id": "33cdde39",
   "metadata": {},
   "outputs": [
    {
     "data": {
      "text/plain": [
       "NameCar          float64\n",
       "year               int64\n",
       "km_driven          int64\n",
       "fuel              object\n",
       "seller_type       object\n",
       "transmission      object\n",
       "owner             object\n",
       "mileage          float64\n",
       "engine             int64\n",
       "max_power        float64\n",
       "Torque           float64\n",
       "seats              int64\n",
       "selling_price      int64\n",
       "dtype: object"
      ]
     },
     "execution_count": 124,
     "metadata": {},
     "output_type": "execute_result"
    }
   ],
   "source": [
    "df.dtypes"
   ]
  },
  {
   "cell_type": "markdown",
   "id": "4b31a7fe",
   "metadata": {},
   "source": [
    "# Change data types to integer"
   ]
  },
  {
   "cell_type": "code",
   "execution_count": 125,
   "id": "735e8a75",
   "metadata": {},
   "outputs": [],
   "source": [
    "df['NameCar'] = df['NameCar'].astype(int)"
   ]
  },
  {
   "cell_type": "code",
   "execution_count": 126,
   "id": "3ddf2704",
   "metadata": {},
   "outputs": [
    {
     "data": {
      "text/plain": [
       "NameCar            int32\n",
       "year               int64\n",
       "km_driven          int64\n",
       "fuel              object\n",
       "seller_type       object\n",
       "transmission      object\n",
       "owner             object\n",
       "mileage          float64\n",
       "engine             int64\n",
       "max_power        float64\n",
       "Torque           float64\n",
       "seats              int64\n",
       "selling_price      int64\n",
       "dtype: object"
      ]
     },
     "execution_count": 126,
     "metadata": {},
     "output_type": "execute_result"
    }
   ],
   "source": [
    "df.dtypes"
   ]
  },
  {
   "cell_type": "code",
   "execution_count": 127,
   "id": "9a9a0267",
   "metadata": {},
   "outputs": [
    {
     "data": {
      "text/html": [
       "<div>\n",
       "<style scoped>\n",
       "    .dataframe tbody tr th:only-of-type {\n",
       "        vertical-align: middle;\n",
       "    }\n",
       "\n",
       "    .dataframe tbody tr th {\n",
       "        vertical-align: top;\n",
       "    }\n",
       "\n",
       "    .dataframe thead th {\n",
       "        text-align: right;\n",
       "    }\n",
       "</style>\n",
       "<table border=\"1\" class=\"dataframe\">\n",
       "  <thead>\n",
       "    <tr style=\"text-align: right;\">\n",
       "      <th></th>\n",
       "      <th>NameCar</th>\n",
       "      <th>year</th>\n",
       "      <th>km_driven</th>\n",
       "      <th>fuel</th>\n",
       "      <th>seller_type</th>\n",
       "      <th>transmission</th>\n",
       "      <th>owner</th>\n",
       "      <th>mileage</th>\n",
       "      <th>engine</th>\n",
       "      <th>max_power</th>\n",
       "      <th>Torque</th>\n",
       "      <th>seats</th>\n",
       "      <th>selling_price</th>\n",
       "    </tr>\n",
       "  </thead>\n",
       "  <tbody>\n",
       "    <tr>\n",
       "      <th>0</th>\n",
       "      <td>0</td>\n",
       "      <td>2014</td>\n",
       "      <td>145500</td>\n",
       "      <td>Diesel</td>\n",
       "      <td>Individual</td>\n",
       "      <td>Manual</td>\n",
       "      <td>First Owner</td>\n",
       "      <td>23.40</td>\n",
       "      <td>1248</td>\n",
       "      <td>74.00</td>\n",
       "      <td>190.0</td>\n",
       "      <td>5</td>\n",
       "      <td>450000</td>\n",
       "    </tr>\n",
       "    <tr>\n",
       "      <th>1</th>\n",
       "      <td>1</td>\n",
       "      <td>2014</td>\n",
       "      <td>120000</td>\n",
       "      <td>Diesel</td>\n",
       "      <td>Individual</td>\n",
       "      <td>Manual</td>\n",
       "      <td>Second Owner</td>\n",
       "      <td>21.14</td>\n",
       "      <td>1498</td>\n",
       "      <td>103.52</td>\n",
       "      <td>250.0</td>\n",
       "      <td>5</td>\n",
       "      <td>370000</td>\n",
       "    </tr>\n",
       "    <tr>\n",
       "      <th>2</th>\n",
       "      <td>2</td>\n",
       "      <td>2006</td>\n",
       "      <td>140000</td>\n",
       "      <td>Petrol</td>\n",
       "      <td>Individual</td>\n",
       "      <td>Manual</td>\n",
       "      <td>Third Owner</td>\n",
       "      <td>17.70</td>\n",
       "      <td>1497</td>\n",
       "      <td>78.00</td>\n",
       "      <td>12.7</td>\n",
       "      <td>5</td>\n",
       "      <td>158000</td>\n",
       "    </tr>\n",
       "    <tr>\n",
       "      <th>3</th>\n",
       "      <td>3</td>\n",
       "      <td>2010</td>\n",
       "      <td>127000</td>\n",
       "      <td>Diesel</td>\n",
       "      <td>Individual</td>\n",
       "      <td>Manual</td>\n",
       "      <td>First Owner</td>\n",
       "      <td>23.00</td>\n",
       "      <td>1396</td>\n",
       "      <td>90.00</td>\n",
       "      <td>22.4</td>\n",
       "      <td>5</td>\n",
       "      <td>225000</td>\n",
       "    </tr>\n",
       "    <tr>\n",
       "      <th>4</th>\n",
       "      <td>0</td>\n",
       "      <td>2007</td>\n",
       "      <td>120000</td>\n",
       "      <td>Petrol</td>\n",
       "      <td>Individual</td>\n",
       "      <td>Manual</td>\n",
       "      <td>First Owner</td>\n",
       "      <td>16.10</td>\n",
       "      <td>1298</td>\n",
       "      <td>88.20</td>\n",
       "      <td>11.5</td>\n",
       "      <td>5</td>\n",
       "      <td>130000</td>\n",
       "    </tr>\n",
       "    <tr>\n",
       "      <th>...</th>\n",
       "      <td>...</td>\n",
       "      <td>...</td>\n",
       "      <td>...</td>\n",
       "      <td>...</td>\n",
       "      <td>...</td>\n",
       "      <td>...</td>\n",
       "      <td>...</td>\n",
       "      <td>...</td>\n",
       "      <td>...</td>\n",
       "      <td>...</td>\n",
       "      <td>...</td>\n",
       "      <td>...</td>\n",
       "      <td>...</td>\n",
       "    </tr>\n",
       "    <tr>\n",
       "      <th>7901</th>\n",
       "      <td>3</td>\n",
       "      <td>2013</td>\n",
       "      <td>110000</td>\n",
       "      <td>Petrol</td>\n",
       "      <td>Individual</td>\n",
       "      <td>Manual</td>\n",
       "      <td>First Owner</td>\n",
       "      <td>18.50</td>\n",
       "      <td>1197</td>\n",
       "      <td>82.85</td>\n",
       "      <td>113.7</td>\n",
       "      <td>5</td>\n",
       "      <td>320000</td>\n",
       "    </tr>\n",
       "    <tr>\n",
       "      <th>7902</th>\n",
       "      <td>3</td>\n",
       "      <td>2007</td>\n",
       "      <td>119000</td>\n",
       "      <td>Diesel</td>\n",
       "      <td>Individual</td>\n",
       "      <td>Manual</td>\n",
       "      <td>Fourth &amp; Above Owner</td>\n",
       "      <td>16.80</td>\n",
       "      <td>1493</td>\n",
       "      <td>110.00</td>\n",
       "      <td>24.0</td>\n",
       "      <td>5</td>\n",
       "      <td>135000</td>\n",
       "    </tr>\n",
       "    <tr>\n",
       "      <th>7903</th>\n",
       "      <td>0</td>\n",
       "      <td>2009</td>\n",
       "      <td>120000</td>\n",
       "      <td>Diesel</td>\n",
       "      <td>Individual</td>\n",
       "      <td>Manual</td>\n",
       "      <td>First Owner</td>\n",
       "      <td>19.30</td>\n",
       "      <td>1248</td>\n",
       "      <td>73.90</td>\n",
       "      <td>190.0</td>\n",
       "      <td>5</td>\n",
       "      <td>382000</td>\n",
       "    </tr>\n",
       "    <tr>\n",
       "      <th>7904</th>\n",
       "      <td>8</td>\n",
       "      <td>2013</td>\n",
       "      <td>25000</td>\n",
       "      <td>Diesel</td>\n",
       "      <td>Individual</td>\n",
       "      <td>Manual</td>\n",
       "      <td>First Owner</td>\n",
       "      <td>23.57</td>\n",
       "      <td>1396</td>\n",
       "      <td>70.00</td>\n",
       "      <td>140.0</td>\n",
       "      <td>5</td>\n",
       "      <td>290000</td>\n",
       "    </tr>\n",
       "    <tr>\n",
       "      <th>7905</th>\n",
       "      <td>8</td>\n",
       "      <td>2013</td>\n",
       "      <td>25000</td>\n",
       "      <td>Diesel</td>\n",
       "      <td>Individual</td>\n",
       "      <td>Manual</td>\n",
       "      <td>First Owner</td>\n",
       "      <td>23.57</td>\n",
       "      <td>1396</td>\n",
       "      <td>70.00</td>\n",
       "      <td>140.0</td>\n",
       "      <td>5</td>\n",
       "      <td>290000</td>\n",
       "    </tr>\n",
       "  </tbody>\n",
       "</table>\n",
       "<p>7906 rows × 13 columns</p>\n",
       "</div>"
      ],
      "text/plain": [
       "      NameCar  year  km_driven    fuel seller_type transmission  \\\n",
       "0           0  2014     145500  Diesel  Individual       Manual   \n",
       "1           1  2014     120000  Diesel  Individual       Manual   \n",
       "2           2  2006     140000  Petrol  Individual       Manual   \n",
       "3           3  2010     127000  Diesel  Individual       Manual   \n",
       "4           0  2007     120000  Petrol  Individual       Manual   \n",
       "...       ...   ...        ...     ...         ...          ...   \n",
       "7901        3  2013     110000  Petrol  Individual       Manual   \n",
       "7902        3  2007     119000  Diesel  Individual       Manual   \n",
       "7903        0  2009     120000  Diesel  Individual       Manual   \n",
       "7904        8  2013      25000  Diesel  Individual       Manual   \n",
       "7905        8  2013      25000  Diesel  Individual       Manual   \n",
       "\n",
       "                     owner  mileage  engine  max_power  Torque  seats  \\\n",
       "0              First Owner    23.40    1248      74.00   190.0      5   \n",
       "1             Second Owner    21.14    1498     103.52   250.0      5   \n",
       "2              Third Owner    17.70    1497      78.00    12.7      5   \n",
       "3              First Owner    23.00    1396      90.00    22.4      5   \n",
       "4              First Owner    16.10    1298      88.20    11.5      5   \n",
       "...                    ...      ...     ...        ...     ...    ...   \n",
       "7901           First Owner    18.50    1197      82.85   113.7      5   \n",
       "7902  Fourth & Above Owner    16.80    1493     110.00    24.0      5   \n",
       "7903           First Owner    19.30    1248      73.90   190.0      5   \n",
       "7904           First Owner    23.57    1396      70.00   140.0      5   \n",
       "7905           First Owner    23.57    1396      70.00   140.0      5   \n",
       "\n",
       "      selling_price  \n",
       "0            450000  \n",
       "1            370000  \n",
       "2            158000  \n",
       "3            225000  \n",
       "4            130000  \n",
       "...             ...  \n",
       "7901         320000  \n",
       "7902         135000  \n",
       "7903         382000  \n",
       "7904         290000  \n",
       "7905         290000  \n",
       "\n",
       "[7906 rows x 13 columns]"
      ]
     },
     "execution_count": 127,
     "metadata": {},
     "output_type": "execute_result"
    }
   ],
   "source": [
    "df"
   ]
  },
  {
   "cell_type": "markdown",
   "id": "55988991",
   "metadata": {},
   "source": [
    "# Encoding Fuel Column"
   ]
  },
  {
   "cell_type": "code",
   "execution_count": 128,
   "id": "393db9a7",
   "metadata": {},
   "outputs": [
    {
     "data": {
      "text/plain": [
       "array(['Diesel', 'Petrol', 'LPG', 'CNG'], dtype=object)"
      ]
     },
     "execution_count": 128,
     "metadata": {},
     "output_type": "execute_result"
    }
   ],
   "source": [
    "df['fuel'].unique()"
   ]
  },
  {
   "cell_type": "code",
   "execution_count": 129,
   "id": "3e00f580",
   "metadata": {},
   "outputs": [],
   "source": [
    "fuel = ['Diesel', 'Petrol', 'LPG', 'CNG']"
   ]
  },
  {
   "cell_type": "code",
   "execution_count": 130,
   "id": "693eb477",
   "metadata": {},
   "outputs": [],
   "source": [
    "enc = OrdinalEncoder(categories=[fuel])"
   ]
  },
  {
   "cell_type": "code",
   "execution_count": 131,
   "id": "cfb84a32",
   "metadata": {},
   "outputs": [],
   "source": [
    "df[['fuel']] = enc.fit_transform(df[['fuel']])"
   ]
  },
  {
   "cell_type": "code",
   "execution_count": 132,
   "id": "cdb2ab0a",
   "metadata": {},
   "outputs": [],
   "source": [
    "df['fuel'] = df['fuel'].astype(int)"
   ]
  },
  {
   "cell_type": "code",
   "execution_count": 133,
   "id": "620eaa0e",
   "metadata": {},
   "outputs": [
    {
     "data": {
      "text/plain": [
       "array([0, 1, 2, 3])"
      ]
     },
     "execution_count": 133,
     "metadata": {},
     "output_type": "execute_result"
    }
   ],
   "source": [
    "df['fuel'].unique()"
   ]
  },
  {
   "cell_type": "markdown",
   "id": "965f86b0",
   "metadata": {},
   "source": [
    "# Encoding seller_type Column"
   ]
  },
  {
   "cell_type": "code",
   "execution_count": 134,
   "id": "179002c6",
   "metadata": {},
   "outputs": [
    {
     "data": {
      "text/plain": [
       "array(['Individual', 'Dealer', 'Trustmark Dealer'], dtype=object)"
      ]
     },
     "execution_count": 134,
     "metadata": {},
     "output_type": "execute_result"
    }
   ],
   "source": [
    "df['seller_type'].unique()"
   ]
  },
  {
   "cell_type": "code",
   "execution_count": 135,
   "id": "12712c7b",
   "metadata": {},
   "outputs": [],
   "source": [
    "seller = ['Individual', 'Dealer', 'Trustmark Dealer']"
   ]
  },
  {
   "cell_type": "code",
   "execution_count": 136,
   "id": "d4fa2632",
   "metadata": {},
   "outputs": [],
   "source": [
    "enc = OrdinalEncoder(categories=[seller])"
   ]
  },
  {
   "cell_type": "code",
   "execution_count": 137,
   "id": "7cd0e696",
   "metadata": {},
   "outputs": [],
   "source": [
    "df[['seller_type']] = enc.fit_transform(df[['seller_type']])"
   ]
  },
  {
   "cell_type": "code",
   "execution_count": 138,
   "id": "87ee5346",
   "metadata": {},
   "outputs": [],
   "source": [
    "df['seller_type'] = df['seller_type'].astype(int)"
   ]
  },
  {
   "cell_type": "code",
   "execution_count": 139,
   "id": "bb6a97f5",
   "metadata": {},
   "outputs": [
    {
     "data": {
      "text/plain": [
       "array([0, 1, 2])"
      ]
     },
     "execution_count": 139,
     "metadata": {},
     "output_type": "execute_result"
    }
   ],
   "source": [
    "df['seller_type'].unique()"
   ]
  },
  {
   "cell_type": "markdown",
   "id": "fb5c9da2",
   "metadata": {},
   "source": [
    "# Encoding transmission"
   ]
  },
  {
   "cell_type": "code",
   "execution_count": 140,
   "id": "da6e9174",
   "metadata": {},
   "outputs": [
    {
     "data": {
      "text/plain": [
       "array(['Manual', 'Automatic'], dtype=object)"
      ]
     },
     "execution_count": 140,
     "metadata": {},
     "output_type": "execute_result"
    }
   ],
   "source": [
    "df['transmission'].unique()"
   ]
  },
  {
   "cell_type": "code",
   "execution_count": 141,
   "id": "cb8b563c",
   "metadata": {},
   "outputs": [],
   "source": [
    "trans = ['Manual', 'Automatic']"
   ]
  },
  {
   "cell_type": "code",
   "execution_count": 142,
   "id": "c839119b",
   "metadata": {},
   "outputs": [],
   "source": [
    "enc = OrdinalEncoder(categories=[trans])"
   ]
  },
  {
   "cell_type": "code",
   "execution_count": 143,
   "id": "327a222a",
   "metadata": {},
   "outputs": [],
   "source": [
    "df[['transmission']] = enc.fit_transform(df[['transmission']])"
   ]
  },
  {
   "cell_type": "code",
   "execution_count": 144,
   "id": "7b7f64f6",
   "metadata": {},
   "outputs": [],
   "source": [
    "df['transmission'] = df['transmission'].astype(int)"
   ]
  },
  {
   "cell_type": "code",
   "execution_count": 145,
   "id": "f620781d",
   "metadata": {},
   "outputs": [
    {
     "data": {
      "text/plain": [
       "array([0, 1])"
      ]
     },
     "execution_count": 145,
     "metadata": {},
     "output_type": "execute_result"
    }
   ],
   "source": [
    "df['transmission'].unique()"
   ]
  },
  {
   "cell_type": "markdown",
   "id": "2558dc39",
   "metadata": {},
   "source": [
    "# Encoding Owner"
   ]
  },
  {
   "cell_type": "code",
   "execution_count": 146,
   "id": "8e2c3e7f",
   "metadata": {},
   "outputs": [
    {
     "data": {
      "text/plain": [
       "array(['First Owner', 'Second Owner', 'Third Owner',\n",
       "       'Fourth & Above Owner', 'Test Drive Car'], dtype=object)"
      ]
     },
     "execution_count": 146,
     "metadata": {},
     "output_type": "execute_result"
    }
   ],
   "source": [
    "df['owner'].unique()"
   ]
  },
  {
   "cell_type": "code",
   "execution_count": 147,
   "id": "49255f17",
   "metadata": {},
   "outputs": [],
   "source": [
    "own = ['First Owner', 'Second Owner', 'Third Owner',\n",
    "       'Fourth & Above Owner', 'Test Drive Car']"
   ]
  },
  {
   "cell_type": "code",
   "execution_count": 148,
   "id": "d88cb30a",
   "metadata": {},
   "outputs": [],
   "source": [
    "enc = OrdinalEncoder(categories=[own])"
   ]
  },
  {
   "cell_type": "code",
   "execution_count": 149,
   "id": "09fdef14",
   "metadata": {},
   "outputs": [],
   "source": [
    "df[['owner']] = enc.fit_transform(df[['owner']])"
   ]
  },
  {
   "cell_type": "code",
   "execution_count": 150,
   "id": "67e5d3e3",
   "metadata": {},
   "outputs": [],
   "source": [
    "df['owner'] = df['owner'].astype(int)"
   ]
  },
  {
   "cell_type": "code",
   "execution_count": 151,
   "id": "2ffe9cfd",
   "metadata": {},
   "outputs": [
    {
     "data": {
      "text/plain": [
       "array([0, 1, 2, 3, 4])"
      ]
     },
     "execution_count": 151,
     "metadata": {},
     "output_type": "execute_result"
    }
   ],
   "source": [
    "df['owner'].unique()"
   ]
  },
  {
   "cell_type": "markdown",
   "id": "1aa61e6a",
   "metadata": {},
   "source": [
    "# Split data"
   ]
  },
  {
   "cell_type": "code",
   "execution_count": 152,
   "id": "222dcad8",
   "metadata": {},
   "outputs": [],
   "source": [
    "X = df.drop(['selling_price'],axis=1)\n",
    "Y = df['selling_price']"
   ]
  },
  {
   "cell_type": "code",
   "execution_count": 153,
   "id": "62ca9dda",
   "metadata": {},
   "outputs": [],
   "source": [
    "X_train, X_test,Y_train, Y_test = train_test_split(X, Y, test_size=0.2, random_state = 0)"
   ]
  },
  {
   "cell_type": "markdown",
   "id": "c860b528",
   "metadata": {},
   "source": [
    "# Build Model"
   ]
  },
  {
   "cell_type": "code",
   "execution_count": 154,
   "id": "5c67cc40",
   "metadata": {},
   "outputs": [],
   "source": [
    "from sklearn.linear_model import LinearRegression"
   ]
  },
  {
   "cell_type": "markdown",
   "id": "4c48f242",
   "metadata": {},
   "source": [
    "# 1. Multiple Linear Regression"
   ]
  },
  {
   "cell_type": "code",
   "execution_count": 155,
   "id": "c8b8d4c6",
   "metadata": {},
   "outputs": [],
   "source": [
    "regressor = LinearRegression()"
   ]
  },
  {
   "cell_type": "code",
   "execution_count": 156,
   "id": "a87b3a13",
   "metadata": {},
   "outputs": [
    {
     "data": {
      "text/html": [
       "<style>#sk-container-id-1 {color: black;background-color: white;}#sk-container-id-1 pre{padding: 0;}#sk-container-id-1 div.sk-toggleable {background-color: white;}#sk-container-id-1 label.sk-toggleable__label {cursor: pointer;display: block;width: 100%;margin-bottom: 0;padding: 0.3em;box-sizing: border-box;text-align: center;}#sk-container-id-1 label.sk-toggleable__label-arrow:before {content: \"▸\";float: left;margin-right: 0.25em;color: #696969;}#sk-container-id-1 label.sk-toggleable__label-arrow:hover:before {color: black;}#sk-container-id-1 div.sk-estimator:hover label.sk-toggleable__label-arrow:before {color: black;}#sk-container-id-1 div.sk-toggleable__content {max-height: 0;max-width: 0;overflow: hidden;text-align: left;background-color: #f0f8ff;}#sk-container-id-1 div.sk-toggleable__content pre {margin: 0.2em;color: black;border-radius: 0.25em;background-color: #f0f8ff;}#sk-container-id-1 input.sk-toggleable__control:checked~div.sk-toggleable__content {max-height: 200px;max-width: 100%;overflow: auto;}#sk-container-id-1 input.sk-toggleable__control:checked~label.sk-toggleable__label-arrow:before {content: \"▾\";}#sk-container-id-1 div.sk-estimator input.sk-toggleable__control:checked~label.sk-toggleable__label {background-color: #d4ebff;}#sk-container-id-1 div.sk-label input.sk-toggleable__control:checked~label.sk-toggleable__label {background-color: #d4ebff;}#sk-container-id-1 input.sk-hidden--visually {border: 0;clip: rect(1px 1px 1px 1px);clip: rect(1px, 1px, 1px, 1px);height: 1px;margin: -1px;overflow: hidden;padding: 0;position: absolute;width: 1px;}#sk-container-id-1 div.sk-estimator {font-family: monospace;background-color: #f0f8ff;border: 1px dotted black;border-radius: 0.25em;box-sizing: border-box;margin-bottom: 0.5em;}#sk-container-id-1 div.sk-estimator:hover {background-color: #d4ebff;}#sk-container-id-1 div.sk-parallel-item::after {content: \"\";width: 100%;border-bottom: 1px solid gray;flex-grow: 1;}#sk-container-id-1 div.sk-label:hover label.sk-toggleable__label {background-color: #d4ebff;}#sk-container-id-1 div.sk-serial::before {content: \"\";position: absolute;border-left: 1px solid gray;box-sizing: border-box;top: 0;bottom: 0;left: 50%;z-index: 0;}#sk-container-id-1 div.sk-serial {display: flex;flex-direction: column;align-items: center;background-color: white;padding-right: 0.2em;padding-left: 0.2em;position: relative;}#sk-container-id-1 div.sk-item {position: relative;z-index: 1;}#sk-container-id-1 div.sk-parallel {display: flex;align-items: stretch;justify-content: center;background-color: white;position: relative;}#sk-container-id-1 div.sk-item::before, #sk-container-id-1 div.sk-parallel-item::before {content: \"\";position: absolute;border-left: 1px solid gray;box-sizing: border-box;top: 0;bottom: 0;left: 50%;z-index: -1;}#sk-container-id-1 div.sk-parallel-item {display: flex;flex-direction: column;z-index: 1;position: relative;background-color: white;}#sk-container-id-1 div.sk-parallel-item:first-child::after {align-self: flex-end;width: 50%;}#sk-container-id-1 div.sk-parallel-item:last-child::after {align-self: flex-start;width: 50%;}#sk-container-id-1 div.sk-parallel-item:only-child::after {width: 0;}#sk-container-id-1 div.sk-dashed-wrapped {border: 1px dashed gray;margin: 0 0.4em 0.5em 0.4em;box-sizing: border-box;padding-bottom: 0.4em;background-color: white;}#sk-container-id-1 div.sk-label label {font-family: monospace;font-weight: bold;display: inline-block;line-height: 1.2em;}#sk-container-id-1 div.sk-label-container {text-align: center;}#sk-container-id-1 div.sk-container {/* jupyter's `normalize.less` sets `[hidden] { display: none; }` but bootstrap.min.css set `[hidden] { display: none !important; }` so we also need the `!important` here to be able to override the default hidden behavior on the sphinx rendered scikit-learn.org. See: https://github.com/scikit-learn/scikit-learn/issues/21755 */display: inline-block !important;position: relative;}#sk-container-id-1 div.sk-text-repr-fallback {display: none;}</style><div id=\"sk-container-id-1\" class=\"sk-top-container\"><div class=\"sk-text-repr-fallback\"><pre>LinearRegression()</pre><b>In a Jupyter environment, please rerun this cell to show the HTML representation or trust the notebook. <br />On GitHub, the HTML representation is unable to render, please try loading this page with nbviewer.org.</b></div><div class=\"sk-container\" hidden><div class=\"sk-item\"><div class=\"sk-estimator sk-toggleable\"><input class=\"sk-toggleable__control sk-hidden--visually\" id=\"sk-estimator-id-1\" type=\"checkbox\" checked><label for=\"sk-estimator-id-1\" class=\"sk-toggleable__label sk-toggleable__label-arrow\">LinearRegression</label><div class=\"sk-toggleable__content\"><pre>LinearRegression()</pre></div></div></div></div></div>"
      ],
      "text/plain": [
       "LinearRegression()"
      ]
     },
     "execution_count": 156,
     "metadata": {},
     "output_type": "execute_result"
    }
   ],
   "source": [
    "regressor.fit(X_train,Y_train)"
   ]
  },
  {
   "cell_type": "code",
   "execution_count": 157,
   "id": "3f2dac99",
   "metadata": {},
   "outputs": [],
   "source": [
    "y_pred = regressor.predict(X_test)"
   ]
  },
  {
   "cell_type": "code",
   "execution_count": 158,
   "id": "617872ec",
   "metadata": {},
   "outputs": [
    {
     "data": {
      "text/plain": [
       "0.6805148996199218"
      ]
     },
     "execution_count": 158,
     "metadata": {},
     "output_type": "execute_result"
    }
   ],
   "source": [
    "regressor.score(X_test,Y_test)"
   ]
  },
  {
   "cell_type": "markdown",
   "id": "6a9034b3",
   "metadata": {},
   "source": [
    "Model is OK"
   ]
  },
  {
   "cell_type": "code",
   "execution_count": 159,
   "id": "6db3c6cc",
   "metadata": {},
   "outputs": [
    {
     "data": {
      "text/html": [
       "<div>\n",
       "<style scoped>\n",
       "    .dataframe tbody tr th:only-of-type {\n",
       "        vertical-align: middle;\n",
       "    }\n",
       "\n",
       "    .dataframe tbody tr th {\n",
       "        vertical-align: top;\n",
       "    }\n",
       "\n",
       "    .dataframe thead th {\n",
       "        text-align: right;\n",
       "    }\n",
       "</style>\n",
       "<table border=\"1\" class=\"dataframe\">\n",
       "  <thead>\n",
       "    <tr style=\"text-align: right;\">\n",
       "      <th></th>\n",
       "      <th>NameCar</th>\n",
       "      <th>year</th>\n",
       "      <th>km_driven</th>\n",
       "      <th>fuel</th>\n",
       "      <th>seller_type</th>\n",
       "      <th>transmission</th>\n",
       "      <th>owner</th>\n",
       "      <th>mileage</th>\n",
       "      <th>engine</th>\n",
       "      <th>max_power</th>\n",
       "      <th>Torque</th>\n",
       "      <th>seats</th>\n",
       "      <th>selling_price</th>\n",
       "    </tr>\n",
       "  </thead>\n",
       "  <tbody>\n",
       "    <tr>\n",
       "      <th>0</th>\n",
       "      <td>0</td>\n",
       "      <td>2014</td>\n",
       "      <td>145500</td>\n",
       "      <td>0</td>\n",
       "      <td>0</td>\n",
       "      <td>0</td>\n",
       "      <td>0</td>\n",
       "      <td>23.40</td>\n",
       "      <td>1248</td>\n",
       "      <td>74.00</td>\n",
       "      <td>190.0</td>\n",
       "      <td>5</td>\n",
       "      <td>450000</td>\n",
       "    </tr>\n",
       "    <tr>\n",
       "      <th>1</th>\n",
       "      <td>1</td>\n",
       "      <td>2014</td>\n",
       "      <td>120000</td>\n",
       "      <td>0</td>\n",
       "      <td>0</td>\n",
       "      <td>0</td>\n",
       "      <td>1</td>\n",
       "      <td>21.14</td>\n",
       "      <td>1498</td>\n",
       "      <td>103.52</td>\n",
       "      <td>250.0</td>\n",
       "      <td>5</td>\n",
       "      <td>370000</td>\n",
       "    </tr>\n",
       "    <tr>\n",
       "      <th>2</th>\n",
       "      <td>2</td>\n",
       "      <td>2006</td>\n",
       "      <td>140000</td>\n",
       "      <td>1</td>\n",
       "      <td>0</td>\n",
       "      <td>0</td>\n",
       "      <td>2</td>\n",
       "      <td>17.70</td>\n",
       "      <td>1497</td>\n",
       "      <td>78.00</td>\n",
       "      <td>12.7</td>\n",
       "      <td>5</td>\n",
       "      <td>158000</td>\n",
       "    </tr>\n",
       "    <tr>\n",
       "      <th>3</th>\n",
       "      <td>3</td>\n",
       "      <td>2010</td>\n",
       "      <td>127000</td>\n",
       "      <td>0</td>\n",
       "      <td>0</td>\n",
       "      <td>0</td>\n",
       "      <td>0</td>\n",
       "      <td>23.00</td>\n",
       "      <td>1396</td>\n",
       "      <td>90.00</td>\n",
       "      <td>22.4</td>\n",
       "      <td>5</td>\n",
       "      <td>225000</td>\n",
       "    </tr>\n",
       "    <tr>\n",
       "      <th>4</th>\n",
       "      <td>0</td>\n",
       "      <td>2007</td>\n",
       "      <td>120000</td>\n",
       "      <td>1</td>\n",
       "      <td>0</td>\n",
       "      <td>0</td>\n",
       "      <td>0</td>\n",
       "      <td>16.10</td>\n",
       "      <td>1298</td>\n",
       "      <td>88.20</td>\n",
       "      <td>11.5</td>\n",
       "      <td>5</td>\n",
       "      <td>130000</td>\n",
       "    </tr>\n",
       "    <tr>\n",
       "      <th>...</th>\n",
       "      <td>...</td>\n",
       "      <td>...</td>\n",
       "      <td>...</td>\n",
       "      <td>...</td>\n",
       "      <td>...</td>\n",
       "      <td>...</td>\n",
       "      <td>...</td>\n",
       "      <td>...</td>\n",
       "      <td>...</td>\n",
       "      <td>...</td>\n",
       "      <td>...</td>\n",
       "      <td>...</td>\n",
       "      <td>...</td>\n",
       "    </tr>\n",
       "    <tr>\n",
       "      <th>7901</th>\n",
       "      <td>3</td>\n",
       "      <td>2013</td>\n",
       "      <td>110000</td>\n",
       "      <td>1</td>\n",
       "      <td>0</td>\n",
       "      <td>0</td>\n",
       "      <td>0</td>\n",
       "      <td>18.50</td>\n",
       "      <td>1197</td>\n",
       "      <td>82.85</td>\n",
       "      <td>113.7</td>\n",
       "      <td>5</td>\n",
       "      <td>320000</td>\n",
       "    </tr>\n",
       "    <tr>\n",
       "      <th>7902</th>\n",
       "      <td>3</td>\n",
       "      <td>2007</td>\n",
       "      <td>119000</td>\n",
       "      <td>0</td>\n",
       "      <td>0</td>\n",
       "      <td>0</td>\n",
       "      <td>3</td>\n",
       "      <td>16.80</td>\n",
       "      <td>1493</td>\n",
       "      <td>110.00</td>\n",
       "      <td>24.0</td>\n",
       "      <td>5</td>\n",
       "      <td>135000</td>\n",
       "    </tr>\n",
       "    <tr>\n",
       "      <th>7903</th>\n",
       "      <td>0</td>\n",
       "      <td>2009</td>\n",
       "      <td>120000</td>\n",
       "      <td>0</td>\n",
       "      <td>0</td>\n",
       "      <td>0</td>\n",
       "      <td>0</td>\n",
       "      <td>19.30</td>\n",
       "      <td>1248</td>\n",
       "      <td>73.90</td>\n",
       "      <td>190.0</td>\n",
       "      <td>5</td>\n",
       "      <td>382000</td>\n",
       "    </tr>\n",
       "    <tr>\n",
       "      <th>7904</th>\n",
       "      <td>8</td>\n",
       "      <td>2013</td>\n",
       "      <td>25000</td>\n",
       "      <td>0</td>\n",
       "      <td>0</td>\n",
       "      <td>0</td>\n",
       "      <td>0</td>\n",
       "      <td>23.57</td>\n",
       "      <td>1396</td>\n",
       "      <td>70.00</td>\n",
       "      <td>140.0</td>\n",
       "      <td>5</td>\n",
       "      <td>290000</td>\n",
       "    </tr>\n",
       "    <tr>\n",
       "      <th>7905</th>\n",
       "      <td>8</td>\n",
       "      <td>2013</td>\n",
       "      <td>25000</td>\n",
       "      <td>0</td>\n",
       "      <td>0</td>\n",
       "      <td>0</td>\n",
       "      <td>0</td>\n",
       "      <td>23.57</td>\n",
       "      <td>1396</td>\n",
       "      <td>70.00</td>\n",
       "      <td>140.0</td>\n",
       "      <td>5</td>\n",
       "      <td>290000</td>\n",
       "    </tr>\n",
       "  </tbody>\n",
       "</table>\n",
       "<p>7906 rows × 13 columns</p>\n",
       "</div>"
      ],
      "text/plain": [
       "      NameCar  year  km_driven  fuel  seller_type  transmission  owner  \\\n",
       "0           0  2014     145500     0            0             0      0   \n",
       "1           1  2014     120000     0            0             0      1   \n",
       "2           2  2006     140000     1            0             0      2   \n",
       "3           3  2010     127000     0            0             0      0   \n",
       "4           0  2007     120000     1            0             0      0   \n",
       "...       ...   ...        ...   ...          ...           ...    ...   \n",
       "7901        3  2013     110000     1            0             0      0   \n",
       "7902        3  2007     119000     0            0             0      3   \n",
       "7903        0  2009     120000     0            0             0      0   \n",
       "7904        8  2013      25000     0            0             0      0   \n",
       "7905        8  2013      25000     0            0             0      0   \n",
       "\n",
       "      mileage  engine  max_power  Torque  seats  selling_price  \n",
       "0       23.40    1248      74.00   190.0      5         450000  \n",
       "1       21.14    1498     103.52   250.0      5         370000  \n",
       "2       17.70    1497      78.00    12.7      5         158000  \n",
       "3       23.00    1396      90.00    22.4      5         225000  \n",
       "4       16.10    1298      88.20    11.5      5         130000  \n",
       "...       ...     ...        ...     ...    ...            ...  \n",
       "7901    18.50    1197      82.85   113.7      5         320000  \n",
       "7902    16.80    1493     110.00    24.0      5         135000  \n",
       "7903    19.30    1248      73.90   190.0      5         382000  \n",
       "7904    23.57    1396      70.00   140.0      5         290000  \n",
       "7905    23.57    1396      70.00   140.0      5         290000  \n",
       "\n",
       "[7906 rows x 13 columns]"
      ]
     },
     "execution_count": 159,
     "metadata": {},
     "output_type": "execute_result"
    }
   ],
   "source": [
    "df"
   ]
  },
  {
   "cell_type": "code",
   "execution_count": 160,
   "id": "05d95f00",
   "metadata": {},
   "outputs": [
    {
     "name": "stderr",
     "output_type": "stream",
     "text": [
      "C:\\Users\\MrBento\\anaconda3\\lib\\site-packages\\sklearn\\base.py:450: UserWarning: X does not have valid feature names, but LinearRegression was fitted with feature names\n",
      "  warnings.warn(\n"
     ]
    },
    {
     "data": {
      "text/plain": [
       "array([650955.23015245])"
      ]
     },
     "execution_count": 160,
     "metadata": {},
     "output_type": "execute_result"
    }
   ],
   "source": [
    "regressor.predict([[3,2016,12000,1,0,0,1,23.4,1497,78,250,5]])"
   ]
  },
  {
   "cell_type": "code",
   "execution_count": 161,
   "id": "a898b03d",
   "metadata": {},
   "outputs": [],
   "source": [
    "y_pred = y_pred.astype(int)"
   ]
  },
  {
   "cell_type": "code",
   "execution_count": 162,
   "id": "e7c534ad",
   "metadata": {},
   "outputs": [
    {
     "data": {
      "text/html": [
       "<div>\n",
       "<style scoped>\n",
       "    .dataframe tbody tr th:only-of-type {\n",
       "        vertical-align: middle;\n",
       "    }\n",
       "\n",
       "    .dataframe tbody tr th {\n",
       "        vertical-align: top;\n",
       "    }\n",
       "\n",
       "    .dataframe thead th {\n",
       "        text-align: right;\n",
       "    }\n",
       "</style>\n",
       "<table border=\"1\" class=\"dataframe\">\n",
       "  <thead>\n",
       "    <tr style=\"text-align: right;\">\n",
       "      <th></th>\n",
       "      <th>Actual</th>\n",
       "      <th>Predicted</th>\n",
       "    </tr>\n",
       "  </thead>\n",
       "  <tbody>\n",
       "    <tr>\n",
       "      <th>3927</th>\n",
       "      <td>430000</td>\n",
       "      <td>744486</td>\n",
       "    </tr>\n",
       "    <tr>\n",
       "      <th>4695</th>\n",
       "      <td>779000</td>\n",
       "      <td>1325518</td>\n",
       "    </tr>\n",
       "    <tr>\n",
       "      <th>4979</th>\n",
       "      <td>200000</td>\n",
       "      <td>134676</td>\n",
       "    </tr>\n",
       "    <tr>\n",
       "      <th>6325</th>\n",
       "      <td>800000</td>\n",
       "      <td>933763</td>\n",
       "    </tr>\n",
       "    <tr>\n",
       "      <th>44</th>\n",
       "      <td>390000</td>\n",
       "      <td>519218</td>\n",
       "    </tr>\n",
       "    <tr>\n",
       "      <th>...</th>\n",
       "      <td>...</td>\n",
       "      <td>...</td>\n",
       "    </tr>\n",
       "    <tr>\n",
       "      <th>7596</th>\n",
       "      <td>450000</td>\n",
       "      <td>1161567</td>\n",
       "    </tr>\n",
       "    <tr>\n",
       "      <th>2228</th>\n",
       "      <td>650000</td>\n",
       "      <td>821766</td>\n",
       "    </tr>\n",
       "    <tr>\n",
       "      <th>555</th>\n",
       "      <td>120000</td>\n",
       "      <td>-196935</td>\n",
       "    </tr>\n",
       "    <tr>\n",
       "      <th>4916</th>\n",
       "      <td>340000</td>\n",
       "      <td>309317</td>\n",
       "    </tr>\n",
       "    <tr>\n",
       "      <th>7222</th>\n",
       "      <td>620000</td>\n",
       "      <td>259981</td>\n",
       "    </tr>\n",
       "  </tbody>\n",
       "</table>\n",
       "<p>1582 rows × 2 columns</p>\n",
       "</div>"
      ],
      "text/plain": [
       "      Actual  Predicted\n",
       "3927  430000     744486\n",
       "4695  779000    1325518\n",
       "4979  200000     134676\n",
       "6325  800000     933763\n",
       "44    390000     519218\n",
       "...      ...        ...\n",
       "7596  450000    1161567\n",
       "2228  650000     821766\n",
       "555   120000    -196935\n",
       "4916  340000     309317\n",
       "7222  620000     259981\n",
       "\n",
       "[1582 rows x 2 columns]"
      ]
     },
     "execution_count": 162,
     "metadata": {},
     "output_type": "execute_result"
    }
   ],
   "source": [
    "df_preds = pd.DataFrame({'Actual': Y_test.squeeze(), 'Predicted': y_pred.squeeze()})\n",
    "df_preds"
   ]
  },
  {
   "cell_type": "markdown",
   "id": "e83919e7",
   "metadata": {},
   "source": [
    "# 2. Decision Tree Regression"
   ]
  },
  {
   "cell_type": "code",
   "execution_count": 163,
   "id": "8b4dfdc5",
   "metadata": {},
   "outputs": [
    {
     "data": {
      "text/html": [
       "<style>#sk-container-id-2 {color: black;background-color: white;}#sk-container-id-2 pre{padding: 0;}#sk-container-id-2 div.sk-toggleable {background-color: white;}#sk-container-id-2 label.sk-toggleable__label {cursor: pointer;display: block;width: 100%;margin-bottom: 0;padding: 0.3em;box-sizing: border-box;text-align: center;}#sk-container-id-2 label.sk-toggleable__label-arrow:before {content: \"▸\";float: left;margin-right: 0.25em;color: #696969;}#sk-container-id-2 label.sk-toggleable__label-arrow:hover:before {color: black;}#sk-container-id-2 div.sk-estimator:hover label.sk-toggleable__label-arrow:before {color: black;}#sk-container-id-2 div.sk-toggleable__content {max-height: 0;max-width: 0;overflow: hidden;text-align: left;background-color: #f0f8ff;}#sk-container-id-2 div.sk-toggleable__content pre {margin: 0.2em;color: black;border-radius: 0.25em;background-color: #f0f8ff;}#sk-container-id-2 input.sk-toggleable__control:checked~div.sk-toggleable__content {max-height: 200px;max-width: 100%;overflow: auto;}#sk-container-id-2 input.sk-toggleable__control:checked~label.sk-toggleable__label-arrow:before {content: \"▾\";}#sk-container-id-2 div.sk-estimator input.sk-toggleable__control:checked~label.sk-toggleable__label {background-color: #d4ebff;}#sk-container-id-2 div.sk-label input.sk-toggleable__control:checked~label.sk-toggleable__label {background-color: #d4ebff;}#sk-container-id-2 input.sk-hidden--visually {border: 0;clip: rect(1px 1px 1px 1px);clip: rect(1px, 1px, 1px, 1px);height: 1px;margin: -1px;overflow: hidden;padding: 0;position: absolute;width: 1px;}#sk-container-id-2 div.sk-estimator {font-family: monospace;background-color: #f0f8ff;border: 1px dotted black;border-radius: 0.25em;box-sizing: border-box;margin-bottom: 0.5em;}#sk-container-id-2 div.sk-estimator:hover {background-color: #d4ebff;}#sk-container-id-2 div.sk-parallel-item::after {content: \"\";width: 100%;border-bottom: 1px solid gray;flex-grow: 1;}#sk-container-id-2 div.sk-label:hover label.sk-toggleable__label {background-color: #d4ebff;}#sk-container-id-2 div.sk-serial::before {content: \"\";position: absolute;border-left: 1px solid gray;box-sizing: border-box;top: 0;bottom: 0;left: 50%;z-index: 0;}#sk-container-id-2 div.sk-serial {display: flex;flex-direction: column;align-items: center;background-color: white;padding-right: 0.2em;padding-left: 0.2em;position: relative;}#sk-container-id-2 div.sk-item {position: relative;z-index: 1;}#sk-container-id-2 div.sk-parallel {display: flex;align-items: stretch;justify-content: center;background-color: white;position: relative;}#sk-container-id-2 div.sk-item::before, #sk-container-id-2 div.sk-parallel-item::before {content: \"\";position: absolute;border-left: 1px solid gray;box-sizing: border-box;top: 0;bottom: 0;left: 50%;z-index: -1;}#sk-container-id-2 div.sk-parallel-item {display: flex;flex-direction: column;z-index: 1;position: relative;background-color: white;}#sk-container-id-2 div.sk-parallel-item:first-child::after {align-self: flex-end;width: 50%;}#sk-container-id-2 div.sk-parallel-item:last-child::after {align-self: flex-start;width: 50%;}#sk-container-id-2 div.sk-parallel-item:only-child::after {width: 0;}#sk-container-id-2 div.sk-dashed-wrapped {border: 1px dashed gray;margin: 0 0.4em 0.5em 0.4em;box-sizing: border-box;padding-bottom: 0.4em;background-color: white;}#sk-container-id-2 div.sk-label label {font-family: monospace;font-weight: bold;display: inline-block;line-height: 1.2em;}#sk-container-id-2 div.sk-label-container {text-align: center;}#sk-container-id-2 div.sk-container {/* jupyter's `normalize.less` sets `[hidden] { display: none; }` but bootstrap.min.css set `[hidden] { display: none !important; }` so we also need the `!important` here to be able to override the default hidden behavior on the sphinx rendered scikit-learn.org. See: https://github.com/scikit-learn/scikit-learn/issues/21755 */display: inline-block !important;position: relative;}#sk-container-id-2 div.sk-text-repr-fallback {display: none;}</style><div id=\"sk-container-id-2\" class=\"sk-top-container\"><div class=\"sk-text-repr-fallback\"><pre>DecisionTreeRegressor(random_state=0)</pre><b>In a Jupyter environment, please rerun this cell to show the HTML representation or trust the notebook. <br />On GitHub, the HTML representation is unable to render, please try loading this page with nbviewer.org.</b></div><div class=\"sk-container\" hidden><div class=\"sk-item\"><div class=\"sk-estimator sk-toggleable\"><input class=\"sk-toggleable__control sk-hidden--visually\" id=\"sk-estimator-id-2\" type=\"checkbox\" checked><label for=\"sk-estimator-id-2\" class=\"sk-toggleable__label sk-toggleable__label-arrow\">DecisionTreeRegressor</label><div class=\"sk-toggleable__content\"><pre>DecisionTreeRegressor(random_state=0)</pre></div></div></div></div></div>"
      ],
      "text/plain": [
       "DecisionTreeRegressor(random_state=0)"
      ]
     },
     "execution_count": 163,
     "metadata": {},
     "output_type": "execute_result"
    }
   ],
   "source": [
    "from sklearn.tree import DecisionTreeRegressor\n",
    "regressor = DecisionTreeRegressor(random_state=0)\n",
    "regressor.fit(X,Y)"
   ]
  },
  {
   "cell_type": "code",
   "execution_count": 164,
   "id": "960c9d99",
   "metadata": {},
   "outputs": [],
   "source": [
    "y_pred = regressor.predict(X_test)"
   ]
  },
  {
   "cell_type": "code",
   "execution_count": 165,
   "id": "fa61a068",
   "metadata": {},
   "outputs": [
    {
     "data": {
      "text/plain": [
       "0.9993845138016143"
      ]
     },
     "execution_count": 165,
     "metadata": {},
     "output_type": "execute_result"
    }
   ],
   "source": [
    "regressor.score(X_test,Y_test)"
   ]
  },
  {
   "cell_type": "markdown",
   "id": "4f5c5cc5",
   "metadata": {},
   "source": [
    "Model Overfitting"
   ]
  },
  {
   "cell_type": "code",
   "execution_count": 166,
   "id": "9979a116",
   "metadata": {},
   "outputs": [
    {
     "name": "stderr",
     "output_type": "stream",
     "text": [
      "C:\\Users\\MrBento\\anaconda3\\lib\\site-packages\\sklearn\\base.py:450: UserWarning: X does not have valid feature names, but DecisionTreeRegressor was fitted with feature names\n",
      "  warnings.warn(\n"
     ]
    },
    {
     "data": {
      "text/plain": [
       "array([620000.])"
      ]
     },
     "execution_count": 166,
     "metadata": {},
     "output_type": "execute_result"
    }
   ],
   "source": [
    "regressor.predict([[3,2016,12000,1,0,0,1,23.4,1497,78,250,5]])"
   ]
  },
  {
   "cell_type": "code",
   "execution_count": 167,
   "id": "8e51e5d7",
   "metadata": {},
   "outputs": [
    {
     "data": {
      "text/html": [
       "<div>\n",
       "<style scoped>\n",
       "    .dataframe tbody tr th:only-of-type {\n",
       "        vertical-align: middle;\n",
       "    }\n",
       "\n",
       "    .dataframe tbody tr th {\n",
       "        vertical-align: top;\n",
       "    }\n",
       "\n",
       "    .dataframe thead th {\n",
       "        text-align: right;\n",
       "    }\n",
       "</style>\n",
       "<table border=\"1\" class=\"dataframe\">\n",
       "  <thead>\n",
       "    <tr style=\"text-align: right;\">\n",
       "      <th></th>\n",
       "      <th>Actual</th>\n",
       "      <th>Predicted</th>\n",
       "    </tr>\n",
       "  </thead>\n",
       "  <tbody>\n",
       "    <tr>\n",
       "      <th>3927</th>\n",
       "      <td>430000</td>\n",
       "      <td>430000.0</td>\n",
       "    </tr>\n",
       "    <tr>\n",
       "      <th>4695</th>\n",
       "      <td>779000</td>\n",
       "      <td>779000.0</td>\n",
       "    </tr>\n",
       "    <tr>\n",
       "      <th>4979</th>\n",
       "      <td>200000</td>\n",
       "      <td>190000.0</td>\n",
       "    </tr>\n",
       "    <tr>\n",
       "      <th>6325</th>\n",
       "      <td>800000</td>\n",
       "      <td>818750.0</td>\n",
       "    </tr>\n",
       "    <tr>\n",
       "      <th>44</th>\n",
       "      <td>390000</td>\n",
       "      <td>390000.0</td>\n",
       "    </tr>\n",
       "    <tr>\n",
       "      <th>...</th>\n",
       "      <td>...</td>\n",
       "      <td>...</td>\n",
       "    </tr>\n",
       "    <tr>\n",
       "      <th>7596</th>\n",
       "      <td>450000</td>\n",
       "      <td>450000.0</td>\n",
       "    </tr>\n",
       "    <tr>\n",
       "      <th>2228</th>\n",
       "      <td>650000</td>\n",
       "      <td>650000.0</td>\n",
       "    </tr>\n",
       "    <tr>\n",
       "      <th>555</th>\n",
       "      <td>120000</td>\n",
       "      <td>120000.0</td>\n",
       "    </tr>\n",
       "    <tr>\n",
       "      <th>4916</th>\n",
       "      <td>340000</td>\n",
       "      <td>340000.0</td>\n",
       "    </tr>\n",
       "    <tr>\n",
       "      <th>7222</th>\n",
       "      <td>620000</td>\n",
       "      <td>620000.0</td>\n",
       "    </tr>\n",
       "  </tbody>\n",
       "</table>\n",
       "<p>1582 rows × 2 columns</p>\n",
       "</div>"
      ],
      "text/plain": [
       "      Actual  Predicted\n",
       "3927  430000   430000.0\n",
       "4695  779000   779000.0\n",
       "4979  200000   190000.0\n",
       "6325  800000   818750.0\n",
       "44    390000   390000.0\n",
       "...      ...        ...\n",
       "7596  450000   450000.0\n",
       "2228  650000   650000.0\n",
       "555   120000   120000.0\n",
       "4916  340000   340000.0\n",
       "7222  620000   620000.0\n",
       "\n",
       "[1582 rows x 2 columns]"
      ]
     },
     "execution_count": 167,
     "metadata": {},
     "output_type": "execute_result"
    }
   ],
   "source": [
    "df_preds = pd.DataFrame({'Actual': Y_test.squeeze(), 'Predicted': y_pred.squeeze()})\n",
    "df_preds"
   ]
  },
  {
   "cell_type": "markdown",
   "id": "7d0f2b0f",
   "metadata": {},
   "source": [
    "# 3. Random Forest Regression"
   ]
  },
  {
   "cell_type": "code",
   "execution_count": 168,
   "id": "d9036b2c",
   "metadata": {},
   "outputs": [
    {
     "data": {
      "text/html": [
       "<style>#sk-container-id-3 {color: black;background-color: white;}#sk-container-id-3 pre{padding: 0;}#sk-container-id-3 div.sk-toggleable {background-color: white;}#sk-container-id-3 label.sk-toggleable__label {cursor: pointer;display: block;width: 100%;margin-bottom: 0;padding: 0.3em;box-sizing: border-box;text-align: center;}#sk-container-id-3 label.sk-toggleable__label-arrow:before {content: \"▸\";float: left;margin-right: 0.25em;color: #696969;}#sk-container-id-3 label.sk-toggleable__label-arrow:hover:before {color: black;}#sk-container-id-3 div.sk-estimator:hover label.sk-toggleable__label-arrow:before {color: black;}#sk-container-id-3 div.sk-toggleable__content {max-height: 0;max-width: 0;overflow: hidden;text-align: left;background-color: #f0f8ff;}#sk-container-id-3 div.sk-toggleable__content pre {margin: 0.2em;color: black;border-radius: 0.25em;background-color: #f0f8ff;}#sk-container-id-3 input.sk-toggleable__control:checked~div.sk-toggleable__content {max-height: 200px;max-width: 100%;overflow: auto;}#sk-container-id-3 input.sk-toggleable__control:checked~label.sk-toggleable__label-arrow:before {content: \"▾\";}#sk-container-id-3 div.sk-estimator input.sk-toggleable__control:checked~label.sk-toggleable__label {background-color: #d4ebff;}#sk-container-id-3 div.sk-label input.sk-toggleable__control:checked~label.sk-toggleable__label {background-color: #d4ebff;}#sk-container-id-3 input.sk-hidden--visually {border: 0;clip: rect(1px 1px 1px 1px);clip: rect(1px, 1px, 1px, 1px);height: 1px;margin: -1px;overflow: hidden;padding: 0;position: absolute;width: 1px;}#sk-container-id-3 div.sk-estimator {font-family: monospace;background-color: #f0f8ff;border: 1px dotted black;border-radius: 0.25em;box-sizing: border-box;margin-bottom: 0.5em;}#sk-container-id-3 div.sk-estimator:hover {background-color: #d4ebff;}#sk-container-id-3 div.sk-parallel-item::after {content: \"\";width: 100%;border-bottom: 1px solid gray;flex-grow: 1;}#sk-container-id-3 div.sk-label:hover label.sk-toggleable__label {background-color: #d4ebff;}#sk-container-id-3 div.sk-serial::before {content: \"\";position: absolute;border-left: 1px solid gray;box-sizing: border-box;top: 0;bottom: 0;left: 50%;z-index: 0;}#sk-container-id-3 div.sk-serial {display: flex;flex-direction: column;align-items: center;background-color: white;padding-right: 0.2em;padding-left: 0.2em;position: relative;}#sk-container-id-3 div.sk-item {position: relative;z-index: 1;}#sk-container-id-3 div.sk-parallel {display: flex;align-items: stretch;justify-content: center;background-color: white;position: relative;}#sk-container-id-3 div.sk-item::before, #sk-container-id-3 div.sk-parallel-item::before {content: \"\";position: absolute;border-left: 1px solid gray;box-sizing: border-box;top: 0;bottom: 0;left: 50%;z-index: -1;}#sk-container-id-3 div.sk-parallel-item {display: flex;flex-direction: column;z-index: 1;position: relative;background-color: white;}#sk-container-id-3 div.sk-parallel-item:first-child::after {align-self: flex-end;width: 50%;}#sk-container-id-3 div.sk-parallel-item:last-child::after {align-self: flex-start;width: 50%;}#sk-container-id-3 div.sk-parallel-item:only-child::after {width: 0;}#sk-container-id-3 div.sk-dashed-wrapped {border: 1px dashed gray;margin: 0 0.4em 0.5em 0.4em;box-sizing: border-box;padding-bottom: 0.4em;background-color: white;}#sk-container-id-3 div.sk-label label {font-family: monospace;font-weight: bold;display: inline-block;line-height: 1.2em;}#sk-container-id-3 div.sk-label-container {text-align: center;}#sk-container-id-3 div.sk-container {/* jupyter's `normalize.less` sets `[hidden] { display: none; }` but bootstrap.min.css set `[hidden] { display: none !important; }` so we also need the `!important` here to be able to override the default hidden behavior on the sphinx rendered scikit-learn.org. See: https://github.com/scikit-learn/scikit-learn/issues/21755 */display: inline-block !important;position: relative;}#sk-container-id-3 div.sk-text-repr-fallback {display: none;}</style><div id=\"sk-container-id-3\" class=\"sk-top-container\"><div class=\"sk-text-repr-fallback\"><pre>RandomForestRegressor(n_estimators=10, random_state=0)</pre><b>In a Jupyter environment, please rerun this cell to show the HTML representation or trust the notebook. <br />On GitHub, the HTML representation is unable to render, please try loading this page with nbviewer.org.</b></div><div class=\"sk-container\" hidden><div class=\"sk-item\"><div class=\"sk-estimator sk-toggleable\"><input class=\"sk-toggleable__control sk-hidden--visually\" id=\"sk-estimator-id-3\" type=\"checkbox\" checked><label for=\"sk-estimator-id-3\" class=\"sk-toggleable__label sk-toggleable__label-arrow\">RandomForestRegressor</label><div class=\"sk-toggleable__content\"><pre>RandomForestRegressor(n_estimators=10, random_state=0)</pre></div></div></div></div></div>"
      ],
      "text/plain": [
       "RandomForestRegressor(n_estimators=10, random_state=0)"
      ]
     },
     "execution_count": 168,
     "metadata": {},
     "output_type": "execute_result"
    }
   ],
   "source": [
    "from sklearn.ensemble import RandomForestRegressor\n",
    "regressor = RandomForestRegressor(n_estimators=10,random_state=0)\n",
    "regressor.fit(X,Y)"
   ]
  },
  {
   "cell_type": "code",
   "execution_count": 169,
   "id": "f1ab5310",
   "metadata": {},
   "outputs": [],
   "source": [
    "y_pred = regressor.predict(X_test)"
   ]
  },
  {
   "cell_type": "code",
   "execution_count": 170,
   "id": "8e9a3cf4",
   "metadata": {},
   "outputs": [
    {
     "data": {
      "text/plain": [
       "0.9944966542907951"
      ]
     },
     "execution_count": 170,
     "metadata": {},
     "output_type": "execute_result"
    }
   ],
   "source": [
    "regressor.score(X_test,Y_test)"
   ]
  },
  {
   "cell_type": "markdown",
   "id": "fbcd2848",
   "metadata": {},
   "source": [
    "Model Overfitting"
   ]
  },
  {
   "cell_type": "code",
   "execution_count": 171,
   "id": "f29949fc",
   "metadata": {},
   "outputs": [
    {
     "name": "stderr",
     "output_type": "stream",
     "text": [
      "C:\\Users\\MrBento\\anaconda3\\lib\\site-packages\\sklearn\\base.py:450: UserWarning: X does not have valid feature names, but RandomForestRegressor was fitted with feature names\n",
      "  warnings.warn(\n"
     ]
    },
    {
     "data": {
      "text/plain": [
       "array([544600.])"
      ]
     },
     "execution_count": 171,
     "metadata": {},
     "output_type": "execute_result"
    }
   ],
   "source": [
    "regressor.predict([[3,2016,12000,1,0,0,1,23.4,1497,78,250,5]])"
   ]
  },
  {
   "cell_type": "code",
   "execution_count": 172,
   "id": "5bff51eb",
   "metadata": {},
   "outputs": [
    {
     "data": {
      "text/html": [
       "<div>\n",
       "<style scoped>\n",
       "    .dataframe tbody tr th:only-of-type {\n",
       "        vertical-align: middle;\n",
       "    }\n",
       "\n",
       "    .dataframe tbody tr th {\n",
       "        vertical-align: top;\n",
       "    }\n",
       "\n",
       "    .dataframe thead th {\n",
       "        text-align: right;\n",
       "    }\n",
       "</style>\n",
       "<table border=\"1\" class=\"dataframe\">\n",
       "  <thead>\n",
       "    <tr style=\"text-align: right;\">\n",
       "      <th></th>\n",
       "      <th>Actual</th>\n",
       "      <th>Predicted</th>\n",
       "    </tr>\n",
       "  </thead>\n",
       "  <tbody>\n",
       "    <tr>\n",
       "      <th>3927</th>\n",
       "      <td>430000</td>\n",
       "      <td>435000.000000</td>\n",
       "    </tr>\n",
       "    <tr>\n",
       "      <th>4695</th>\n",
       "      <td>779000</td>\n",
       "      <td>779000.000000</td>\n",
       "    </tr>\n",
       "    <tr>\n",
       "      <th>4979</th>\n",
       "      <td>200000</td>\n",
       "      <td>190833.333333</td>\n",
       "    </tr>\n",
       "    <tr>\n",
       "      <th>6325</th>\n",
       "      <td>800000</td>\n",
       "      <td>842614.285714</td>\n",
       "    </tr>\n",
       "    <tr>\n",
       "      <th>44</th>\n",
       "      <td>390000</td>\n",
       "      <td>411500.000000</td>\n",
       "    </tr>\n",
       "    <tr>\n",
       "      <th>...</th>\n",
       "      <td>...</td>\n",
       "      <td>...</td>\n",
       "    </tr>\n",
       "    <tr>\n",
       "      <th>7596</th>\n",
       "      <td>450000</td>\n",
       "      <td>455500.000000</td>\n",
       "    </tr>\n",
       "    <tr>\n",
       "      <th>2228</th>\n",
       "      <td>650000</td>\n",
       "      <td>602000.000000</td>\n",
       "    </tr>\n",
       "    <tr>\n",
       "      <th>555</th>\n",
       "      <td>120000</td>\n",
       "      <td>88670.200000</td>\n",
       "    </tr>\n",
       "    <tr>\n",
       "      <th>4916</th>\n",
       "      <td>340000</td>\n",
       "      <td>346200.000000</td>\n",
       "    </tr>\n",
       "    <tr>\n",
       "      <th>7222</th>\n",
       "      <td>620000</td>\n",
       "      <td>648000.000000</td>\n",
       "    </tr>\n",
       "  </tbody>\n",
       "</table>\n",
       "<p>1582 rows × 2 columns</p>\n",
       "</div>"
      ],
      "text/plain": [
       "      Actual      Predicted\n",
       "3927  430000  435000.000000\n",
       "4695  779000  779000.000000\n",
       "4979  200000  190833.333333\n",
       "6325  800000  842614.285714\n",
       "44    390000  411500.000000\n",
       "...      ...            ...\n",
       "7596  450000  455500.000000\n",
       "2228  650000  602000.000000\n",
       "555   120000   88670.200000\n",
       "4916  340000  346200.000000\n",
       "7222  620000  648000.000000\n",
       "\n",
       "[1582 rows x 2 columns]"
      ]
     },
     "execution_count": 172,
     "metadata": {},
     "output_type": "execute_result"
    }
   ],
   "source": [
    "df_preds = pd.DataFrame({'Actual': Y_test.squeeze(), 'Predicted': y_pred.squeeze()})\n",
    "df_preds"
   ]
  },
  {
   "cell_type": "markdown",
   "id": "93b201e1",
   "metadata": {},
   "source": [
    "# Kesimpulan"
   ]
  },
  {
   "cell_type": "markdown",
   "id": "e99e96e5",
   "metadata": {},
   "source": [
    "Berdasarkan **EDA Car Selling** diatas, didapat beberapa kesimpulan sebagai berikut.\n",
    "- 1. Terdapat beberapa mobil dengan **kolom torsi tidak diisi**, sehingga perlu dilakukan pemrosesan data agar machine learning yang dihasilkan lebih baik.\n",
    "- 2. Mobil yang banyak dijual adalah mobil dengan keluaran **tahun 2010-2018**, jarak tempuh dibawah **32 km**, engine **dibawah 1500CC**, Horse power **kurang dari 100HP**, dan torsi antara **100-200Nm**. Akan tetapi ada dua mobil antik yang pernah terjual yaitu **mobil Maruti dan Ambassador** keluaran **tahun 1994**.\n",
    "- 3. Berdasarkan transmisi, mobil yang sering terjual adalah **mobil manual** karena tenaganya lebih kuat dibanding automatic. Akan tetapi mobil yang paling mahal adalah **mobil Volvo keluaran tahun 2017** dengan transmisi **automatic** seharga **156 Miliar Rupiah**.\n",
    "- 4. Berdasarkan bahan bakar, mobil paling banyak terjual adalah mobil dengan bahan bakar Diesel, hal ini dikarenakan Diesel mempunyai **tenaga yang kuat** karena **tekanan pembakaran** pada mesin diesel **lebih tinggi** dari **mesin bensin**.\n",
    "- 5. Berdasarkan seller, mobil yang paling laku adalah mobil dari **Individual dibandingkan dari Dealer**, karena apabila dari Dealer akan ada **potongan tertentu sesuai ketentuan Dealer**, sehingga penjualan dari Individual lebih diminati.\n",
    "- 6. Tipe owner yang paling laku adalah mobil dari **First Owner**, kondisi ini lantaran mobil bekas dari tangan pertama dianggap memiliki kondisi yang lebih baik, apalagi semakin tua tahun produksi mobil bekas.\n",
    "- 7. Harga mobil semakin meningkat apabila **Horse Power dan Torsi** dari mobil semakin tinggi, hal itu karena mobil akan lebih bertenaga dibandingkan horse power ataupun torsi yang sedikit.\n",
    "- 8. Total harga dari mobil yang terjual hingga saat ini adalah **80 Triliun Rupiah**.\n",
    "- 9. Jawaban dari Machine Learning adalah **650,955.23 USD** atau setara **10.196.041.958 Rupiah**."
   ]
  }
 ],
 "metadata": {
  "kernelspec": {
   "display_name": "Python 3 (ipykernel)",
   "language": "python",
   "name": "python3"
  },
  "language_info": {
   "codemirror_mode": {
    "name": "ipython",
    "version": 3
   },
   "file_extension": ".py",
   "mimetype": "text/x-python",
   "name": "python",
   "nbconvert_exporter": "python",
   "pygments_lexer": "ipython3",
   "version": "3.9.7"
  }
 },
 "nbformat": 4,
 "nbformat_minor": 5
}
