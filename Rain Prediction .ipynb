{
 "cells": [
  {
   "cell_type": "code",
   "execution_count": 31,
   "id": "f03d4740",
   "metadata": {},
   "outputs": [],
   "source": [
    "import numpy as np\n",
    "import pandas as pd\n",
    "import matplotlib\n",
    "import matplotlib.pyplot as plt\n",
    "import seaborn as sns\n",
    "from sklearn.model_selection import train_test_split\n",
    "from sklearn import svm\n",
    "from sklearn.metrics import accuracy_score\n",
    "from sklearn.preprocessing import OrdinalEncoder"
   ]
  },
  {
   "cell_type": "markdown",
   "id": "9d17338f",
   "metadata": {},
   "source": [
    "# Rain Prediction"
   ]
  },
  {
   "cell_type": "code",
   "execution_count": 32,
   "id": "e1d1c4df",
   "metadata": {},
   "outputs": [
    {
     "data": {
      "text/html": [
       "<div>\n",
       "<style scoped>\n",
       "    .dataframe tbody tr th:only-of-type {\n",
       "        vertical-align: middle;\n",
       "    }\n",
       "\n",
       "    .dataframe tbody tr th {\n",
       "        vertical-align: top;\n",
       "    }\n",
       "\n",
       "    .dataframe thead th {\n",
       "        text-align: right;\n",
       "    }\n",
       "</style>\n",
       "<table border=\"1\" class=\"dataframe\">\n",
       "  <thead>\n",
       "    <tr style=\"text-align: right;\">\n",
       "      <th></th>\n",
       "      <th>Date</th>\n",
       "      <th>Location</th>\n",
       "      <th>MinTemp</th>\n",
       "      <th>MaxTemp</th>\n",
       "      <th>Rainfall</th>\n",
       "      <th>Evaporation</th>\n",
       "      <th>Sunshine</th>\n",
       "      <th>WindGustDir</th>\n",
       "      <th>WindGustSpeed</th>\n",
       "      <th>WindDir9am</th>\n",
       "      <th>...</th>\n",
       "      <th>Humidity9am</th>\n",
       "      <th>Humidity3pm</th>\n",
       "      <th>Pressure9am</th>\n",
       "      <th>Pressure3pm</th>\n",
       "      <th>Cloud9am</th>\n",
       "      <th>Cloud3pm</th>\n",
       "      <th>Temp9am</th>\n",
       "      <th>Temp3pm</th>\n",
       "      <th>RainToday</th>\n",
       "      <th>RainTomorrow</th>\n",
       "    </tr>\n",
       "  </thead>\n",
       "  <tbody>\n",
       "    <tr>\n",
       "      <th>0</th>\n",
       "      <td>07-02-2014</td>\n",
       "      <td>CoffsHarbour</td>\n",
       "      <td>17.7</td>\n",
       "      <td>25.9</td>\n",
       "      <td>2.2</td>\n",
       "      <td>1.6</td>\n",
       "      <td>NaN</td>\n",
       "      <td>NNE</td>\n",
       "      <td>31.0</td>\n",
       "      <td>SW</td>\n",
       "      <td>...</td>\n",
       "      <td>76.0</td>\n",
       "      <td>66.0</td>\n",
       "      <td>1017.3</td>\n",
       "      <td>1016.5</td>\n",
       "      <td>7.0</td>\n",
       "      <td>4.0</td>\n",
       "      <td>21.5</td>\n",
       "      <td>24.2</td>\n",
       "      <td>Yes</td>\n",
       "      <td>No</td>\n",
       "    </tr>\n",
       "    <tr>\n",
       "      <th>1</th>\n",
       "      <td>23-04-2009</td>\n",
       "      <td>Portland</td>\n",
       "      <td>6.7</td>\n",
       "      <td>22.0</td>\n",
       "      <td>0.0</td>\n",
       "      <td>5.4</td>\n",
       "      <td>0.4</td>\n",
       "      <td>NNE</td>\n",
       "      <td>44.0</td>\n",
       "      <td>NE</td>\n",
       "      <td>...</td>\n",
       "      <td>65.0</td>\n",
       "      <td>37.0</td>\n",
       "      <td>1014.0</td>\n",
       "      <td>1008.8</td>\n",
       "      <td>7.0</td>\n",
       "      <td>8.0</td>\n",
       "      <td>14.0</td>\n",
       "      <td>21.8</td>\n",
       "      <td>No</td>\n",
       "      <td>Yes</td>\n",
       "    </tr>\n",
       "    <tr>\n",
       "      <th>2</th>\n",
       "      <td>08-11-2015</td>\n",
       "      <td>Watsonia</td>\n",
       "      <td>6.2</td>\n",
       "      <td>25.7</td>\n",
       "      <td>0.0</td>\n",
       "      <td>4.2</td>\n",
       "      <td>10.9</td>\n",
       "      <td>WSW</td>\n",
       "      <td>20.0</td>\n",
       "      <td>SE</td>\n",
       "      <td>...</td>\n",
       "      <td>71.0</td>\n",
       "      <td>28.0</td>\n",
       "      <td>1022.5</td>\n",
       "      <td>1019.4</td>\n",
       "      <td>2.0</td>\n",
       "      <td>7.0</td>\n",
       "      <td>12.8</td>\n",
       "      <td>23.6</td>\n",
       "      <td>No</td>\n",
       "      <td>No</td>\n",
       "    </tr>\n",
       "    <tr>\n",
       "      <th>3</th>\n",
       "      <td>21-11-2012</td>\n",
       "      <td>Wollongong</td>\n",
       "      <td>13.8</td>\n",
       "      <td>22.8</td>\n",
       "      <td>0.0</td>\n",
       "      <td>NaN</td>\n",
       "      <td>NaN</td>\n",
       "      <td>SSW</td>\n",
       "      <td>70.0</td>\n",
       "      <td>N</td>\n",
       "      <td>...</td>\n",
       "      <td>65.0</td>\n",
       "      <td>76.0</td>\n",
       "      <td>1017.0</td>\n",
       "      <td>1010.6</td>\n",
       "      <td>NaN</td>\n",
       "      <td>NaN</td>\n",
       "      <td>18.9</td>\n",
       "      <td>20.6</td>\n",
       "      <td>No</td>\n",
       "      <td>No</td>\n",
       "    </tr>\n",
       "    <tr>\n",
       "      <th>4</th>\n",
       "      <td>30-07-2013</td>\n",
       "      <td>Townsville</td>\n",
       "      <td>13.4</td>\n",
       "      <td>27.2</td>\n",
       "      <td>0.0</td>\n",
       "      <td>6.0</td>\n",
       "      <td>10.2</td>\n",
       "      <td>ENE</td>\n",
       "      <td>30.0</td>\n",
       "      <td>SSW</td>\n",
       "      <td>...</td>\n",
       "      <td>61.0</td>\n",
       "      <td>46.0</td>\n",
       "      <td>1016.8</td>\n",
       "      <td>1011.8</td>\n",
       "      <td>1.0</td>\n",
       "      <td>1.0</td>\n",
       "      <td>21.7</td>\n",
       "      <td>25.6</td>\n",
       "      <td>No</td>\n",
       "      <td>No</td>\n",
       "    </tr>\n",
       "    <tr>\n",
       "      <th>...</th>\n",
       "      <td>...</td>\n",
       "      <td>...</td>\n",
       "      <td>...</td>\n",
       "      <td>...</td>\n",
       "      <td>...</td>\n",
       "      <td>...</td>\n",
       "      <td>...</td>\n",
       "      <td>...</td>\n",
       "      <td>...</td>\n",
       "      <td>...</td>\n",
       "      <td>...</td>\n",
       "      <td>...</td>\n",
       "      <td>...</td>\n",
       "      <td>...</td>\n",
       "      <td>...</td>\n",
       "      <td>...</td>\n",
       "      <td>...</td>\n",
       "      <td>...</td>\n",
       "      <td>...</td>\n",
       "      <td>...</td>\n",
       "      <td>...</td>\n",
       "    </tr>\n",
       "    <tr>\n",
       "      <th>99995</th>\n",
       "      <td>27-01-2013</td>\n",
       "      <td>AliceSprings</td>\n",
       "      <td>17.6</td>\n",
       "      <td>34.4</td>\n",
       "      <td>0.0</td>\n",
       "      <td>15.6</td>\n",
       "      <td>12.9</td>\n",
       "      <td>SE</td>\n",
       "      <td>44.0</td>\n",
       "      <td>SE</td>\n",
       "      <td>...</td>\n",
       "      <td>19.0</td>\n",
       "      <td>11.0</td>\n",
       "      <td>1011.1</td>\n",
       "      <td>1006.4</td>\n",
       "      <td>1.0</td>\n",
       "      <td>1.0</td>\n",
       "      <td>25.6</td>\n",
       "      <td>33.5</td>\n",
       "      <td>No</td>\n",
       "      <td>No</td>\n",
       "    </tr>\n",
       "    <tr>\n",
       "      <th>99996</th>\n",
       "      <td>14-08-2010</td>\n",
       "      <td>Melbourne</td>\n",
       "      <td>10.2</td>\n",
       "      <td>15.9</td>\n",
       "      <td>0.0</td>\n",
       "      <td>3.8</td>\n",
       "      <td>3.8</td>\n",
       "      <td>N</td>\n",
       "      <td>89.0</td>\n",
       "      <td>N</td>\n",
       "      <td>...</td>\n",
       "      <td>55.0</td>\n",
       "      <td>46.0</td>\n",
       "      <td>1007.4</td>\n",
       "      <td>1000.7</td>\n",
       "      <td>7.0</td>\n",
       "      <td>7.0</td>\n",
       "      <td>12.7</td>\n",
       "      <td>15.5</td>\n",
       "      <td>No</td>\n",
       "      <td>No</td>\n",
       "    </tr>\n",
       "    <tr>\n",
       "      <th>99997</th>\n",
       "      <td>26-10-2015</td>\n",
       "      <td>SydneyAirport</td>\n",
       "      <td>17.1</td>\n",
       "      <td>26.4</td>\n",
       "      <td>0.0</td>\n",
       "      <td>7.0</td>\n",
       "      <td>5.2</td>\n",
       "      <td>W</td>\n",
       "      <td>85.0</td>\n",
       "      <td>N</td>\n",
       "      <td>...</td>\n",
       "      <td>50.0</td>\n",
       "      <td>58.0</td>\n",
       "      <td>1014.3</td>\n",
       "      <td>1014.4</td>\n",
       "      <td>3.0</td>\n",
       "      <td>7.0</td>\n",
       "      <td>25.0</td>\n",
       "      <td>21.6</td>\n",
       "      <td>No</td>\n",
       "      <td>Yes</td>\n",
       "    </tr>\n",
       "    <tr>\n",
       "      <th>99998</th>\n",
       "      <td>06-04-2012</td>\n",
       "      <td>Albany</td>\n",
       "      <td>NaN</td>\n",
       "      <td>17.9</td>\n",
       "      <td>0.8</td>\n",
       "      <td>3.8</td>\n",
       "      <td>2.1</td>\n",
       "      <td>NaN</td>\n",
       "      <td>NaN</td>\n",
       "      <td>NaN</td>\n",
       "      <td>...</td>\n",
       "      <td>NaN</td>\n",
       "      <td>NaN</td>\n",
       "      <td>1029.5</td>\n",
       "      <td>1027.8</td>\n",
       "      <td>NaN</td>\n",
       "      <td>NaN</td>\n",
       "      <td>NaN</td>\n",
       "      <td>NaN</td>\n",
       "      <td>No</td>\n",
       "      <td>No</td>\n",
       "    </tr>\n",
       "    <tr>\n",
       "      <th>99999</th>\n",
       "      <td>21-03-2017</td>\n",
       "      <td>Perth</td>\n",
       "      <td>17.5</td>\n",
       "      <td>21.4</td>\n",
       "      <td>0.0</td>\n",
       "      <td>8.0</td>\n",
       "      <td>1.2</td>\n",
       "      <td>E</td>\n",
       "      <td>39.0</td>\n",
       "      <td>ENE</td>\n",
       "      <td>...</td>\n",
       "      <td>53.0</td>\n",
       "      <td>78.0</td>\n",
       "      <td>1009.9</td>\n",
       "      <td>1005.7</td>\n",
       "      <td>7.0</td>\n",
       "      <td>7.0</td>\n",
       "      <td>19.4</td>\n",
       "      <td>18.3</td>\n",
       "      <td>No</td>\n",
       "      <td>Yes</td>\n",
       "    </tr>\n",
       "  </tbody>\n",
       "</table>\n",
       "<p>100000 rows × 23 columns</p>\n",
       "</div>"
      ],
      "text/plain": [
       "             Date       Location  MinTemp  MaxTemp  Rainfall  Evaporation  \\\n",
       "0      07-02-2014   CoffsHarbour     17.7     25.9       2.2          1.6   \n",
       "1      23-04-2009       Portland      6.7     22.0       0.0          5.4   \n",
       "2      08-11-2015       Watsonia      6.2     25.7       0.0          4.2   \n",
       "3      21-11-2012     Wollongong     13.8     22.8       0.0          NaN   \n",
       "4      30-07-2013     Townsville     13.4     27.2       0.0          6.0   \n",
       "...           ...            ...      ...      ...       ...          ...   \n",
       "99995  27-01-2013   AliceSprings     17.6     34.4       0.0         15.6   \n",
       "99996  14-08-2010      Melbourne     10.2     15.9       0.0          3.8   \n",
       "99997  26-10-2015  SydneyAirport     17.1     26.4       0.0          7.0   \n",
       "99998  06-04-2012         Albany      NaN     17.9       0.8          3.8   \n",
       "99999  21-03-2017          Perth     17.5     21.4       0.0          8.0   \n",
       "\n",
       "       Sunshine WindGustDir  WindGustSpeed WindDir9am  ... Humidity9am  \\\n",
       "0           NaN         NNE           31.0         SW  ...        76.0   \n",
       "1           0.4         NNE           44.0         NE  ...        65.0   \n",
       "2          10.9         WSW           20.0         SE  ...        71.0   \n",
       "3           NaN         SSW           70.0          N  ...        65.0   \n",
       "4          10.2         ENE           30.0        SSW  ...        61.0   \n",
       "...         ...         ...            ...        ...  ...         ...   \n",
       "99995      12.9          SE           44.0         SE  ...        19.0   \n",
       "99996       3.8           N           89.0          N  ...        55.0   \n",
       "99997       5.2           W           85.0          N  ...        50.0   \n",
       "99998       2.1         NaN            NaN        NaN  ...         NaN   \n",
       "99999       1.2           E           39.0        ENE  ...        53.0   \n",
       "\n",
       "       Humidity3pm  Pressure9am  Pressure3pm  Cloud9am  Cloud3pm  Temp9am  \\\n",
       "0             66.0       1017.3       1016.5       7.0       4.0     21.5   \n",
       "1             37.0       1014.0       1008.8       7.0       8.0     14.0   \n",
       "2             28.0       1022.5       1019.4       2.0       7.0     12.8   \n",
       "3             76.0       1017.0       1010.6       NaN       NaN     18.9   \n",
       "4             46.0       1016.8       1011.8       1.0       1.0     21.7   \n",
       "...            ...          ...          ...       ...       ...      ...   \n",
       "99995         11.0       1011.1       1006.4       1.0       1.0     25.6   \n",
       "99996         46.0       1007.4       1000.7       7.0       7.0     12.7   \n",
       "99997         58.0       1014.3       1014.4       3.0       7.0     25.0   \n",
       "99998          NaN       1029.5       1027.8       NaN       NaN      NaN   \n",
       "99999         78.0       1009.9       1005.7       7.0       7.0     19.4   \n",
       "\n",
       "       Temp3pm  RainToday  RainTomorrow  \n",
       "0         24.2        Yes            No  \n",
       "1         21.8         No           Yes  \n",
       "2         23.6         No            No  \n",
       "3         20.6         No            No  \n",
       "4         25.6         No            No  \n",
       "...        ...        ...           ...  \n",
       "99995     33.5         No            No  \n",
       "99996     15.5         No            No  \n",
       "99997     21.6         No           Yes  \n",
       "99998      NaN         No            No  \n",
       "99999     18.3         No           Yes  \n",
       "\n",
       "[100000 rows x 23 columns]"
      ]
     },
     "execution_count": 32,
     "metadata": {},
     "output_type": "execute_result"
    }
   ],
   "source": [
    "df = pd.read_csv('Rain Prediction Train.csv')\n",
    "df"
   ]
  },
  {
   "cell_type": "code",
   "execution_count": 33,
   "id": "8aef64c1",
   "metadata": {},
   "outputs": [
    {
     "data": {
      "text/plain": [
       "Date                 0\n",
       "Location             0\n",
       "MinTemp            436\n",
       "MaxTemp            216\n",
       "Rainfall           970\n",
       "Evaporation      42633\n",
       "Sunshine         47482\n",
       "WindGustDir       6581\n",
       "WindGustSpeed     6540\n",
       "WindDir9am        7062\n",
       "WindDir3pm        2691\n",
       "WindSpeed9am       938\n",
       "WindSpeed3pm      1854\n",
       "Humidity9am       1238\n",
       "Humidity3pm       2544\n",
       "Pressure9am       9837\n",
       "Pressure3pm       9812\n",
       "Cloud9am         37628\n",
       "Cloud3pm         40011\n",
       "Temp9am            620\n",
       "Temp3pm           1910\n",
       "RainToday          970\n",
       "RainTomorrow         0\n",
       "dtype: int64"
      ]
     },
     "execution_count": 33,
     "metadata": {},
     "output_type": "execute_result"
    }
   ],
   "source": [
    "df.isnull().sum()"
   ]
  },
  {
   "cell_type": "code",
   "execution_count": 50,
   "id": "3858d94c",
   "metadata": {},
   "outputs": [
    {
     "name": "stdout",
     "output_type": "stream",
     "text": [
      "<class 'pandas.core.frame.DataFrame'>\n",
      "RangeIndex: 100000 entries, 0 to 99999\n",
      "Data columns (total 23 columns):\n",
      " #   Column         Non-Null Count   Dtype  \n",
      "---  ------         --------------   -----  \n",
      " 0   Date           100000 non-null  object \n",
      " 1   Location       100000 non-null  object \n",
      " 2   MinTemp        100000 non-null  float64\n",
      " 3   MaxTemp        100000 non-null  float64\n",
      " 4   Rainfall       100000 non-null  float64\n",
      " 5   Evaporation    100000 non-null  float64\n",
      " 6   Sunshine       100000 non-null  float64\n",
      " 7   WindGustDir    100000 non-null  object \n",
      " 8   WindGustSpeed  100000 non-null  float64\n",
      " 9   WindDir9am     100000 non-null  object \n",
      " 10  WindDir3pm     100000 non-null  object \n",
      " 11  WindSpeed9am   100000 non-null  float64\n",
      " 12  WindSpeed3pm   100000 non-null  float64\n",
      " 13  Humidity9am    100000 non-null  float64\n",
      " 14  Humidity3pm    100000 non-null  float64\n",
      " 15  Pressure9am    100000 non-null  float64\n",
      " 16  Pressure3pm    100000 non-null  float64\n",
      " 17  Cloud9am       100000 non-null  float64\n",
      " 18  Cloud3pm       100000 non-null  float64\n",
      " 19  Temp9am        100000 non-null  float64\n",
      " 20  Temp3pm        100000 non-null  float64\n",
      " 21  RainToday      100000 non-null  object \n",
      " 22  RainTomorrow   100000 non-null  object \n",
      "dtypes: float64(16), object(7)\n",
      "memory usage: 17.5+ MB\n"
     ]
    }
   ],
   "source": [
    "df.info()"
   ]
  },
  {
   "cell_type": "markdown",
   "id": "658498ed",
   "metadata": {},
   "source": [
    "# Cleaning Data"
   ]
  },
  {
   "cell_type": "markdown",
   "id": "d55fb0e7",
   "metadata": {},
   "source": [
    "**Replace Data yang Kosong dengan Rata-rata**"
   ]
  },
  {
   "cell_type": "markdown",
   "id": "9b03308d",
   "metadata": {},
   "source": [
    "- Replace Number Value by Mean"
   ]
  },
  {
   "cell_type": "code",
   "execution_count": 35,
   "id": "8fc73226",
   "metadata": {},
   "outputs": [],
   "source": [
    "df['MinTemp'] = df['MinTemp'].fillna(df['MinTemp'].mean())\n",
    "df['MaxTemp'] = df['MaxTemp'].fillna(df['MaxTemp'].mean())\n",
    "df['Rainfall'] = df['Rainfall'].fillna(df['Rainfall'].mean())\n",
    "df['Evaporation'] = df['Evaporation'].fillna(df['Evaporation'].mean())\n",
    "df['Sunshine'] = df['Sunshine'].fillna(df['Sunshine'].mean())\n",
    "df['WindGustSpeed'] = df['WindGustSpeed'].fillna(df['WindGustSpeed'].mean())\n",
    "df['WindSpeed9am'] = df['WindSpeed9am'].fillna(df['WindSpeed9am'].mean())\n",
    "df['WindSpeed3pm'] = df['WindSpeed3pm'].fillna(df['WindSpeed3pm'].mean())\n",
    "df['Humidity9am'] = df['Humidity9am'].fillna(df['Humidity9am'].mean())\n",
    "df['Humidity3pm'] = df['Humidity3pm'].fillna(df['Humidity3pm'].mean())\n",
    "df['Pressure9am'] = df['Pressure9am'].fillna(df['Pressure9am'].mean())\n",
    "df['Pressure3pm'] = df['Pressure3pm'].fillna(df['Pressure3pm'].mean())\n",
    "df['Cloud9am'] = df['Cloud9am'].fillna(df['Cloud9am'].mean())\n",
    "df['Cloud3pm'] = df['Cloud3pm'].fillna(df['Cloud3pm'].mean())\n",
    "df['Temp9am'] = df['Temp9am'].fillna(df['Temp9am'].mean())\n",
    "df['Temp3pm'] = df['Temp3pm'].fillna(df['Temp3pm'].mean())"
   ]
  },
  {
   "cell_type": "code",
   "execution_count": 36,
   "id": "d7be2320",
   "metadata": {},
   "outputs": [
    {
     "data": {
      "text/plain": [
       "Date                0\n",
       "Location            0\n",
       "MinTemp             0\n",
       "MaxTemp             0\n",
       "Rainfall            0\n",
       "Evaporation         0\n",
       "Sunshine            0\n",
       "WindGustDir      6581\n",
       "WindGustSpeed       0\n",
       "WindDir9am       7062\n",
       "WindDir3pm       2691\n",
       "WindSpeed9am        0\n",
       "WindSpeed3pm        0\n",
       "Humidity9am         0\n",
       "Humidity3pm         0\n",
       "Pressure9am         0\n",
       "Pressure3pm         0\n",
       "Cloud9am            0\n",
       "Cloud3pm            0\n",
       "Temp9am             0\n",
       "Temp3pm             0\n",
       "RainToday         970\n",
       "RainTomorrow        0\n",
       "dtype: int64"
      ]
     },
     "execution_count": 36,
     "metadata": {},
     "output_type": "execute_result"
    }
   ],
   "source": [
    "df.isnull().sum()"
   ]
  },
  {
   "cell_type": "markdown",
   "id": "3f875171",
   "metadata": {},
   "source": [
    "- Replace Text by Most Text"
   ]
  },
  {
   "cell_type": "code",
   "execution_count": 37,
   "id": "9023a2d8",
   "metadata": {},
   "outputs": [
    {
     "data": {
      "text/plain": [
       "W      6857\n",
       "SE     6508\n",
       "E      6405\n",
       "SSE    6320\n",
       "WSW    6268\n",
       "N      6240\n",
       "S      6231\n",
       "SW     6193\n",
       "SSW    6088\n",
       "ENE    5689\n",
       "WNW    5667\n",
       "NW     5665\n",
       "ESE    5156\n",
       "NE     4973\n",
       "NNW    4639\n",
       "NNE    4520\n",
       "Name: WindGustDir, dtype: int64"
      ]
     },
     "execution_count": 37,
     "metadata": {},
     "output_type": "execute_result"
    }
   ],
   "source": [
    "df['WindGustDir'].value_counts()"
   ]
  },
  {
   "cell_type": "code",
   "execution_count": 38,
   "id": "f52c2542",
   "metadata": {},
   "outputs": [],
   "source": [
    "df['WindGustDir'].fillna('W', inplace = True)"
   ]
  },
  {
   "cell_type": "code",
   "execution_count": 39,
   "id": "3a71b074",
   "metadata": {},
   "outputs": [
    {
     "data": {
      "text/plain": [
       "N      7996\n",
       "SE     6421\n",
       "E      6364\n",
       "SSE    6317\n",
       "NW     6069\n",
       "S      5985\n",
       "SW     5773\n",
       "W      5743\n",
       "NNE    5551\n",
       "NNW    5502\n",
       "ENE    5406\n",
       "ESE    5372\n",
       "NE     5296\n",
       "SSW    5272\n",
       "WNW    5058\n",
       "WSW    4813\n",
       "Name: WindDir9am, dtype: int64"
      ]
     },
     "execution_count": 39,
     "metadata": {},
     "output_type": "execute_result"
    }
   ],
   "source": [
    "df['WindDir9am'].value_counts()"
   ]
  },
  {
   "cell_type": "code",
   "execution_count": 40,
   "id": "5ba45c16",
   "metadata": {},
   "outputs": [],
   "source": [
    "df['WindDir9am'].fillna('N', inplace = True)"
   ]
  },
  {
   "cell_type": "code",
   "execution_count": 41,
   "id": "197c28a8",
   "metadata": {},
   "outputs": [
    {
     "data": {
      "text/plain": [
       "SE     7568\n",
       "W      6932\n",
       "S      6707\n",
       "WSW    6595\n",
       "SW     6446\n",
       "SSE    6430\n",
       "N      6069\n",
       "WNW    6061\n",
       "NW     5997\n",
       "ESE    5868\n",
       "E      5777\n",
       "NE     5742\n",
       "SSW    5727\n",
       "ENE    5444\n",
       "NNW    5399\n",
       "NNE    4547\n",
       "Name: WindDir3pm, dtype: int64"
      ]
     },
     "execution_count": 41,
     "metadata": {},
     "output_type": "execute_result"
    }
   ],
   "source": [
    "df['WindDir3pm'].value_counts()"
   ]
  },
  {
   "cell_type": "code",
   "execution_count": 42,
   "id": "e51e3f1a",
   "metadata": {},
   "outputs": [],
   "source": [
    "df['WindDir3pm'].fillna('SE', inplace = True)"
   ]
  },
  {
   "cell_type": "code",
   "execution_count": 43,
   "id": "cdb9c15c",
   "metadata": {},
   "outputs": [
    {
     "data": {
      "text/plain": [
       "No     76973\n",
       "Yes    22057\n",
       "Name: RainToday, dtype: int64"
      ]
     },
     "execution_count": 43,
     "metadata": {},
     "output_type": "execute_result"
    }
   ],
   "source": [
    "df['RainToday'].value_counts()"
   ]
  },
  {
   "cell_type": "code",
   "execution_count": 44,
   "id": "b6feb392",
   "metadata": {},
   "outputs": [],
   "source": [
    "df['RainToday'].fillna('No', inplace = True)"
   ]
  },
  {
   "cell_type": "code",
   "execution_count": 45,
   "id": "e0f3cae1",
   "metadata": {},
   "outputs": [
    {
     "data": {
      "text/plain": [
       "Date             0\n",
       "Location         0\n",
       "MinTemp          0\n",
       "MaxTemp          0\n",
       "Rainfall         0\n",
       "Evaporation      0\n",
       "Sunshine         0\n",
       "WindGustDir      0\n",
       "WindGustSpeed    0\n",
       "WindDir9am       0\n",
       "WindDir3pm       0\n",
       "WindSpeed9am     0\n",
       "WindSpeed3pm     0\n",
       "Humidity9am      0\n",
       "Humidity3pm      0\n",
       "Pressure9am      0\n",
       "Pressure3pm      0\n",
       "Cloud9am         0\n",
       "Cloud3pm         0\n",
       "Temp9am          0\n",
       "Temp3pm          0\n",
       "RainToday        0\n",
       "RainTomorrow     0\n",
       "dtype: int64"
      ]
     },
     "execution_count": 45,
     "metadata": {},
     "output_type": "execute_result"
    }
   ],
   "source": [
    "df.isnull().sum()"
   ]
  },
  {
   "cell_type": "code",
   "execution_count": 46,
   "id": "33c8456b",
   "metadata": {},
   "outputs": [
    {
     "data": {
      "text/plain": [
       "(100000, 23)"
      ]
     },
     "execution_count": 46,
     "metadata": {},
     "output_type": "execute_result"
    }
   ],
   "source": [
    "df.shape"
   ]
  },
  {
   "cell_type": "markdown",
   "id": "5fff7caa",
   "metadata": {},
   "source": [
    "# Analysis Data"
   ]
  },
  {
   "cell_type": "markdown",
   "id": "410ced98",
   "metadata": {},
   "source": [
    "# 1. Label Encoding"
   ]
  },
  {
   "cell_type": "code",
   "execution_count": 62,
   "id": "7687b2e6",
   "metadata": {},
   "outputs": [
    {
     "name": "stdout",
     "output_type": "stream",
     "text": [
      "<class 'pandas.core.frame.DataFrame'>\n",
      "RangeIndex: 100000 entries, 0 to 99999\n",
      "Data columns (total 23 columns):\n",
      " #   Column         Non-Null Count   Dtype  \n",
      "---  ------         --------------   -----  \n",
      " 0   Date           100000 non-null  object \n",
      " 1   Location       100000 non-null  object \n",
      " 2   MinTemp        100000 non-null  float64\n",
      " 3   MaxTemp        100000 non-null  float64\n",
      " 4   Rainfall       100000 non-null  float64\n",
      " 5   Evaporation    100000 non-null  float64\n",
      " 6   Sunshine       100000 non-null  float64\n",
      " 7   WindGustDir    100000 non-null  object \n",
      " 8   WindGustSpeed  100000 non-null  float64\n",
      " 9   WindDir9am     100000 non-null  object \n",
      " 10  WindDir3pm     100000 non-null  object \n",
      " 11  WindSpeed9am   100000 non-null  float64\n",
      " 12  WindSpeed3pm   100000 non-null  float64\n",
      " 13  Humidity9am    100000 non-null  float64\n",
      " 14  Humidity3pm    100000 non-null  float64\n",
      " 15  Pressure9am    100000 non-null  float64\n",
      " 16  Pressure3pm    100000 non-null  float64\n",
      " 17  Cloud9am       100000 non-null  float64\n",
      " 18  Cloud3pm       100000 non-null  float64\n",
      " 19  Temp9am        100000 non-null  float64\n",
      " 20  Temp3pm        100000 non-null  float64\n",
      " 21  RainToday      100000 non-null  object \n",
      " 22  RainTomorrow   100000 non-null  object \n",
      "dtypes: float64(16), object(7)\n",
      "memory usage: 17.5+ MB\n"
     ]
    }
   ],
   "source": [
    "df.info()"
   ]
  },
  {
   "cell_type": "code",
   "execution_count": 63,
   "id": "68e9d745",
   "metadata": {},
   "outputs": [
    {
     "data": {
      "text/plain": [
       "array(['CoffsHarbour', 'Portland', 'Watsonia', 'Wollongong', 'Townsville',\n",
       "       'Albany', 'Sale', 'Moree', 'Penrith', 'Dartmoor', 'Newcastle',\n",
       "       'Ballarat', 'Bendigo', 'Woomera', 'Mildura', 'WaggaWagga',\n",
       "       'Nuriootpa', 'MelbourneAirport', 'Walpole', 'Katherine',\n",
       "       'Tuggeranong', 'MountGambier', 'Launceston', 'MountGinini',\n",
       "       'Sydney', 'SalmonGums', 'GoldCoast', 'Witchcliffe', 'Darwin',\n",
       "       'Nhil', 'BadgerysCreek', 'AliceSprings', 'Albury', 'PearceRAAF',\n",
       "       'Canberra', 'Brisbane', 'Richmond', 'Hobart', 'Cobar',\n",
       "       'SydneyAirport', 'Cairns', 'Adelaide', 'Melbourne', 'NorahHead',\n",
       "       'Perth', 'NorfolkIsland', 'Williamtown', 'Uluru', 'PerthAirport'],\n",
       "      dtype=object)"
      ]
     },
     "execution_count": 63,
     "metadata": {},
     "output_type": "execute_result"
    }
   ],
   "source": [
    "df['Location'].unique()"
   ]
  },
  {
   "cell_type": "code",
   "execution_count": 64,
   "id": "ac57382f",
   "metadata": {},
   "outputs": [],
   "source": [
    "loc_rain = ['CoffsHarbour', 'Portland', 'Watsonia', 'Wollongong', 'Townsville',\n",
    "       'Albany', 'Sale', 'Moree', 'Penrith', 'Dartmoor', 'Newcastle',\n",
    "       'Ballarat', 'Bendigo', 'Woomera', 'Mildura', 'WaggaWagga',\n",
    "       'Nuriootpa', 'MelbourneAirport', 'Walpole', 'Katherine',\n",
    "       'Tuggeranong', 'MountGambier', 'Launceston', 'MountGinini',\n",
    "       'Sydney', 'SalmonGums', 'GoldCoast', 'Witchcliffe', 'Darwin',\n",
    "       'Nhil', 'BadgerysCreek', 'AliceSprings', 'Albury', 'PearceRAAF',\n",
    "       'Canberra', 'Brisbane', 'Richmond', 'Hobart', 'Cobar',\n",
    "       'SydneyAirport', 'Cairns', 'Adelaide', 'Melbourne', 'NorahHead',\n",
    "       'Perth', 'NorfolkIsland', 'Williamtown', 'Uluru', 'PerthAirport']"
   ]
  },
  {
   "cell_type": "code",
   "execution_count": 65,
   "id": "e6e45d21",
   "metadata": {},
   "outputs": [],
   "source": [
    "enc = OrdinalEncoder(categories=[loc_rain])"
   ]
  },
  {
   "cell_type": "code",
   "execution_count": 66,
   "id": "1ee1b16d",
   "metadata": {},
   "outputs": [],
   "source": [
    "df[['Location']] = enc.fit_transform(df[['Location']])"
   ]
  },
  {
   "cell_type": "code",
   "execution_count": 67,
   "id": "7138851f",
   "metadata": {},
   "outputs": [
    {
     "data": {
      "text/plain": [
       "array([ 0.,  1.,  2.,  3.,  4.,  5.,  6.,  7.,  8.,  9., 10., 11., 12.,\n",
       "       13., 14., 15., 16., 17., 18., 19., 20., 21., 22., 23., 24., 25.,\n",
       "       26., 27., 28., 29., 30., 31., 32., 33., 34., 35., 36., 37., 38.,\n",
       "       39., 40., 41., 42., 43., 44., 45., 46., 47., 48.])"
      ]
     },
     "execution_count": 67,
     "metadata": {},
     "output_type": "execute_result"
    }
   ],
   "source": [
    "df['Location'].unique()"
   ]
  },
  {
   "cell_type": "code",
   "execution_count": 68,
   "id": "23bacabc",
   "metadata": {},
   "outputs": [
    {
     "data": {
      "text/plain": [
       "array(['NNE', 'WSW', 'SSW', 'ENE', 'W', 'E', 'SW', 'WNW', 'N', 'SSE', 'S',\n",
       "       'SE', 'NNW', 'NW', 'NE', 'ESE'], dtype=object)"
      ]
     },
     "execution_count": 68,
     "metadata": {},
     "output_type": "execute_result"
    }
   ],
   "source": [
    "df['WindGustDir'].unique()"
   ]
  },
  {
   "cell_type": "code",
   "execution_count": 69,
   "id": "cc827807",
   "metadata": {},
   "outputs": [],
   "source": [
    "Wind_Gust = ['NNE', 'WSW', 'SSW', 'ENE', 'W', 'E', 'SW', 'WNW', 'N', 'SSE', 'S',\n",
    "       'SE', 'NNW', 'NW', 'NE', 'ESE']"
   ]
  },
  {
   "cell_type": "code",
   "execution_count": 70,
   "id": "742b6d76",
   "metadata": {},
   "outputs": [],
   "source": [
    "enc = OrdinalEncoder(categories=[Wind_Gust])"
   ]
  },
  {
   "cell_type": "code",
   "execution_count": 71,
   "id": "1de39a08",
   "metadata": {},
   "outputs": [],
   "source": [
    "df[['WindGustDir']] = enc.fit_transform(df[['WindGustDir']])"
   ]
  },
  {
   "cell_type": "code",
   "execution_count": 72,
   "id": "701c07bc",
   "metadata": {},
   "outputs": [
    {
     "data": {
      "text/plain": [
       "array([ 0.,  1.,  2.,  3.,  4.,  5.,  6.,  7.,  8.,  9., 10., 11., 12.,\n",
       "       13., 14., 15.])"
      ]
     },
     "execution_count": 72,
     "metadata": {},
     "output_type": "execute_result"
    }
   ],
   "source": [
    "df['WindGustDir'].unique()"
   ]
  },
  {
   "cell_type": "code",
   "execution_count": 84,
   "id": "cbe2b114",
   "metadata": {},
   "outputs": [
    {
     "data": {
      "text/plain": [
       "array(['SW', 'NE', 'SE', 'N', 'SSW', 'S', 'W', 'NNE', 'SSE', 'ENE', 'NNW',\n",
       "       'NW', 'ESE', 'WNW', 'E', 'WSW'], dtype=object)"
      ]
     },
     "execution_count": 84,
     "metadata": {},
     "output_type": "execute_result"
    }
   ],
   "source": [
    "df['WindDir9am'].unique()"
   ]
  },
  {
   "cell_type": "code",
   "execution_count": 85,
   "id": "af6c94f7",
   "metadata": {},
   "outputs": [],
   "source": [
    "Wind_9am = ['NNE', 'WSW', 'SSW', 'ENE', 'W', 'E', 'SW', 'WNW', 'N', 'SSE', 'S',\n",
    "       'SE', 'NNW', 'NW', 'NE', 'ESE']"
   ]
  },
  {
   "cell_type": "code",
   "execution_count": 86,
   "id": "ebb1ac82",
   "metadata": {},
   "outputs": [],
   "source": [
    "enc = OrdinalEncoder(categories=[Wind_9am])"
   ]
  },
  {
   "cell_type": "code",
   "execution_count": 87,
   "id": "ef73a002",
   "metadata": {},
   "outputs": [],
   "source": [
    "df[['WindDir9am']] = enc.fit_transform(df[['WindDir9am']])"
   ]
  },
  {
   "cell_type": "code",
   "execution_count": 88,
   "id": "c8d2797b",
   "metadata": {},
   "outputs": [
    {
     "data": {
      "text/plain": [
       "array([ 6., 14., 11.,  8.,  2., 10.,  4.,  0.,  9.,  3., 12., 13., 15.,\n",
       "        7.,  5.,  1.])"
      ]
     },
     "execution_count": 88,
     "metadata": {},
     "output_type": "execute_result"
    }
   ],
   "source": [
    "df['WindDir9am'].unique()"
   ]
  },
  {
   "cell_type": "code",
   "execution_count": 89,
   "id": "9c118819",
   "metadata": {},
   "outputs": [
    {
     "data": {
      "text/plain": [
       "array(['ESE', 'NNE', 'E', 'NE', 'NNW', 'SE', 'NW', 'S', 'SSW', 'W', 'N',\n",
       "       'SSE', 'SW', 'WNW', 'WSW', 'ENE'], dtype=object)"
      ]
     },
     "execution_count": 89,
     "metadata": {},
     "output_type": "execute_result"
    }
   ],
   "source": [
    "df['WindDir3pm'].unique()"
   ]
  },
  {
   "cell_type": "code",
   "execution_count": 90,
   "id": "fece3644",
   "metadata": {},
   "outputs": [],
   "source": [
    "Wind_3pm = ['NNE', 'WSW', 'SSW', 'ENE', 'W', 'E', 'SW', 'WNW', 'N', 'SSE', 'S',\n",
    "       'SE', 'NNW', 'NW', 'NE', 'ESE']"
   ]
  },
  {
   "cell_type": "code",
   "execution_count": 91,
   "id": "84a22190",
   "metadata": {},
   "outputs": [],
   "source": [
    "enc = OrdinalEncoder(categories=[Wind_3pm])"
   ]
  },
  {
   "cell_type": "code",
   "execution_count": 92,
   "id": "525a94ed",
   "metadata": {},
   "outputs": [],
   "source": [
    "df[['WindDir3pm']] = enc.fit_transform(df[['WindDir3pm']])"
   ]
  },
  {
   "cell_type": "code",
   "execution_count": 93,
   "id": "c17bff05",
   "metadata": {},
   "outputs": [
    {
     "data": {
      "text/plain": [
       "array([15.,  0.,  5., 14., 12., 11., 13., 10.,  2.,  4.,  8.,  9.,  6.,\n",
       "        7.,  1.,  3.])"
      ]
     },
     "execution_count": 93,
     "metadata": {},
     "output_type": "execute_result"
    }
   ],
   "source": [
    "df['WindDir3pm'].unique()"
   ]
  },
  {
   "cell_type": "code",
   "execution_count": 94,
   "id": "772769a3",
   "metadata": {},
   "outputs": [
    {
     "data": {
      "text/plain": [
       "array(['Yes', 'No'], dtype=object)"
      ]
     },
     "execution_count": 94,
     "metadata": {},
     "output_type": "execute_result"
    }
   ],
   "source": [
    "df['RainToday'].unique()"
   ]
  },
  {
   "cell_type": "code",
   "execution_count": 95,
   "id": "db3908e3",
   "metadata": {},
   "outputs": [],
   "source": [
    "RainT = ['Yes', 'No']"
   ]
  },
  {
   "cell_type": "code",
   "execution_count": 96,
   "id": "fc5eb5a6",
   "metadata": {},
   "outputs": [],
   "source": [
    "enc = OrdinalEncoder(categories=[RainT])"
   ]
  },
  {
   "cell_type": "code",
   "execution_count": 97,
   "id": "552a8908",
   "metadata": {},
   "outputs": [],
   "source": [
    "df[['RainToday']] = enc.fit_transform(df[['RainToday']])"
   ]
  },
  {
   "cell_type": "code",
   "execution_count": 98,
   "id": "41d9d21f",
   "metadata": {},
   "outputs": [
    {
     "data": {
      "text/plain": [
       "array([0., 1.])"
      ]
     },
     "execution_count": 98,
     "metadata": {},
     "output_type": "execute_result"
    }
   ],
   "source": [
    "df['RainToday'].unique()"
   ]
  },
  {
   "cell_type": "code",
   "execution_count": 99,
   "id": "700b5a4d",
   "metadata": {},
   "outputs": [
    {
     "data": {
      "text/plain": [
       "array(['No', 'Yes'], dtype=object)"
      ]
     },
     "execution_count": 99,
     "metadata": {},
     "output_type": "execute_result"
    }
   ],
   "source": [
    "df['RainTomorrow'].unique()"
   ]
  },
  {
   "cell_type": "code",
   "execution_count": 100,
   "id": "44c23188",
   "metadata": {},
   "outputs": [],
   "source": [
    "df[['RainTomorrow']] = enc.fit_transform(df[['RainTomorrow']])"
   ]
  },
  {
   "cell_type": "code",
   "execution_count": 101,
   "id": "348fc6c7",
   "metadata": {},
   "outputs": [
    {
     "data": {
      "text/plain": [
       "array([1., 0.])"
      ]
     },
     "execution_count": 101,
     "metadata": {},
     "output_type": "execute_result"
    }
   ],
   "source": [
    "df['RainTomorrow'].unique()"
   ]
  },
  {
   "cell_type": "markdown",
   "id": "5d122c79",
   "metadata": {},
   "source": [
    "# 2. Correlation and Outlier"
   ]
  },
  {
   "cell_type": "code",
   "execution_count": 102,
   "id": "e25a7470",
   "metadata": {},
   "outputs": [
    {
     "name": "stdout",
     "output_type": "stream",
     "text": [
      "<class 'pandas.core.frame.DataFrame'>\n",
      "RangeIndex: 100000 entries, 0 to 99999\n",
      "Data columns (total 23 columns):\n",
      " #   Column         Non-Null Count   Dtype  \n",
      "---  ------         --------------   -----  \n",
      " 0   Date           100000 non-null  object \n",
      " 1   Location       100000 non-null  float64\n",
      " 2   MinTemp        100000 non-null  float64\n",
      " 3   MaxTemp        100000 non-null  float64\n",
      " 4   Rainfall       100000 non-null  float64\n",
      " 5   Evaporation    100000 non-null  float64\n",
      " 6   Sunshine       100000 non-null  float64\n",
      " 7   WindGustDir    100000 non-null  float64\n",
      " 8   WindGustSpeed  100000 non-null  float64\n",
      " 9   WindDir9am     100000 non-null  float64\n",
      " 10  WindDir3pm     100000 non-null  float64\n",
      " 11  WindSpeed9am   100000 non-null  float64\n",
      " 12  WindSpeed3pm   100000 non-null  float64\n",
      " 13  Humidity9am    100000 non-null  float64\n",
      " 14  Humidity3pm    100000 non-null  float64\n",
      " 15  Pressure9am    100000 non-null  float64\n",
      " 16  Pressure3pm    100000 non-null  float64\n",
      " 17  Cloud9am       100000 non-null  float64\n",
      " 18  Cloud3pm       100000 non-null  float64\n",
      " 19  Temp9am        100000 non-null  float64\n",
      " 20  Temp3pm        100000 non-null  float64\n",
      " 21  RainToday      100000 non-null  float64\n",
      " 22  RainTomorrow   100000 non-null  float64\n",
      "dtypes: float64(22), object(1)\n",
      "memory usage: 17.5+ MB\n"
     ]
    }
   ],
   "source": [
    "df.info()"
   ]
  },
  {
   "cell_type": "code",
   "execution_count": 103,
   "id": "152c1d0a",
   "metadata": {},
   "outputs": [
    {
     "data": {
      "text/html": [
       "<div>\n",
       "<style scoped>\n",
       "    .dataframe tbody tr th:only-of-type {\n",
       "        vertical-align: middle;\n",
       "    }\n",
       "\n",
       "    .dataframe tbody tr th {\n",
       "        vertical-align: top;\n",
       "    }\n",
       "\n",
       "    .dataframe thead th {\n",
       "        text-align: right;\n",
       "    }\n",
       "</style>\n",
       "<table border=\"1\" class=\"dataframe\">\n",
       "  <thead>\n",
       "    <tr style=\"text-align: right;\">\n",
       "      <th></th>\n",
       "      <th>Date</th>\n",
       "      <th>Location</th>\n",
       "      <th>MinTemp</th>\n",
       "      <th>MaxTemp</th>\n",
       "      <th>Rainfall</th>\n",
       "      <th>Evaporation</th>\n",
       "      <th>Sunshine</th>\n",
       "      <th>WindGustDir</th>\n",
       "      <th>WindGustSpeed</th>\n",
       "      <th>WindDir9am</th>\n",
       "      <th>...</th>\n",
       "      <th>Humidity9am</th>\n",
       "      <th>Humidity3pm</th>\n",
       "      <th>Pressure9am</th>\n",
       "      <th>Pressure3pm</th>\n",
       "      <th>Cloud9am</th>\n",
       "      <th>Cloud3pm</th>\n",
       "      <th>Temp9am</th>\n",
       "      <th>Temp3pm</th>\n",
       "      <th>RainToday</th>\n",
       "      <th>RainTomorrow</th>\n",
       "    </tr>\n",
       "  </thead>\n",
       "  <tbody>\n",
       "    <tr>\n",
       "      <th>0</th>\n",
       "      <td>07-02-2014</td>\n",
       "      <td>0.0</td>\n",
       "      <td>17.700000</td>\n",
       "      <td>25.9</td>\n",
       "      <td>2.2</td>\n",
       "      <td>1.600000</td>\n",
       "      <td>7.627004</td>\n",
       "      <td>0.0</td>\n",
       "      <td>31.000000</td>\n",
       "      <td>6.0</td>\n",
       "      <td>...</td>\n",
       "      <td>76.000000</td>\n",
       "      <td>66.000000</td>\n",
       "      <td>1017.3</td>\n",
       "      <td>1016.5</td>\n",
       "      <td>7.000000</td>\n",
       "      <td>4.000000</td>\n",
       "      <td>21.500000</td>\n",
       "      <td>24.200000</td>\n",
       "      <td>0.0</td>\n",
       "      <td>1.0</td>\n",
       "    </tr>\n",
       "    <tr>\n",
       "      <th>1</th>\n",
       "      <td>23-04-2009</td>\n",
       "      <td>1.0</td>\n",
       "      <td>6.700000</td>\n",
       "      <td>22.0</td>\n",
       "      <td>0.0</td>\n",
       "      <td>5.400000</td>\n",
       "      <td>0.400000</td>\n",
       "      <td>0.0</td>\n",
       "      <td>44.000000</td>\n",
       "      <td>14.0</td>\n",
       "      <td>...</td>\n",
       "      <td>65.000000</td>\n",
       "      <td>37.000000</td>\n",
       "      <td>1014.0</td>\n",
       "      <td>1008.8</td>\n",
       "      <td>7.000000</td>\n",
       "      <td>8.000000</td>\n",
       "      <td>14.000000</td>\n",
       "      <td>21.800000</td>\n",
       "      <td>1.0</td>\n",
       "      <td>0.0</td>\n",
       "    </tr>\n",
       "    <tr>\n",
       "      <th>2</th>\n",
       "      <td>08-11-2015</td>\n",
       "      <td>2.0</td>\n",
       "      <td>6.200000</td>\n",
       "      <td>25.7</td>\n",
       "      <td>0.0</td>\n",
       "      <td>4.200000</td>\n",
       "      <td>10.900000</td>\n",
       "      <td>1.0</td>\n",
       "      <td>20.000000</td>\n",
       "      <td>11.0</td>\n",
       "      <td>...</td>\n",
       "      <td>71.000000</td>\n",
       "      <td>28.000000</td>\n",
       "      <td>1022.5</td>\n",
       "      <td>1019.4</td>\n",
       "      <td>2.000000</td>\n",
       "      <td>7.000000</td>\n",
       "      <td>12.800000</td>\n",
       "      <td>23.600000</td>\n",
       "      <td>1.0</td>\n",
       "      <td>1.0</td>\n",
       "    </tr>\n",
       "    <tr>\n",
       "      <th>3</th>\n",
       "      <td>21-11-2012</td>\n",
       "      <td>3.0</td>\n",
       "      <td>13.800000</td>\n",
       "      <td>22.8</td>\n",
       "      <td>0.0</td>\n",
       "      <td>5.467535</td>\n",
       "      <td>7.627004</td>\n",
       "      <td>2.0</td>\n",
       "      <td>70.000000</td>\n",
       "      <td>8.0</td>\n",
       "      <td>...</td>\n",
       "      <td>65.000000</td>\n",
       "      <td>76.000000</td>\n",
       "      <td>1017.0</td>\n",
       "      <td>1010.6</td>\n",
       "      <td>4.432261</td>\n",
       "      <td>4.502492</td>\n",
       "      <td>18.900000</td>\n",
       "      <td>20.600000</td>\n",
       "      <td>1.0</td>\n",
       "      <td>1.0</td>\n",
       "    </tr>\n",
       "    <tr>\n",
       "      <th>4</th>\n",
       "      <td>30-07-2013</td>\n",
       "      <td>4.0</td>\n",
       "      <td>13.400000</td>\n",
       "      <td>27.2</td>\n",
       "      <td>0.0</td>\n",
       "      <td>6.000000</td>\n",
       "      <td>10.200000</td>\n",
       "      <td>3.0</td>\n",
       "      <td>30.000000</td>\n",
       "      <td>2.0</td>\n",
       "      <td>...</td>\n",
       "      <td>61.000000</td>\n",
       "      <td>46.000000</td>\n",
       "      <td>1016.8</td>\n",
       "      <td>1011.8</td>\n",
       "      <td>1.000000</td>\n",
       "      <td>1.000000</td>\n",
       "      <td>21.700000</td>\n",
       "      <td>25.600000</td>\n",
       "      <td>1.0</td>\n",
       "      <td>1.0</td>\n",
       "    </tr>\n",
       "    <tr>\n",
       "      <th>...</th>\n",
       "      <td>...</td>\n",
       "      <td>...</td>\n",
       "      <td>...</td>\n",
       "      <td>...</td>\n",
       "      <td>...</td>\n",
       "      <td>...</td>\n",
       "      <td>...</td>\n",
       "      <td>...</td>\n",
       "      <td>...</td>\n",
       "      <td>...</td>\n",
       "      <td>...</td>\n",
       "      <td>...</td>\n",
       "      <td>...</td>\n",
       "      <td>...</td>\n",
       "      <td>...</td>\n",
       "      <td>...</td>\n",
       "      <td>...</td>\n",
       "      <td>...</td>\n",
       "      <td>...</td>\n",
       "      <td>...</td>\n",
       "      <td>...</td>\n",
       "    </tr>\n",
       "    <tr>\n",
       "      <th>99995</th>\n",
       "      <td>27-01-2013</td>\n",
       "      <td>31.0</td>\n",
       "      <td>17.600000</td>\n",
       "      <td>34.4</td>\n",
       "      <td>0.0</td>\n",
       "      <td>15.600000</td>\n",
       "      <td>12.900000</td>\n",
       "      <td>11.0</td>\n",
       "      <td>44.000000</td>\n",
       "      <td>11.0</td>\n",
       "      <td>...</td>\n",
       "      <td>19.000000</td>\n",
       "      <td>11.000000</td>\n",
       "      <td>1011.1</td>\n",
       "      <td>1006.4</td>\n",
       "      <td>1.000000</td>\n",
       "      <td>1.000000</td>\n",
       "      <td>25.600000</td>\n",
       "      <td>33.500000</td>\n",
       "      <td>1.0</td>\n",
       "      <td>1.0</td>\n",
       "    </tr>\n",
       "    <tr>\n",
       "      <th>99996</th>\n",
       "      <td>14-08-2010</td>\n",
       "      <td>42.0</td>\n",
       "      <td>10.200000</td>\n",
       "      <td>15.9</td>\n",
       "      <td>0.0</td>\n",
       "      <td>3.800000</td>\n",
       "      <td>3.800000</td>\n",
       "      <td>8.0</td>\n",
       "      <td>89.000000</td>\n",
       "      <td>8.0</td>\n",
       "      <td>...</td>\n",
       "      <td>55.000000</td>\n",
       "      <td>46.000000</td>\n",
       "      <td>1007.4</td>\n",
       "      <td>1000.7</td>\n",
       "      <td>7.000000</td>\n",
       "      <td>7.000000</td>\n",
       "      <td>12.700000</td>\n",
       "      <td>15.500000</td>\n",
       "      <td>1.0</td>\n",
       "      <td>1.0</td>\n",
       "    </tr>\n",
       "    <tr>\n",
       "      <th>99997</th>\n",
       "      <td>26-10-2015</td>\n",
       "      <td>39.0</td>\n",
       "      <td>17.100000</td>\n",
       "      <td>26.4</td>\n",
       "      <td>0.0</td>\n",
       "      <td>7.000000</td>\n",
       "      <td>5.200000</td>\n",
       "      <td>4.0</td>\n",
       "      <td>85.000000</td>\n",
       "      <td>8.0</td>\n",
       "      <td>...</td>\n",
       "      <td>50.000000</td>\n",
       "      <td>58.000000</td>\n",
       "      <td>1014.3</td>\n",
       "      <td>1014.4</td>\n",
       "      <td>3.000000</td>\n",
       "      <td>7.000000</td>\n",
       "      <td>25.000000</td>\n",
       "      <td>21.600000</td>\n",
       "      <td>1.0</td>\n",
       "      <td>0.0</td>\n",
       "    </tr>\n",
       "    <tr>\n",
       "      <th>99998</th>\n",
       "      <td>06-04-2012</td>\n",
       "      <td>5.0</td>\n",
       "      <td>12.190559</td>\n",
       "      <td>17.9</td>\n",
       "      <td>0.8</td>\n",
       "      <td>3.800000</td>\n",
       "      <td>2.100000</td>\n",
       "      <td>4.0</td>\n",
       "      <td>39.986818</td>\n",
       "      <td>8.0</td>\n",
       "      <td>...</td>\n",
       "      <td>68.845599</td>\n",
       "      <td>51.491155</td>\n",
       "      <td>1029.5</td>\n",
       "      <td>1027.8</td>\n",
       "      <td>4.432261</td>\n",
       "      <td>4.502492</td>\n",
       "      <td>16.986879</td>\n",
       "      <td>21.685637</td>\n",
       "      <td>1.0</td>\n",
       "      <td>1.0</td>\n",
       "    </tr>\n",
       "    <tr>\n",
       "      <th>99999</th>\n",
       "      <td>21-03-2017</td>\n",
       "      <td>44.0</td>\n",
       "      <td>17.500000</td>\n",
       "      <td>21.4</td>\n",
       "      <td>0.0</td>\n",
       "      <td>8.000000</td>\n",
       "      <td>1.200000</td>\n",
       "      <td>5.0</td>\n",
       "      <td>39.000000</td>\n",
       "      <td>3.0</td>\n",
       "      <td>...</td>\n",
       "      <td>53.000000</td>\n",
       "      <td>78.000000</td>\n",
       "      <td>1009.9</td>\n",
       "      <td>1005.7</td>\n",
       "      <td>7.000000</td>\n",
       "      <td>7.000000</td>\n",
       "      <td>19.400000</td>\n",
       "      <td>18.300000</td>\n",
       "      <td>1.0</td>\n",
       "      <td>0.0</td>\n",
       "    </tr>\n",
       "  </tbody>\n",
       "</table>\n",
       "<p>100000 rows × 23 columns</p>\n",
       "</div>"
      ],
      "text/plain": [
       "             Date  Location    MinTemp  MaxTemp  Rainfall  Evaporation  \\\n",
       "0      07-02-2014       0.0  17.700000     25.9       2.2     1.600000   \n",
       "1      23-04-2009       1.0   6.700000     22.0       0.0     5.400000   \n",
       "2      08-11-2015       2.0   6.200000     25.7       0.0     4.200000   \n",
       "3      21-11-2012       3.0  13.800000     22.8       0.0     5.467535   \n",
       "4      30-07-2013       4.0  13.400000     27.2       0.0     6.000000   \n",
       "...           ...       ...        ...      ...       ...          ...   \n",
       "99995  27-01-2013      31.0  17.600000     34.4       0.0    15.600000   \n",
       "99996  14-08-2010      42.0  10.200000     15.9       0.0     3.800000   \n",
       "99997  26-10-2015      39.0  17.100000     26.4       0.0     7.000000   \n",
       "99998  06-04-2012       5.0  12.190559     17.9       0.8     3.800000   \n",
       "99999  21-03-2017      44.0  17.500000     21.4       0.0     8.000000   \n",
       "\n",
       "        Sunshine  WindGustDir  WindGustSpeed  WindDir9am  ...  Humidity9am  \\\n",
       "0       7.627004          0.0      31.000000         6.0  ...    76.000000   \n",
       "1       0.400000          0.0      44.000000        14.0  ...    65.000000   \n",
       "2      10.900000          1.0      20.000000        11.0  ...    71.000000   \n",
       "3       7.627004          2.0      70.000000         8.0  ...    65.000000   \n",
       "4      10.200000          3.0      30.000000         2.0  ...    61.000000   \n",
       "...          ...          ...            ...         ...  ...          ...   \n",
       "99995  12.900000         11.0      44.000000        11.0  ...    19.000000   \n",
       "99996   3.800000          8.0      89.000000         8.0  ...    55.000000   \n",
       "99997   5.200000          4.0      85.000000         8.0  ...    50.000000   \n",
       "99998   2.100000          4.0      39.986818         8.0  ...    68.845599   \n",
       "99999   1.200000          5.0      39.000000         3.0  ...    53.000000   \n",
       "\n",
       "       Humidity3pm  Pressure9am  Pressure3pm  Cloud9am  Cloud3pm    Temp9am  \\\n",
       "0        66.000000       1017.3       1016.5  7.000000  4.000000  21.500000   \n",
       "1        37.000000       1014.0       1008.8  7.000000  8.000000  14.000000   \n",
       "2        28.000000       1022.5       1019.4  2.000000  7.000000  12.800000   \n",
       "3        76.000000       1017.0       1010.6  4.432261  4.502492  18.900000   \n",
       "4        46.000000       1016.8       1011.8  1.000000  1.000000  21.700000   \n",
       "...            ...          ...          ...       ...       ...        ...   \n",
       "99995    11.000000       1011.1       1006.4  1.000000  1.000000  25.600000   \n",
       "99996    46.000000       1007.4       1000.7  7.000000  7.000000  12.700000   \n",
       "99997    58.000000       1014.3       1014.4  3.000000  7.000000  25.000000   \n",
       "99998    51.491155       1029.5       1027.8  4.432261  4.502492  16.986879   \n",
       "99999    78.000000       1009.9       1005.7  7.000000  7.000000  19.400000   \n",
       "\n",
       "         Temp3pm  RainToday  RainTomorrow  \n",
       "0      24.200000        0.0           1.0  \n",
       "1      21.800000        1.0           0.0  \n",
       "2      23.600000        1.0           1.0  \n",
       "3      20.600000        1.0           1.0  \n",
       "4      25.600000        1.0           1.0  \n",
       "...          ...        ...           ...  \n",
       "99995  33.500000        1.0           1.0  \n",
       "99996  15.500000        1.0           1.0  \n",
       "99997  21.600000        1.0           0.0  \n",
       "99998  21.685637        1.0           1.0  \n",
       "99999  18.300000        1.0           0.0  \n",
       "\n",
       "[100000 rows x 23 columns]"
      ]
     },
     "execution_count": 103,
     "metadata": {},
     "output_type": "execute_result"
    }
   ],
   "source": [
    "df"
   ]
  },
  {
   "cell_type": "code",
   "execution_count": 104,
   "id": "5156f68d",
   "metadata": {},
   "outputs": [
    {
     "data": {
      "text/plain": [
       "Index(['MinTemp', 'MaxTemp', 'Rainfall', 'Evaporation', 'Sunshine',\n",
       "       'WindGustSpeed', 'WindSpeed9am', 'WindSpeed3pm', 'Humidity9am',\n",
       "       'Humidity3pm', 'Pressure9am', 'Pressure3pm', 'Cloud9am', 'Cloud3pm',\n",
       "       'Temp9am', 'Temp3pm'],\n",
       "      dtype='object')"
      ]
     },
     "execution_count": 104,
     "metadata": {},
     "output_type": "execute_result"
    }
   ],
   "source": [
    "remove_columns = ['Date','Location','RainToday','RainTomorrow','WindGustDir','WindDir9am','WindDir3pm']\n",
    "df_outlier = df.drop(columns=remove_columns)\n",
    "df_outlier.columns"
   ]
  },
  {
   "cell_type": "code",
   "execution_count": 105,
   "id": "1c4bffbc",
   "metadata": {},
   "outputs": [
    {
     "data": {
      "image/png": "[encoded data removed]",
      "text/plain": [
       "<Figure size 720x1152 with 25 Axes>"
      ]
     },
     "metadata": {
      "needs_background": "light"
     },
     "output_type": "display_data"
    }
   ],
   "source": [
    "df_outlier.plot(subplots=True, layout=(5,5), kind='box', figsize=(10,16))\n",
    "plt.tight_layout()"
   ]
  },
  {
   "cell_type": "code",
   "execution_count": 110,
   "id": "e79d8f3c",
   "metadata": {},
   "outputs": [
    {
     "name": "stdout",
     "output_type": "stream",
     "text": [
      "<class 'pandas.core.frame.DataFrame'>\n",
      "RangeIndex: 100000 entries, 0 to 99999\n",
      "Data columns (total 23 columns):\n",
      " #   Column         Non-Null Count   Dtype  \n",
      "---  ------         --------------   -----  \n",
      " 0   Date           100000 non-null  object \n",
      " 1   Location       100000 non-null  float64\n",
      " 2   MinTemp        100000 non-null  float64\n",
      " 3   MaxTemp        100000 non-null  float64\n",
      " 4   Rainfall       100000 non-null  float64\n",
      " 5   Evaporation    100000 non-null  float64\n",
      " 6   Sunshine       100000 non-null  float64\n",
      " 7   WindGustDir    100000 non-null  float64\n",
      " 8   WindGustSpeed  100000 non-null  float64\n",
      " 9   WindDir9am     100000 non-null  float64\n",
      " 10  WindDir3pm     100000 non-null  float64\n",
      " 11  WindSpeed9am   100000 non-null  float64\n",
      " 12  WindSpeed3pm   100000 non-null  float64\n",
      " 13  Humidity9am    100000 non-null  float64\n",
      " 14  Humidity3pm    100000 non-null  float64\n",
      " 15  Pressure9am    100000 non-null  float64\n",
      " 16  Pressure3pm    100000 non-null  float64\n",
      " 17  Cloud9am       100000 non-null  float64\n",
      " 18  Cloud3pm       100000 non-null  float64\n",
      " 19  Temp9am        100000 non-null  float64\n",
      " 20  Temp3pm        100000 non-null  float64\n",
      " 21  RainToday      100000 non-null  float64\n",
      " 22  RainTomorrow   100000 non-null  float64\n",
      "dtypes: float64(22), object(1)\n",
      "memory usage: 17.5+ MB\n"
     ]
    }
   ],
   "source": [
    "df.info()"
   ]
  },
  {
   "cell_type": "code",
   "execution_count": 114,
   "id": "e0d9ae5e",
   "metadata": {},
   "outputs": [
    {
     "data": {
      "image/png": "[encoded data removed]",
      "text/plain": [
       "<Figure size 720x576 with 2 Axes>"
      ]
     },
     "metadata": {
      "needs_background": "light"
     },
     "output_type": "display_data"
    }
   ],
   "source": [
    "df_indep = pd.DataFrame(df[['RainToday','RainTomorrow','Rainfall','Evaporation','Sunshine','WindGustDir','WindGustSpeed']])\n",
    "\n",
    "plt.figure(figsize=(10,8))\n",
    "sns.heatmap(df_indep.corr().round(2), annot=True)\n",
    "plt.title('Correlation Matrix')\n",
    "plt.suptitle('Rain Factor')\n",
    "plt.tight_layout()"
   ]
  },
  {
   "cell_type": "markdown",
   "id": "36a5004c",
   "metadata": {},
   "source": [
    "*Korelasi antara hujan dan terangnya cuaca menunjukkan adanya sedikit pengaruh*"
   ]
  },
  {
   "cell_type": "code",
   "execution_count": 116,
   "id": "9ef405f0",
   "metadata": {},
   "outputs": [
    {
     "data": {
      "image/png": "[encoded data removed]",
      "text/plain": [
       "<Figure size 720x576 with 2 Axes>"
      ]
     },
     "metadata": {
      "needs_background": "light"
     },
     "output_type": "display_data"
    }
   ],
   "source": [
    "df_indep = pd.DataFrame(df[['RainToday','RainTomorrow','MinTemp','MaxTemp','Temp9am','Temp3pm']])\n",
    "\n",
    "plt.figure(figsize=(10,8))\n",
    "sns.heatmap(df_indep.corr().round(2), annot=True)\n",
    "plt.title('Correlation Matrix')\n",
    "plt.suptitle('Rain Factor')\n",
    "plt.tight_layout()"
   ]
  },
  {
   "cell_type": "markdown",
   "id": "cddaaef7",
   "metadata": {},
   "source": [
    "*Cuaca hujan menunjukkan adanya sedikit korelasi dengan temperatur pada jam tertentu*"
   ]
  },
  {
   "cell_type": "code",
   "execution_count": 117,
   "id": "32e9904b",
   "metadata": {},
   "outputs": [
    {
     "data": {
      "image/png": "[encoded data removed]",
      "text/plain": [
       "<Figure size 720x576 with 2 Axes>"
      ]
     },
     "metadata": {
      "needs_background": "light"
     },
     "output_type": "display_data"
    }
   ],
   "source": [
    "df_indep = pd.DataFrame(df[['RainToday','RainTomorrow','WindGustDir','WindGustSpeed','WindDir9am',\n",
    "                            'WindDir3pm','WindSpeed9am','WindSpeed3pm']])\n",
    "\n",
    "plt.figure(figsize=(10,8))\n",
    "sns.heatmap(df_indep.corr().round(2), annot=True)\n",
    "plt.title('Correlation Matrix')\n",
    "plt.suptitle('Rain Factor')\n",
    "plt.tight_layout()"
   ]
  },
  {
   "cell_type": "markdown",
   "id": "d299b21b",
   "metadata": {},
   "source": [
    "Cuaca Hujan menunjukkan korelasi sangat sedikit dengan angin"
   ]
  },
  {
   "cell_type": "code",
   "execution_count": 118,
   "id": "a50e318c",
   "metadata": {},
   "outputs": [
    {
     "data": {
      "image/png": "[encoded data removed]",
      "text/plain": [
       "<Figure size 720x576 with 2 Axes>"
      ]
     },
     "metadata": {
      "needs_background": "light"
     },
     "output_type": "display_data"
    }
   ],
   "source": [
    "df_indep = pd.DataFrame(df[['RainToday','RainTomorrow','Humidity9am','Pressure9am','Cloud9am',\n",
    "                           'Humidity3pm','Pressure3pm','Cloud3pm']])\n",
    "\n",
    "plt.figure(figsize=(10,8))\n",
    "sns.heatmap(df_indep.corr().round(2), annot=True)\n",
    "plt.title('Correlation Matrix')\n",
    "plt.suptitle('Rain Factor')\n",
    "plt.tight_layout()"
   ]
  },
  {
   "cell_type": "markdown",
   "id": "741a2a57",
   "metadata": {},
   "source": [
    "Cuaca hujan menunjukkan sedikit pengaruh terhadap tekanan udara"
   ]
  },
  {
   "cell_type": "markdown",
   "id": "6aa302df",
   "metadata": {},
   "source": [
    "# Split Data"
   ]
  },
  {
   "cell_type": "code",
   "execution_count": 132,
   "id": "2ab41eb6",
   "metadata": {},
   "outputs": [],
   "source": [
    "X = df.drop(['RainTomorrow'],axis=1)\n",
    "Y = df['RainTomorrow']"
   ]
  },
  {
   "cell_type": "code",
   "execution_count": 133,
   "id": "ba5f6c51",
   "metadata": {},
   "outputs": [],
   "source": [
    "X_train, X_test,Y_train, Y_test = train_test_split(X, Y, test_size=0.02, random_state = 0)"
   ]
  },
  {
   "cell_type": "markdown",
   "id": "b692ab41",
   "metadata": {},
   "source": [
    "# Decision Tree"
   ]
  },
  {
   "cell_type": "code",
   "execution_count": 134,
   "id": "6d0ee3ec",
   "metadata": {},
   "outputs": [
    {
     "data": {
      "text/plain": [
       "0.815"
      ]
     },
     "execution_count": 134,
     "metadata": {},
     "output_type": "execute_result"
    }
   ],
   "source": [
    "from sklearn import tree\n",
    "df_decision_tree = tree.DecisionTreeClassifier(ccp_alpha=0.01)#build\n",
    "df_decision_tree.fit(X_train,Y_train)#train\n",
    "df_decision_tree.score(X_test,Y_test)#predict\n",
    "\n",
    "y_pred = df_decision_tree.predict(X_test)\n",
    "df_decision_tree.score(X_test,Y_test)"
   ]
  },
  {
   "cell_type": "code",
   "execution_count": 135,
   "id": "eac78c26",
   "metadata": {},
   "outputs": [
    {
     "data": {
      "text/plain": [
       "array([[ 230,  246],\n",
       "       [ 124, 1400]], dtype=int64)"
      ]
     },
     "execution_count": 135,
     "metadata": {},
     "output_type": "execute_result"
    }
   ],
   "source": [
    "y_pred = df_decision_tree.predict(X_test)\n",
    "from sklearn.metrics import confusion_matrix\n",
    "confusion_matrix(Y_test, y_pred)"
   ]
  },
  {
   "cell_type": "code",
   "execution_count": 136,
   "id": "26ec87ce",
   "metadata": {},
   "outputs": [
    {
     "data": {
      "text/plain": [
       "Index(['Location', 'MinTemp', 'MaxTemp', 'Rainfall', 'Evaporation', 'Sunshine',\n",
       "       'WindGustDir', 'WindGustSpeed', 'WindDir9am', 'WindDir3pm',\n",
       "       'WindSpeed9am', 'WindSpeed3pm', 'Humidity9am', 'Humidity3pm',\n",
       "       'Pressure9am', 'Pressure3pm', 'Cloud9am', 'Cloud3pm', 'Temp9am',\n",
       "       'Temp3pm', 'RainToday'],\n",
       "      dtype='object')"
      ]
     },
     "execution_count": 136,
     "metadata": {},
     "output_type": "execute_result"
    }
   ],
   "source": [
    "feature_names = X.columns\n",
    "feature_names"
   ]
  },
  {
   "cell_type": "code",
   "execution_count": 137,
   "id": "e9aed927",
   "metadata": {},
   "outputs": [],
   "source": [
    "from sklearn.tree import export_graphviz\n",
    "export_graphviz(df_decision_tree, out_file=\"Decision_Tree_Survived.dot\", class_names=[\"Rain\",\"NotRain\"],\n",
    "               feature_names=feature_names, impurity=False, filled=True)"
   ]
  },
  {
   "cell_type": "code",
   "execution_count": 138,
   "id": "047adc46",
   "metadata": {},
   "outputs": [
    {
     "data": {
      "image/png": "[encoded data removed]",
      "text/plain": [
       "<Figure size 1800x1800 with 1 Axes>"
      ]
     },
     "metadata": {
      "needs_background": "light"
     },
     "output_type": "display_data"
    }
   ],
   "source": [
    "from sklearn import tree\n",
    "from matplotlib import pyplot as plt\n",
    "fig = plt.figure (figsize=(25,25))\n",
    "_=tree.plot_tree(df_decision_tree, \n",
    "                   feature_names= feature_names,\n",
    "                  class_names={0: 'Rain',1: 'NotRain'},\n",
    "                   filled=True,\n",
    "                   fontsize=12)"
   ]
  },
  {
   "cell_type": "code",
   "execution_count": 139,
   "id": "9aa3c0ba",
   "metadata": {},
   "outputs": [
    {
     "data": {
      "text/html": [
       "<div>\n",
       "<style scoped>\n",
       "    .dataframe tbody tr th:only-of-type {\n",
       "        vertical-align: middle;\n",
       "    }\n",
       "\n",
       "    .dataframe tbody tr th {\n",
       "        vertical-align: top;\n",
       "    }\n",
       "\n",
       "    .dataframe thead th {\n",
       "        text-align: right;\n",
       "    }\n",
       "</style>\n",
       "<table border=\"1\" class=\"dataframe\">\n",
       "  <thead>\n",
       "    <tr style=\"text-align: right;\">\n",
       "      <th></th>\n",
       "      <th>Location</th>\n",
       "      <th>MinTemp</th>\n",
       "      <th>MaxTemp</th>\n",
       "      <th>Rainfall</th>\n",
       "      <th>Evaporation</th>\n",
       "      <th>Sunshine</th>\n",
       "      <th>WindGustDir</th>\n",
       "      <th>WindGustSpeed</th>\n",
       "      <th>WindDir9am</th>\n",
       "      <th>WindDir3pm</th>\n",
       "      <th>...</th>\n",
       "      <th>Humidity9am</th>\n",
       "      <th>Humidity3pm</th>\n",
       "      <th>Pressure9am</th>\n",
       "      <th>Pressure3pm</th>\n",
       "      <th>Cloud9am</th>\n",
       "      <th>Cloud3pm</th>\n",
       "      <th>Temp9am</th>\n",
       "      <th>Temp3pm</th>\n",
       "      <th>RainToday</th>\n",
       "      <th>RainTomorrow</th>\n",
       "    </tr>\n",
       "  </thead>\n",
       "  <tbody>\n",
       "    <tr>\n",
       "      <th>0</th>\n",
       "      <td>0.0</td>\n",
       "      <td>17.7</td>\n",
       "      <td>25.9</td>\n",
       "      <td>2.2</td>\n",
       "      <td>1.6</td>\n",
       "      <td>7.627004</td>\n",
       "      <td>0.0</td>\n",
       "      <td>31.0</td>\n",
       "      <td>6.0</td>\n",
       "      <td>15.0</td>\n",
       "      <td>...</td>\n",
       "      <td>76.0</td>\n",
       "      <td>66.0</td>\n",
       "      <td>1017.3</td>\n",
       "      <td>1016.5</td>\n",
       "      <td>7.0</td>\n",
       "      <td>4.0</td>\n",
       "      <td>21.5</td>\n",
       "      <td>24.2</td>\n",
       "      <td>0.0</td>\n",
       "      <td>1.0</td>\n",
       "    </tr>\n",
       "  </tbody>\n",
       "</table>\n",
       "<p>1 rows × 22 columns</p>\n",
       "</div>"
      ],
      "text/plain": [
       "   Location  MinTemp  MaxTemp  Rainfall  Evaporation  Sunshine  WindGustDir  \\\n",
       "0       0.0     17.7     25.9       2.2          1.6  7.627004          0.0   \n",
       "\n",
       "   WindGustSpeed  WindDir9am  WindDir3pm  ...  Humidity9am  Humidity3pm  \\\n",
       "0           31.0         6.0        15.0  ...         76.0         66.0   \n",
       "\n",
       "   Pressure9am  Pressure3pm  Cloud9am  Cloud3pm  Temp9am  Temp3pm  RainToday  \\\n",
       "0       1017.3       1016.5       7.0       4.0     21.5     24.2        0.0   \n",
       "\n",
       "   RainTomorrow  \n",
       "0           1.0  \n",
       "\n",
       "[1 rows x 22 columns]"
      ]
     },
     "execution_count": 139,
     "metadata": {},
     "output_type": "execute_result"
    }
   ],
   "source": [
    "df.head(1)"
   ]
  },
  {
   "cell_type": "code",
   "execution_count": 142,
   "id": "fab96836",
   "metadata": {},
   "outputs": [
    {
     "name": "stderr",
     "output_type": "stream",
     "text": [
      "C:\\Users\\MrBento\\anaconda3\\lib\\site-packages\\sklearn\\base.py:450: UserWarning: X does not have valid feature names, but DecisionTreeClassifier was fitted with feature names\n",
      "  warnings.warn(\n"
     ]
    },
    {
     "data": {
      "text/plain": [
       "array([1.])"
      ]
     },
     "execution_count": 142,
     "metadata": {},
     "output_type": "execute_result"
    }
   ],
   "source": [
    "df_decision_tree.predict([[0,17,7,25,9,2.2,1.6,7.5,0,0,0,0,0,0,0,0,0,0,0,0,0]])"
   ]
  },
  {
   "cell_type": "markdown",
   "id": "b03b2e04",
   "metadata": {},
   "source": [
    "# RandomForest"
   ]
  },
  {
   "cell_type": "code",
   "execution_count": 143,
   "id": "0fb6c655",
   "metadata": {},
   "outputs": [
    {
     "data": {
      "text/plain": [
       "0.858"
      ]
     },
     "execution_count": 143,
     "metadata": {},
     "output_type": "execute_result"
    }
   ],
   "source": [
    "from sklearn import ensemble\n",
    "R_forest = ensemble.RandomForestClassifier(n_estimators=100)\n",
    "R_forest.fit(X_train,Y_train)\n",
    "R_forest.score(X_test,Y_test)"
   ]
  },
  {
   "cell_type": "code",
   "execution_count": 144,
   "id": "9878c74c",
   "metadata": {},
   "outputs": [
    {
     "data": {
      "text/plain": [
       "array([[ 254,  222],\n",
       "       [  62, 1462]], dtype=int64)"
      ]
     },
     "execution_count": 144,
     "metadata": {},
     "output_type": "execute_result"
    }
   ],
   "source": [
    "y_pred = R_forest.predict(X_test)\n",
    "from sklearn.metrics import confusion_matrix\n",
    "confusion_matrix(Y_test, y_pred)"
   ]
  },
  {
   "cell_type": "code",
   "execution_count": 146,
   "id": "6a071537",
   "metadata": {},
   "outputs": [
    {
     "name": "stderr",
     "output_type": "stream",
     "text": [
      "C:\\Users\\MrBento\\anaconda3\\lib\\site-packages\\sklearn\\base.py:450: UserWarning: X does not have valid feature names, but RandomForestClassifier was fitted with feature names\n",
      "  warnings.warn(\n"
     ]
    },
    {
     "data": {
      "text/plain": [
       "array([1.])"
      ]
     },
     "execution_count": 146,
     "metadata": {},
     "output_type": "execute_result"
    }
   ],
   "source": [
    "R_forest.predict([[0,17,7,25,9,2.2,1.6,7.5,0,0,0,0,0,0,0,0,0,0,0,0,0]])"
   ]
  },
  {
   "cell_type": "markdown",
   "id": "1bbd1f02",
   "metadata": {},
   "source": [
    "# Gradient Boosting"
   ]
  },
  {
   "cell_type": "code",
   "execution_count": 147,
   "id": "945d2b81",
   "metadata": {},
   "outputs": [
    {
     "data": {
      "text/plain": [
       "0.8545"
      ]
     },
     "execution_count": 147,
     "metadata": {},
     "output_type": "execute_result"
    }
   ],
   "source": [
    "Grad_B = ensemble.GradientBoostingClassifier()\n",
    "Grad_B.fit(X_train,Y_train)\n",
    "Grad_B.score(X_test,Y_test)"
   ]
  },
  {
   "cell_type": "code",
   "execution_count": 151,
   "id": "080eea46",
   "metadata": {},
   "outputs": [
    {
     "data": {
      "text/plain": [
       "array([[ 251,  225],\n",
       "       [  66, 1458]], dtype=int64)"
      ]
     },
     "execution_count": 151,
     "metadata": {},
     "output_type": "execute_result"
    }
   ],
   "source": [
    "y_pred = Grad_B.predict(X_test)\n",
    "from sklearn.metrics import confusion_matrix\n",
    "confusion_matrix(Y_test, y_pred)"
   ]
  },
  {
   "cell_type": "code",
   "execution_count": 148,
   "id": "08bf7b1d",
   "metadata": {},
   "outputs": [
    {
     "name": "stderr",
     "output_type": "stream",
     "text": [
      "C:\\Users\\MrBento\\anaconda3\\lib\\site-packages\\sklearn\\base.py:450: UserWarning: X does not have valid feature names, but GradientBoostingClassifier was fitted with feature names\n",
      "  warnings.warn(\n"
     ]
    },
    {
     "data": {
      "text/plain": [
       "array([1.])"
      ]
     },
     "execution_count": 148,
     "metadata": {},
     "output_type": "execute_result"
    }
   ],
   "source": [
    "Grad_B.predict([[0,17,7,25,9,2.2,1.6,7.5,0,0,0,0,0,0,0,0,0,0,0,0,0]])"
   ]
  },
  {
   "cell_type": "markdown",
   "id": "421fe165",
   "metadata": {},
   "source": [
    "# Naive Bayes"
   ]
  },
  {
   "cell_type": "code",
   "execution_count": 149,
   "id": "f73e89c2",
   "metadata": {},
   "outputs": [
    {
     "data": {
      "text/plain": [
       "0.812"
      ]
     },
     "execution_count": 149,
     "metadata": {},
     "output_type": "execute_result"
    }
   ],
   "source": [
    "from sklearn.naive_bayes import GaussianNB\n",
    "Naive_B = GaussianNB()\n",
    "Naive_B.fit(X_train,Y_train)\n",
    "Naive_B.score(X_test,Y_test)"
   ]
  },
  {
   "cell_type": "code",
   "execution_count": 150,
   "id": "cdf631c3",
   "metadata": {},
   "outputs": [
    {
     "data": {
      "text/plain": [
       "array([[ 298,  178],\n",
       "       [ 198, 1326]], dtype=int64)"
      ]
     },
     "execution_count": 150,
     "metadata": {},
     "output_type": "execute_result"
    }
   ],
   "source": [
    "y_pred = Naive_B.predict(X_test)\n",
    "from sklearn.metrics import confusion_matrix\n",
    "confusion_matrix(Y_test, y_pred)"
   ]
  },
  {
   "cell_type": "code",
   "execution_count": 155,
   "id": "a03f9d1e",
   "metadata": {},
   "outputs": [
    {
     "name": "stderr",
     "output_type": "stream",
     "text": [
      "C:\\Users\\MrBento\\anaconda3\\lib\\site-packages\\sklearn\\base.py:450: UserWarning: X does not have valid feature names, but GaussianNB was fitted with feature names\n",
      "  warnings.warn(\n"
     ]
    },
    {
     "data": {
      "text/plain": [
       "array([0.])"
      ]
     },
     "execution_count": 155,
     "metadata": {},
     "output_type": "execute_result"
    }
   ],
   "source": [
    "Naive_B.predict([[0,17,7,25,9,2.2,1.6,7.5,0,0,0,0,0,0,0,0,0,0,0,0,0]])"
   ]
  },
  {
   "cell_type": "markdown",
   "id": "50457e1d",
   "metadata": {},
   "source": [
    "# K-Nearest Neighbor"
   ]
  },
  {
   "cell_type": "code",
   "execution_count": 152,
   "id": "9a451c5a",
   "metadata": {},
   "outputs": [
    {
     "data": {
      "text/plain": [
       "0.8325"
      ]
     },
     "execution_count": 152,
     "metadata": {},
     "output_type": "execute_result"
    }
   ],
   "source": [
    "from sklearn.neighbors import KNeighborsClassifier\n",
    "K_Nearest_N = KNeighborsClassifier(n_neighbors=3)\n",
    "K_Nearest_N.fit(X_train,Y_train)\n",
    "K_Nearest_N.score(X_test,Y_test)"
   ]
  },
  {
   "cell_type": "code",
   "execution_count": 153,
   "id": "c7aafc4a",
   "metadata": {},
   "outputs": [
    {
     "data": {
      "text/plain": [
       "array([[ 249,  227],\n",
       "       [ 108, 1416]], dtype=int64)"
      ]
     },
     "execution_count": 153,
     "metadata": {},
     "output_type": "execute_result"
    }
   ],
   "source": [
    "y_pred = K_Nearest_N.predict(X_test)\n",
    "from sklearn.metrics import confusion_matrix\n",
    "confusion_matrix(Y_test, y_pred)"
   ]
  },
  {
   "cell_type": "code",
   "execution_count": 154,
   "id": "97c0146d",
   "metadata": {},
   "outputs": [
    {
     "name": "stderr",
     "output_type": "stream",
     "text": [
      "C:\\Users\\MrBento\\anaconda3\\lib\\site-packages\\sklearn\\base.py:450: UserWarning: X does not have valid feature names, but KNeighborsClassifier was fitted with feature names\n",
      "  warnings.warn(\n"
     ]
    },
    {
     "data": {
      "text/plain": [
       "array([0.])"
      ]
     },
     "execution_count": 154,
     "metadata": {},
     "output_type": "execute_result"
    }
   ],
   "source": [
    "K_Nearest_N.predict([[0,17,7,25,9,2.2,1.6,7.5,0,0,0,0,0,0,0,0,0,0,0,0,0]])"
   ]
  },
  {
   "cell_type": "markdown",
   "id": "8ea63202",
   "metadata": {},
   "source": [
    "# Logistic Regression"
   ]
  },
  {
   "cell_type": "code",
   "execution_count": 156,
   "id": "100d95bd",
   "metadata": {},
   "outputs": [
    {
     "name": "stderr",
     "output_type": "stream",
     "text": [
      "C:\\Users\\MrBento\\anaconda3\\lib\\site-packages\\sklearn\\linear_model\\_logistic.py:444: ConvergenceWarning: lbfgs failed to converge (status=1):\n",
      "STOP: TOTAL NO. of ITERATIONS REACHED LIMIT.\n",
      "\n",
      "Increase the number of iterations (max_iter) or scale the data as shown in:\n",
      "    https://scikit-learn.org/stable/modules/preprocessing.html\n",
      "Please also refer to the documentation for alternative solver options:\n",
      "    https://scikit-learn.org/stable/modules/linear_model.html#logistic-regression\n",
      "  n_iter_i = _check_optimize_result(\n"
     ]
    },
    {
     "data": {
      "text/plain": [
       "0.839"
      ]
     },
     "execution_count": 156,
     "metadata": {},
     "output_type": "execute_result"
    }
   ],
   "source": [
    "from sklearn.linear_model import LogisticRegression\n",
    "Logistic_R = LogisticRegression()\n",
    "Logistic_R.fit(X_train,Y_train)\n",
    "Logistic_R.score(X_test,Y_test)"
   ]
  },
  {
   "cell_type": "code",
   "execution_count": 157,
   "id": "084fef89",
   "metadata": {},
   "outputs": [
    {
     "data": {
      "text/plain": [
       "array([[ 228,  248],\n",
       "       [  74, 1450]], dtype=int64)"
      ]
     },
     "execution_count": 157,
     "metadata": {},
     "output_type": "execute_result"
    }
   ],
   "source": [
    "y_pred = Logistic_R.predict(X_test)\n",
    "from sklearn.metrics import confusion_matrix\n",
    "confusion_matrix(Y_test, y_pred)"
   ]
  },
  {
   "cell_type": "code",
   "execution_count": 158,
   "id": "8ad17517",
   "metadata": {},
   "outputs": [
    {
     "name": "stderr",
     "output_type": "stream",
     "text": [
      "C:\\Users\\MrBento\\anaconda3\\lib\\site-packages\\sklearn\\base.py:450: UserWarning: X does not have valid feature names, but LogisticRegression was fitted with feature names\n",
      "  warnings.warn(\n"
     ]
    },
    {
     "data": {
      "text/plain": [
       "array([0.])"
      ]
     },
     "execution_count": 158,
     "metadata": {},
     "output_type": "execute_result"
    }
   ],
   "source": [
    "Logistic_R.predict([[0,17,7,25,9,2.2,1.6,7.5,0,0,0,0,0,0,0,0,0,0,0,0,0]])"
   ]
  },
  {
   "cell_type": "markdown",
   "id": "dda373de",
   "metadata": {},
   "source": [
    "# Kesimpulan"
   ]
  },
  {
   "cell_type": "markdown",
   "id": "329d95ab",
   "metadata": {},
   "source": [
    "- *Keadaan Hujan berpengaruh terhadap **banyak** sekali faktor*\n",
    "- *Machine Learning yang dapat digunakan sesuai score diatas adalah **Random Forest**, karena memiliki tingkat keakuratan paling tinggi yaitu **85.8 %**.*"
   ]
  }
 ],
 "metadata": {
  "kernelspec": {
   "display_name": "Python 3 (ipykernel)",
   "language": "python",
   "name": "python3"
  },
  "language_info": {
   "codemirror_mode": {
    "name": "ipython",
    "version": 3
   },
   "file_extension": ".py",
   "mimetype": "text/x-python",
   "name": "python",
   "nbconvert_exporter": "python",
   "pygments_lexer": "ipython3",
   "version": "3.9.7"
  }
 },
 "nbformat": 4,
 "nbformat_minor": 5
}
